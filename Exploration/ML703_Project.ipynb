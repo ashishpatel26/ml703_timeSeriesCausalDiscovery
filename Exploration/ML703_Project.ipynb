{
  "nbformat": 4,
  "nbformat_minor": 2,
  "metadata": {
    "colab": {
      "name": "ML703_Project.ipynb",
      "provenance": []
    },
    "kernelspec": {
      "name": "python3",
      "display_name": "Python 3.8.11 64-bit ('tigramite': conda)"
    },
    "language_info": {
      "name": "python",
      "version": "3.7.11",
      "mimetype": "text/x-python",
      "codemirror_mode": {
        "name": "ipython",
        "version": 3
      },
      "pygments_lexer": "ipython3",
      "nbconvert_exporter": "python",
      "file_extension": ".py"
    },
    "interpreter": {
      "hash": "dd7bbbc6676346622c5ab670a1b2db1646d1e351d51851fad8faab3ac3f4a710"
    }
  },
  "cells": [
    {
      "cell_type": "markdown",
      "source": [
        "# Analysing Performance of Stocks using Causal Discovery"
      ],
      "metadata": {
        "id": "VjnaRzCQOE4N"
      }
    },
    {
      "cell_type": "markdown",
      "source": [
        "## Setup\n",
        "\n",
        "Import the datasets:"
      ],
      "metadata": {
        "id": "TahcpxGSONkI"
      }
    },
    {
      "cell_type": "code",
      "execution_count": 426,
      "source": [
        "%%capture\r\n"
      ],
      "outputs": [
        {
          "output_type": "stream",
          "name": "stderr",
          "text": [
            "UsageError: %%capture is a cell magic, but the cell body is empty.\n"
          ]
        }
      ],
      "metadata": {
        "colab": {
          "base_uri": "https://localhost:8080/"
        },
        "id": "Te5Ratn6OA8s",
        "outputId": "872c95ee-6772-4189-baf2-f9b2509aa0d2"
      }
    },
    {
      "cell_type": "markdown",
      "source": [
        "## Data Loading"
      ],
      "metadata": {}
    },
    {
      "cell_type": "code",
      "execution_count": 427,
      "source": [
        "import pandas as pd\r\n",
        "import numpy as np\r\n",
        "import matplotlib.pyplot as plt"
      ],
      "outputs": [],
      "metadata": {}
    },
    {
      "cell_type": "code",
      "execution_count": 428,
      "source": [
        "data_dir = \"C:/Users/diego/iCloudDrive/Documents/MBZUAI Sem/Semester 2/ML703 Probabilistic and Statistical Inference/Project/JN/Datasets/\"\r\n",
        "\r\n",
        "company = pd.read_csv(data_dir + \"Company.csv\")\r\n",
        "companyValues = pd.read_csv(data_dir + \"CompanyValues.csv\")\r\n",
        "companyTweet = pd.read_csv(data_dir + \"Company_Tweet.csv\")\r\n",
        "tweet = pd.read_csv(data_dir + \"Tweet.csv\")\r\n",
        "tweet = tweet.merge(companyTweet, on=\"tweet_id\", how='inner')"
      ],
      "outputs": [],
      "metadata": {}
    },
    {
      "cell_type": "code",
      "execution_count": 429,
      "source": [
        "company.ticker_symbol.unique()"
      ],
      "outputs": [
        {
          "output_type": "execute_result",
          "data": {
            "text/plain": [
              "array(['AAPL', 'GOOG', 'GOOGL', 'AMZN', 'TSLA', 'MSFT'], dtype=object)"
            ]
          },
          "metadata": {},
          "execution_count": 429
        }
      ],
      "metadata": {}
    },
    {
      "cell_type": "code",
      "execution_count": 430,
      "source": [
        "companyValues.head()"
      ],
      "outputs": [
        {
          "output_type": "execute_result",
          "data": {
            "text/html": [
              "<div>\n",
              "<style scoped>\n",
              "    .dataframe tbody tr th:only-of-type {\n",
              "        vertical-align: middle;\n",
              "    }\n",
              "\n",
              "    .dataframe tbody tr th {\n",
              "        vertical-align: top;\n",
              "    }\n",
              "\n",
              "    .dataframe thead th {\n",
              "        text-align: right;\n",
              "    }\n",
              "</style>\n",
              "<table border=\"1\" class=\"dataframe\">\n",
              "  <thead>\n",
              "    <tr style=\"text-align: right;\">\n",
              "      <th></th>\n",
              "      <th>ticker_symbol</th>\n",
              "      <th>day_date</th>\n",
              "      <th>close_value</th>\n",
              "      <th>volume</th>\n",
              "      <th>open_value</th>\n",
              "      <th>high_value</th>\n",
              "      <th>low_value</th>\n",
              "    </tr>\n",
              "  </thead>\n",
              "  <tbody>\n",
              "    <tr>\n",
              "      <th>0</th>\n",
              "      <td>AAPL</td>\n",
              "      <td>2020-05-29</td>\n",
              "      <td>317.94</td>\n",
              "      <td>38399530</td>\n",
              "      <td>319.25</td>\n",
              "      <td>321.15</td>\n",
              "      <td>316.47</td>\n",
              "    </tr>\n",
              "    <tr>\n",
              "      <th>1</th>\n",
              "      <td>AAPL</td>\n",
              "      <td>2020-05-28</td>\n",
              "      <td>318.25</td>\n",
              "      <td>33449100</td>\n",
              "      <td>316.77</td>\n",
              "      <td>323.44</td>\n",
              "      <td>315.63</td>\n",
              "    </tr>\n",
              "    <tr>\n",
              "      <th>2</th>\n",
              "      <td>AAPL</td>\n",
              "      <td>2020-05-27</td>\n",
              "      <td>318.11</td>\n",
              "      <td>28236270</td>\n",
              "      <td>316.14</td>\n",
              "      <td>318.71</td>\n",
              "      <td>313.09</td>\n",
              "    </tr>\n",
              "    <tr>\n",
              "      <th>3</th>\n",
              "      <td>AAPL</td>\n",
              "      <td>2020-05-26</td>\n",
              "      <td>316.73</td>\n",
              "      <td>31380450</td>\n",
              "      <td>323.50</td>\n",
              "      <td>324.24</td>\n",
              "      <td>316.50</td>\n",
              "    </tr>\n",
              "    <tr>\n",
              "      <th>4</th>\n",
              "      <td>AAPL</td>\n",
              "      <td>2020-05-22</td>\n",
              "      <td>318.89</td>\n",
              "      <td>20450750</td>\n",
              "      <td>315.77</td>\n",
              "      <td>319.23</td>\n",
              "      <td>315.35</td>\n",
              "    </tr>\n",
              "  </tbody>\n",
              "</table>\n",
              "</div>"
            ],
            "text/plain": [
              "  ticker_symbol    day_date  close_value    volume  open_value  high_value  \\\n",
              "0          AAPL  2020-05-29       317.94  38399530      319.25      321.15   \n",
              "1          AAPL  2020-05-28       318.25  33449100      316.77      323.44   \n",
              "2          AAPL  2020-05-27       318.11  28236270      316.14      318.71   \n",
              "3          AAPL  2020-05-26       316.73  31380450      323.50      324.24   \n",
              "4          AAPL  2020-05-22       318.89  20450750      315.77      319.23   \n",
              "\n",
              "   low_value  \n",
              "0     316.47  \n",
              "1     315.63  \n",
              "2     313.09  \n",
              "3     316.50  \n",
              "4     315.35  "
            ]
          },
          "metadata": {},
          "execution_count": 430
        }
      ],
      "metadata": {}
    },
    {
      "cell_type": "code",
      "execution_count": 431,
      "source": [
        "companyValuesTesla = companyValues[companyValues.ticker_symbol == 'TSLA']\r\n",
        "tweetTesla = tweet[tweet.ticker_symbol == 'TSLA']"
      ],
      "outputs": [],
      "metadata": {}
    },
    {
      "cell_type": "code",
      "execution_count": 432,
      "source": [
        "companyValuesTesla.shape"
      ],
      "outputs": [
        {
          "output_type": "execute_result",
          "data": {
            "text/plain": [
              "(3065, 7)"
            ]
          },
          "metadata": {},
          "execution_count": 432
        }
      ],
      "metadata": {}
    },
    {
      "cell_type": "code",
      "execution_count": 433,
      "source": [
        "tweetTesla.shape"
      ],
      "outputs": [
        {
          "output_type": "execute_result",
          "data": {
            "text/plain": [
              "(1096868, 8)"
            ]
          },
          "metadata": {},
          "execution_count": 433
        }
      ],
      "metadata": {}
    },
    {
      "cell_type": "code",
      "execution_count": 434,
      "source": [
        "from datetime import datetime, timezone\r\n",
        "# from zoneinfo import ZoneInfo\r\n",
        "\r\n",
        "tweetTesla['post_date'] =  pd.to_datetime(tweetTesla['post_date'], unit='s', utc=True)\r\n",
        "tweetTesla['post_datetime'] = tweetTesla['post_date'].dt.tz_convert('Asia/Qatar')\r\n",
        "tweetTesla['date'] = tweetTesla['post_datetime'].dt.date\r\n",
        "\r\n",
        "tweetTesla[tweetTesla.writer == \"btcgemini\"]"
      ],
      "outputs": [
        {
          "output_type": "stream",
          "name": "stderr",
          "text": [
            "C:\\Users\\diego\\anaconda3\\envs\\tigramite\\lib\\site-packages\\ipykernel_launcher.py:4: SettingWithCopyWarning: \n",
            "A value is trying to be set on a copy of a slice from a DataFrame.\n",
            "Try using .loc[row_indexer,col_indexer] = value instead\n",
            "\n",
            "See the caveats in the documentation: https://pandas.pydata.org/pandas-docs/stable/user_guide/indexing.html#returning-a-view-versus-a-copy\n",
            "  after removing the cwd from sys.path.\n",
            "C:\\Users\\diego\\anaconda3\\envs\\tigramite\\lib\\site-packages\\ipykernel_launcher.py:5: SettingWithCopyWarning: \n",
            "A value is trying to be set on a copy of a slice from a DataFrame.\n",
            "Try using .loc[row_indexer,col_indexer] = value instead\n",
            "\n",
            "See the caveats in the documentation: https://pandas.pydata.org/pandas-docs/stable/user_guide/indexing.html#returning-a-view-versus-a-copy\n",
            "  \"\"\"\n",
            "C:\\Users\\diego\\anaconda3\\envs\\tigramite\\lib\\site-packages\\ipykernel_launcher.py:6: SettingWithCopyWarning: \n",
            "A value is trying to be set on a copy of a slice from a DataFrame.\n",
            "Try using .loc[row_indexer,col_indexer] = value instead\n",
            "\n",
            "See the caveats in the documentation: https://pandas.pydata.org/pandas-docs/stable/user_guide/indexing.html#returning-a-view-versus-a-copy\n",
            "  \n"
          ]
        },
        {
          "output_type": "execute_result",
          "data": {
            "text/html": [
              "<div>\n",
              "<style scoped>\n",
              "    .dataframe tbody tr th:only-of-type {\n",
              "        vertical-align: middle;\n",
              "    }\n",
              "\n",
              "    .dataframe tbody tr th {\n",
              "        vertical-align: top;\n",
              "    }\n",
              "\n",
              "    .dataframe thead th {\n",
              "        text-align: right;\n",
              "    }\n",
              "</style>\n",
              "<table border=\"1\" class=\"dataframe\">\n",
              "  <thead>\n",
              "    <tr style=\"text-align: right;\">\n",
              "      <th></th>\n",
              "      <th>tweet_id</th>\n",
              "      <th>writer</th>\n",
              "      <th>post_date</th>\n",
              "      <th>body</th>\n",
              "      <th>comment_num</th>\n",
              "      <th>retweet_num</th>\n",
              "      <th>like_num</th>\n",
              "      <th>ticker_symbol</th>\n",
              "      <th>post_datetime</th>\n",
              "      <th>date</th>\n",
              "    </tr>\n",
              "  </thead>\n",
              "  <tbody>\n",
              "  </tbody>\n",
              "</table>\n",
              "</div>"
            ],
            "text/plain": [
              "Empty DataFrame\n",
              "Columns: [tweet_id, writer, post_date, body, comment_num, retweet_num, like_num, ticker_symbol, post_datetime, date]\n",
              "Index: []"
            ]
          },
          "metadata": {},
          "execution_count": 434
        }
      ],
      "metadata": {}
    },
    {
      "cell_type": "code",
      "execution_count": 435,
      "source": [
        "tweetTeslaMetrics = tweetTesla[['date', 'comment_num', 'retweet_num', 'like_num']]\r\n",
        "tweetTeslaMetrics = tweetTeslaMetrics.groupby([\"date\"]).sum()\r\n",
        "tweetTeslaMetrics2019 = tweetTeslaMetrics[(tweetTeslaMetrics.index >= pd.to_datetime(\"2018/12/25\")) & (tweetTeslaMetrics.index <= pd.to_datetime(\"2019/12/31\"))]\r\n",
        "tweetTeslaMetrics2019"
      ],
      "outputs": [
        {
          "output_type": "stream",
          "name": "stderr",
          "text": [
            "C:\\Users\\diego\\anaconda3\\envs\\tigramite\\lib\\site-packages\\pandas\\core\\ops\\array_ops.py:73: FutureWarning: Comparison of Timestamp with datetime.date is deprecated in order to match the standard library behavior.  In a future version these will be considered non-comparable.Use 'ts == pd.Timestamp(date)' or 'ts.date() == date' instead.\n",
            "  result = libops.scalar_compare(x.ravel(), y, op)\n"
          ]
        },
        {
          "output_type": "execute_result",
          "data": {
            "text/html": [
              "<div>\n",
              "<style scoped>\n",
              "    .dataframe tbody tr th:only-of-type {\n",
              "        vertical-align: middle;\n",
              "    }\n",
              "\n",
              "    .dataframe tbody tr th {\n",
              "        vertical-align: top;\n",
              "    }\n",
              "\n",
              "    .dataframe thead th {\n",
              "        text-align: right;\n",
              "    }\n",
              "</style>\n",
              "<table border=\"1\" class=\"dataframe\">\n",
              "  <thead>\n",
              "    <tr style=\"text-align: right;\">\n",
              "      <th></th>\n",
              "      <th>comment_num</th>\n",
              "      <th>retweet_num</th>\n",
              "      <th>like_num</th>\n",
              "    </tr>\n",
              "    <tr>\n",
              "      <th>date</th>\n",
              "      <th></th>\n",
              "      <th></th>\n",
              "      <th></th>\n",
              "    </tr>\n",
              "  </thead>\n",
              "  <tbody>\n",
              "    <tr>\n",
              "      <th>2018-12-25</th>\n",
              "      <td>432</td>\n",
              "      <td>354</td>\n",
              "      <td>3395</td>\n",
              "    </tr>\n",
              "    <tr>\n",
              "      <th>2018-12-26</th>\n",
              "      <td>602</td>\n",
              "      <td>815</td>\n",
              "      <td>5048</td>\n",
              "    </tr>\n",
              "    <tr>\n",
              "      <th>2018-12-27</th>\n",
              "      <td>778</td>\n",
              "      <td>709</td>\n",
              "      <td>5513</td>\n",
              "    </tr>\n",
              "    <tr>\n",
              "      <th>2018-12-28</th>\n",
              "      <td>1184</td>\n",
              "      <td>1703</td>\n",
              "      <td>11564</td>\n",
              "    </tr>\n",
              "    <tr>\n",
              "      <th>2018-12-29</th>\n",
              "      <td>777</td>\n",
              "      <td>866</td>\n",
              "      <td>5093</td>\n",
              "    </tr>\n",
              "    <tr>\n",
              "      <th>...</th>\n",
              "      <td>...</td>\n",
              "      <td>...</td>\n",
              "      <td>...</td>\n",
              "    </tr>\n",
              "    <tr>\n",
              "      <th>2019-12-27</th>\n",
              "      <td>1464</td>\n",
              "      <td>1852</td>\n",
              "      <td>12774</td>\n",
              "    </tr>\n",
              "    <tr>\n",
              "      <th>2019-12-28</th>\n",
              "      <td>780</td>\n",
              "      <td>1448</td>\n",
              "      <td>6924</td>\n",
              "    </tr>\n",
              "    <tr>\n",
              "      <th>2019-12-29</th>\n",
              "      <td>663</td>\n",
              "      <td>815</td>\n",
              "      <td>6225</td>\n",
              "    </tr>\n",
              "    <tr>\n",
              "      <th>2019-12-30</th>\n",
              "      <td>1394</td>\n",
              "      <td>2199</td>\n",
              "      <td>11486</td>\n",
              "    </tr>\n",
              "    <tr>\n",
              "      <th>2019-12-31</th>\n",
              "      <td>1038</td>\n",
              "      <td>1142</td>\n",
              "      <td>11424</td>\n",
              "    </tr>\n",
              "  </tbody>\n",
              "</table>\n",
              "<p>372 rows × 3 columns</p>\n",
              "</div>"
            ],
            "text/plain": [
              "            comment_num  retweet_num  like_num\n",
              "date                                          \n",
              "2018-12-25          432          354      3395\n",
              "2018-12-26          602          815      5048\n",
              "2018-12-27          778          709      5513\n",
              "2018-12-28         1184         1703     11564\n",
              "2018-12-29          777          866      5093\n",
              "...                 ...          ...       ...\n",
              "2019-12-27         1464         1852     12774\n",
              "2019-12-28          780         1448      6924\n",
              "2019-12-29          663          815      6225\n",
              "2019-12-30         1394         2199     11486\n",
              "2019-12-31         1038         1142     11424\n",
              "\n",
              "[372 rows x 3 columns]"
            ]
          },
          "metadata": {},
          "execution_count": 435
        }
      ],
      "metadata": {}
    },
    {
      "cell_type": "code",
      "execution_count": 436,
      "source": [
        "tweetTeslaMetrics2019['log_retweet_num'] = np.log(tweetTeslaMetrics2019['retweet_num'])\r\n",
        "tweetTeslaMetrics2019['log_comment_num'] = np.log(tweetTeslaMetrics2019['comment_num'])"
      ],
      "outputs": [
        {
          "output_type": "stream",
          "name": "stderr",
          "text": [
            "C:\\Users\\diego\\anaconda3\\envs\\tigramite\\lib\\site-packages\\ipykernel_launcher.py:1: SettingWithCopyWarning: \n",
            "A value is trying to be set on a copy of a slice from a DataFrame.\n",
            "Try using .loc[row_indexer,col_indexer] = value instead\n",
            "\n",
            "See the caveats in the documentation: https://pandas.pydata.org/pandas-docs/stable/user_guide/indexing.html#returning-a-view-versus-a-copy\n",
            "  \"\"\"Entry point for launching an IPython kernel.\n",
            "C:\\Users\\diego\\anaconda3\\envs\\tigramite\\lib\\site-packages\\ipykernel_launcher.py:2: SettingWithCopyWarning: \n",
            "A value is trying to be set on a copy of a slice from a DataFrame.\n",
            "Try using .loc[row_indexer,col_indexer] = value instead\n",
            "\n",
            "See the caveats in the documentation: https://pandas.pydata.org/pandas-docs/stable/user_guide/indexing.html#returning-a-view-versus-a-copy\n",
            "  \n"
          ]
        }
      ],
      "metadata": {}
    },
    {
      "cell_type": "code",
      "execution_count": 437,
      "source": [
        "from sklearn.linear_model import LinearRegression\r\n",
        "\r\n",
        "X = [i for i in range(0, len(tweetTeslaMetrics2019.log_comment_num))]\r\n",
        "X = np.reshape(X, (len(X), 1))\r\n",
        "y = tweetTeslaMetrics2019.log_comment_num\r\n",
        "\r\n",
        "lr_model = LinearRegression()\r\n",
        "lr_model.fit(X, y)\r\n",
        "\r\n",
        "trend = lr_model.predict(X)\r\n",
        "\r\n",
        "tweetTeslaMetrics2019['detrended_log_comment_num'] = [y[i]-trend[i] for i in range(0, len(tweetTeslaMetrics2019.log_comment_num))]"
      ],
      "outputs": [
        {
          "output_type": "stream",
          "name": "stderr",
          "text": [
            "C:\\Users\\diego\\anaconda3\\envs\\tigramite\\lib\\site-packages\\ipykernel_launcher.py:12: SettingWithCopyWarning: \n",
            "A value is trying to be set on a copy of a slice from a DataFrame.\n",
            "Try using .loc[row_indexer,col_indexer] = value instead\n",
            "\n",
            "See the caveats in the documentation: https://pandas.pydata.org/pandas-docs/stable/user_guide/indexing.html#returning-a-view-versus-a-copy\n",
            "  if sys.path[0] == '':\n"
          ]
        }
      ],
      "metadata": {}
    },
    {
      "cell_type": "code",
      "execution_count": 438,
      "source": [
        "lag_days = 1\r\n",
        "\r\n",
        "# temp = np.diff(tweetTeslaMetrics2019['log_retweet_num'], n=lag_days)\r\n",
        "# temp_2 = np.diff(tweetTeslaMetrics2019['detrended_log_comment_num'], n=lag_days)\r\n",
        "\r\n",
        "tweetTeslaMetrics2019 = tweetTeslaMetrics2019[-365:]\r\n",
        "# tweetTeslaMetrics2019['lag_log_retweet_num'] = temp\r\n",
        "# tweetTeslaMetrics2019['lag_detrended_log_comment_num'] = temp_2"
      ],
      "outputs": [],
      "metadata": {}
    },
    {
      "cell_type": "code",
      "execution_count": 439,
      "source": [
        "plt.plot(tweetTeslaMetrics2019.log_retweet_num, alpha=0.5, label=\"log_retweet_num\")\r\n",
        "plt.plot(tweetTeslaMetrics2019.detrended_log_comment_num, alpha=0.5, label=\"detrended_log_comment_num\")\r\n",
        "plt.legend()"
      ],
      "outputs": [
        {
          "output_type": "execute_result",
          "data": {
            "text/plain": [
              "<matplotlib.legend.Legend at 0x1f7b72a5348>"
            ]
          },
          "metadata": {},
          "execution_count": 439
        },
        {
          "output_type": "display_data",
          "data": {
            "image/png": "[encoded data removed]",
            "text/plain": [
              "<Figure size 432x288 with 1 Axes>"
            ]
          },
          "metadata": {
            "needs_background": "light"
          }
        }
      ],
      "metadata": {}
    },
    {
      "cell_type": "code",
      "execution_count": 440,
      "source": [
        "plt.hist(tweetTeslaMetrics2019.log_retweet_num, alpha=0.5, label=\"log_retweet_num\")\r\n",
        "plt.hist(tweetTeslaMetrics2019.detrended_log_comment_num, alpha=0.5, label=\"detrended_log_comment_num\")\r\n",
        "plt.legend()"
      ],
      "outputs": [
        {
          "output_type": "execute_result",
          "data": {
            "text/plain": [
              "<matplotlib.legend.Legend at 0x1f78f5b6488>"
            ]
          },
          "metadata": {},
          "execution_count": 440
        },
        {
          "output_type": "display_data",
          "data": {
            "image/png": "[encoded data removed]",
            "text/plain": [
              "<Figure size 432x288 with 1 Axes>"
            ]
          },
          "metadata": {
            "needs_background": "light"
          }
        }
      ],
      "metadata": {}
    },
    {
      "cell_type": "code",
      "execution_count": 443,
      "source": [
        "from statsmodels.tsa.stattools import adfuller\r\n",
        "\r\n",
        "result = adfuller(tweetTeslaMetrics2019.log_retweet_num)\r\n",
        "print('Log Retweet Number test:')\r\n",
        "print('ADF Statistic: %f' % result[0])\r\n",
        "print('p-value: %f' % result[1])\r\n",
        "print('Critical Values:')\r\n",
        "for key, value in result[4].items():\r\n",
        "\tprint('\\t%s: %.3f' % (key, value))\r\n",
        "\r\n",
        "result = adfuller(tweetTeslaMetrics2019.detrended_log_comment_num)\r\n",
        "print('Detrended Log Tweet Comment Number test:')\r\n",
        "print('ADF Statistic: %f' % result[0])\r\n",
        "print('p-value: %f' % result[1])\r\n",
        "print('Critical Values:')\r\n",
        "for key, value in result[4].items():\r\n",
        "\tprint('\\t%s: %.3f' % (key, value))"
      ],
      "outputs": [
        {
          "output_type": "stream",
          "name": "stdout",
          "text": [
            "Log Retweet Number test:\n",
            "ADF Statistic: -3.677427\n",
            "p-value: 0.004442\n",
            "Critical Values:\n",
            "\t1%: -3.449\n",
            "\t5%: -2.870\n",
            "\t10%: -2.571\n",
            "Detrended Log Tweet Comment Number test:\n",
            "ADF Statistic: -2.804106\n",
            "p-value: 0.057690\n",
            "Critical Values:\n",
            "\t1%: -3.449\n",
            "\t5%: -2.870\n",
            "\t10%: -2.571\n"
          ]
        }
      ],
      "metadata": {}
    },
    {
      "cell_type": "code",
      "execution_count": 444,
      "source": [
        "companyValuesTesla['date'] = pd.to_datetime(companyValuesTesla['day_date']).dt.date\r\n",
        "companyValuesTeslaMetrics = companyValuesTesla[['date', 'close_value', 'volume', 'open_value', 'high_value', 'low_value']]\r\n",
        "companyValuesTeslaMetrics = companyValuesTeslaMetrics.groupby(['date']).sum()\r\n",
        "companyValuesTeslaMetrics2019 = companyValuesTeslaMetrics[(companyValuesTeslaMetrics.index >= pd.to_datetime(\"2018/12/25\")) & (companyValuesTeslaMetrics.index <= pd.to_datetime(\"2019/12/31\"))]\r\n",
        "companyValuesTeslaMetrics2019"
      ],
      "outputs": [
        {
          "output_type": "stream",
          "name": "stderr",
          "text": [
            "C:\\Users\\diego\\anaconda3\\envs\\tigramite\\lib\\site-packages\\ipykernel_launcher.py:1: SettingWithCopyWarning: \n",
            "A value is trying to be set on a copy of a slice from a DataFrame.\n",
            "Try using .loc[row_indexer,col_indexer] = value instead\n",
            "\n",
            "See the caveats in the documentation: https://pandas.pydata.org/pandas-docs/stable/user_guide/indexing.html#returning-a-view-versus-a-copy\n",
            "  \"\"\"Entry point for launching an IPython kernel.\n",
            "C:\\Users\\diego\\anaconda3\\envs\\tigramite\\lib\\site-packages\\pandas\\core\\ops\\array_ops.py:73: FutureWarning: Comparison of Timestamp with datetime.date is deprecated in order to match the standard library behavior.  In a future version these will be considered non-comparable.Use 'ts == pd.Timestamp(date)' or 'ts.date() == date' instead.\n",
            "  result = libops.scalar_compare(x.ravel(), y, op)\n"
          ]
        },
        {
          "output_type": "execute_result",
          "data": {
            "text/html": [
              "<div>\n",
              "<style scoped>\n",
              "    .dataframe tbody tr th:only-of-type {\n",
              "        vertical-align: middle;\n",
              "    }\n",
              "\n",
              "    .dataframe tbody tr th {\n",
              "        vertical-align: top;\n",
              "    }\n",
              "\n",
              "    .dataframe thead th {\n",
              "        text-align: right;\n",
              "    }\n",
              "</style>\n",
              "<table border=\"1\" class=\"dataframe\">\n",
              "  <thead>\n",
              "    <tr style=\"text-align: right;\">\n",
              "      <th></th>\n",
              "      <th>close_value</th>\n",
              "      <th>volume</th>\n",
              "      <th>open_value</th>\n",
              "      <th>high_value</th>\n",
              "      <th>low_value</th>\n",
              "    </tr>\n",
              "    <tr>\n",
              "      <th>date</th>\n",
              "      <th></th>\n",
              "      <th></th>\n",
              "      <th></th>\n",
              "      <th></th>\n",
              "      <th></th>\n",
              "    </tr>\n",
              "  </thead>\n",
              "  <tbody>\n",
              "    <tr>\n",
              "      <th>2018-12-25</th>\n",
              "      <td>295.39</td>\n",
              "      <td>5559913</td>\n",
              "      <td>313.50</td>\n",
              "      <td>314.5000</td>\n",
              "      <td>295.1950</td>\n",
              "    </tr>\n",
              "    <tr>\n",
              "      <th>2018-12-26</th>\n",
              "      <td>326.09</td>\n",
              "      <td>8143102</td>\n",
              "      <td>300.00</td>\n",
              "      <td>326.9700</td>\n",
              "      <td>294.0900</td>\n",
              "    </tr>\n",
              "    <tr>\n",
              "      <th>2018-12-27</th>\n",
              "      <td>316.13</td>\n",
              "      <td>8567385</td>\n",
              "      <td>319.84</td>\n",
              "      <td>322.1717</td>\n",
              "      <td>301.5000</td>\n",
              "    </tr>\n",
              "    <tr>\n",
              "      <th>2018-12-28</th>\n",
              "      <td>333.87</td>\n",
              "      <td>9918777</td>\n",
              "      <td>323.10</td>\n",
              "      <td>336.2400</td>\n",
              "      <td>318.4100</td>\n",
              "    </tr>\n",
              "    <tr>\n",
              "      <th>2018-12-29</th>\n",
              "      <td>333.87</td>\n",
              "      <td>9918777</td>\n",
              "      <td>323.10</td>\n",
              "      <td>336.2400</td>\n",
              "      <td>318.4100</td>\n",
              "    </tr>\n",
              "    <tr>\n",
              "      <th>...</th>\n",
              "      <td>...</td>\n",
              "      <td>...</td>\n",
              "      <td>...</td>\n",
              "      <td>...</td>\n",
              "      <td>...</td>\n",
              "    </tr>\n",
              "    <tr>\n",
              "      <th>2019-12-27</th>\n",
              "      <td>430.38</td>\n",
              "      <td>9956827</td>\n",
              "      <td>435.00</td>\n",
              "      <td>435.3100</td>\n",
              "      <td>426.1100</td>\n",
              "    </tr>\n",
              "    <tr>\n",
              "      <th>2019-12-28</th>\n",
              "      <td>430.38</td>\n",
              "      <td>9956827</td>\n",
              "      <td>435.00</td>\n",
              "      <td>435.3100</td>\n",
              "      <td>426.1100</td>\n",
              "    </tr>\n",
              "    <tr>\n",
              "      <th>2019-12-29</th>\n",
              "      <td>430.38</td>\n",
              "      <td>9956827</td>\n",
              "      <td>435.00</td>\n",
              "      <td>435.3100</td>\n",
              "      <td>426.1100</td>\n",
              "    </tr>\n",
              "    <tr>\n",
              "      <th>2019-12-30</th>\n",
              "      <td>414.70</td>\n",
              "      <td>12601270</td>\n",
              "      <td>428.79</td>\n",
              "      <td>429.0000</td>\n",
              "      <td>409.2589</td>\n",
              "    </tr>\n",
              "    <tr>\n",
              "      <th>2019-12-31</th>\n",
              "      <td>418.33</td>\n",
              "      <td>10292460</td>\n",
              "      <td>405.00</td>\n",
              "      <td>421.2900</td>\n",
              "      <td>402.0800</td>\n",
              "    </tr>\n",
              "  </tbody>\n",
              "</table>\n",
              "<p>372 rows × 5 columns</p>\n",
              "</div>"
            ],
            "text/plain": [
              "            close_value    volume  open_value  high_value  low_value\n",
              "date                                                                \n",
              "2018-12-25       295.39   5559913      313.50    314.5000   295.1950\n",
              "2018-12-26       326.09   8143102      300.00    326.9700   294.0900\n",
              "2018-12-27       316.13   8567385      319.84    322.1717   301.5000\n",
              "2018-12-28       333.87   9918777      323.10    336.2400   318.4100\n",
              "2018-12-29       333.87   9918777      323.10    336.2400   318.4100\n",
              "...                 ...       ...         ...         ...        ...\n",
              "2019-12-27       430.38   9956827      435.00    435.3100   426.1100\n",
              "2019-12-28       430.38   9956827      435.00    435.3100   426.1100\n",
              "2019-12-29       430.38   9956827      435.00    435.3100   426.1100\n",
              "2019-12-30       414.70  12601270      428.79    429.0000   409.2589\n",
              "2019-12-31       418.33  10292460      405.00    421.2900   402.0800\n",
              "\n",
              "[372 rows x 5 columns]"
            ]
          },
          "metadata": {},
          "execution_count": 444
        }
      ],
      "metadata": {}
    },
    {
      "cell_type": "code",
      "execution_count": 445,
      "source": [
        "from sklearn.linear_model import LinearRegression\r\n",
        "\r\n",
        "X = [i for i in range(0, len(companyValuesTeslaMetrics2019.close_value))]\r\n",
        "X = np.reshape(X, (len(X), 1))\r\n",
        "y = companyValuesTeslaMetrics2019.close_value\r\n",
        "\r\n",
        "lr_model = LinearRegression()\r\n",
        "lr_model.fit(X, y)\r\n",
        "\r\n",
        "trend = lr_model.predict(X)\r\n",
        "\r\n",
        "detrended = [y[i]-trend[i] for i in range(0, len(companyValuesTeslaMetrics2019.close_value))]\r\n",
        "\r\n",
        "plt.plot(detrended)"
      ],
      "outputs": [
        {
          "output_type": "execute_result",
          "data": {
            "text/plain": [
              "[<matplotlib.lines.Line2D at 0x1f7a5a7bc08>]"
            ]
          },
          "metadata": {},
          "execution_count": 445
        },
        {
          "output_type": "display_data",
          "data": {
            "image/png": "[encoded data removed]",
            "text/plain": [
              "<Figure size 432x288 with 1 Axes>"
            ]
          },
          "metadata": {
            "needs_background": "light"
          }
        }
      ],
      "metadata": {}
    },
    {
      "cell_type": "code",
      "execution_count": 446,
      "source": [
        "lag_days = 1\r\n",
        "\r\n",
        "companyValuesTeslaMetrics2019['log_close_value'] = np.log(companyValuesTeslaMetrics2019['close_value'])\r\n",
        "temp = np.diff(companyValuesTeslaMetrics2019['log_close_value'], n=lag_days)\r\n",
        "companyValuesTeslaMetrics2019 = companyValuesTeslaMetrics2019[-365:]\r\n",
        "companyValuesTeslaMetrics2019['lag_log_close_value'] = temp[-365:]\r\n",
        "plt.plot(companyValuesTeslaMetrics2019.lag_log_close_value)"
      ],
      "outputs": [
        {
          "output_type": "stream",
          "name": "stderr",
          "text": [
            "C:\\Users\\diego\\anaconda3\\envs\\tigramite\\lib\\site-packages\\ipykernel_launcher.py:3: SettingWithCopyWarning: \n",
            "A value is trying to be set on a copy of a slice from a DataFrame.\n",
            "Try using .loc[row_indexer,col_indexer] = value instead\n",
            "\n",
            "See the caveats in the documentation: https://pandas.pydata.org/pandas-docs/stable/user_guide/indexing.html#returning-a-view-versus-a-copy\n",
            "  This is separate from the ipykernel package so we can avoid doing imports until\n",
            "C:\\Users\\diego\\anaconda3\\envs\\tigramite\\lib\\site-packages\\ipykernel_launcher.py:6: SettingWithCopyWarning: \n",
            "A value is trying to be set on a copy of a slice from a DataFrame.\n",
            "Try using .loc[row_indexer,col_indexer] = value instead\n",
            "\n",
            "See the caveats in the documentation: https://pandas.pydata.org/pandas-docs/stable/user_guide/indexing.html#returning-a-view-versus-a-copy\n",
            "  \n"
          ]
        },
        {
          "output_type": "execute_result",
          "data": {
            "text/plain": [
              "[<matplotlib.lines.Line2D at 0x1f78f764a08>]"
            ]
          },
          "metadata": {},
          "execution_count": 446
        },
        {
          "output_type": "display_data",
          "data": {
            "image/png": "[encoded data removed]",
            "text/plain": [
              "<Figure size 432x288 with 1 Axes>"
            ]
          },
          "metadata": {
            "needs_background": "light"
          }
        }
      ],
      "metadata": {}
    },
    {
      "cell_type": "code",
      "execution_count": 447,
      "source": [
        "plt.hist(companyValuesTeslaMetrics2019.lag_log_close_value)"
      ],
      "outputs": [
        {
          "output_type": "execute_result",
          "data": {
            "text/plain": [
              "(array([  2.,   1.,   8.,  28., 227.,  83.,  13.,   2.,   0.,   1.]),\n",
              " array([-0.14634122, -0.11543636, -0.0845315 , -0.05362664, -0.02272178,\n",
              "         0.00818308,  0.03908794,  0.0699928 ,  0.10089766,  0.13180252,\n",
              "         0.16270738]),\n",
              " <BarContainer object of 10 artists>)"
            ]
          },
          "metadata": {},
          "execution_count": 447
        },
        {
          "output_type": "display_data",
          "data": {
            "image/png": "[encoded data removed]",
            "text/plain": [
              "<Figure size 432x288 with 1 Axes>"
            ]
          },
          "metadata": {
            "needs_background": "light"
          }
        }
      ],
      "metadata": {}
    },
    {
      "cell_type": "code",
      "execution_count": 448,
      "source": [
        "from statsmodels.tsa.stattools import adfuller\r\n",
        "\r\n",
        "result = adfuller(companyValuesTeslaMetrics2019.lag_log_close_value)\r\n",
        "print('ADF Statistic: %f' % result[0])\r\n",
        "print('p-value: %f' % result[1])\r\n",
        "print('Critical Values:')\r\n",
        "for key, value in result[4].items():\r\n",
        "\tprint('\\t%s: %.3f' % (key, value))"
      ],
      "outputs": [
        {
          "output_type": "stream",
          "name": "stdout",
          "text": [
            "ADF Statistic: -18.635766\n",
            "p-value: 0.000000\n",
            "Critical Values:\n",
            "\t1%: -3.448\n",
            "\t5%: -2.870\n",
            "\t10%: -2.571\n"
          ]
        }
      ],
      "metadata": {}
    },
    {
      "cell_type": "code",
      "execution_count": 449,
      "source": [
        "data = np.column_stack((companyValuesTeslaMetrics2019.lag_log_close_value,\r\n",
        "                    tweetTeslaMetrics2019.log_retweet_num,\r\n",
        "                    tweetTeslaMetrics2019.detrended_log_comment_num))\r\n",
        "data[:5]"
      ],
      "outputs": [
        {
          "output_type": "execute_result",
          "data": {
            "text/plain": [
              "array([[ 0.        ,  6.61204103, -0.54695628],\n",
              "       [-0.07058239,  7.12849595, -0.07861812],\n",
              "       [-0.03197756,  7.31388683,  0.14831061],\n",
              "       [ 0.05609431,  6.87005341, -0.38452907],\n",
              "       [ 0.        ,  6.67708346, -0.51965665]])"
            ]
          },
          "metadata": {},
          "execution_count": 449
        }
      ],
      "metadata": {}
    },
    {
      "cell_type": "markdown",
      "source": [
        "## Causal Discovery"
      ],
      "metadata": {}
    },
    {
      "cell_type": "code",
      "execution_count": 450,
      "source": [
        "# Imports\r\n",
        "\r\n",
        "import numpy as np\r\n",
        "import matplotlib\r\n",
        "from matplotlib import pyplot as plt\r\n",
        "%matplotlib inline     \r\n",
        "## use `%matplotlib notebook` for interactive figures\r\n",
        "# plt.style.use('ggplot')\r\n",
        "import sklearn\r\n",
        "\r\n",
        "import tigramite\r\n",
        "from tigramite import data_processing as pp\r\n",
        "from tigramite import plotting as tp\r\n",
        "from tigramite.pcmci import PCMCI\r\n",
        "from tigramite.independence_tests import ParCorr, GPDC, CMIknn, CMIsymb"
      ],
      "outputs": [],
      "metadata": {}
    },
    {
      "cell_type": "code",
      "execution_count": 451,
      "source": [
        "# Initialize dataframe object, specify time axis and variable names\r\n",
        "var_names = [r'$X^0$', r'$Y^0$', r'$Y^1$']\r\n",
        "dataframe = pp.DataFrame(data, \r\n",
        "                         datatime = np.arange(len(data)), \r\n",
        "                         var_names=var_names)"
      ],
      "outputs": [],
      "metadata": {}
    },
    {
      "cell_type": "code",
      "execution_count": 452,
      "source": [
        "tp.plot_timeseries(dataframe); plt.show()"
      ],
      "outputs": [
        {
          "output_type": "display_data",
          "data": {
            "image/png": "[encoded data removed]",
            "text/plain": [
              "<Figure size 432x288 with 3 Axes>"
            ]
          },
          "metadata": {
            "needs_background": "light"
          }
        }
      ],
      "metadata": {}
    },
    {
      "cell_type": "code",
      "execution_count": 453,
      "source": [
        "parcorr = ParCorr(significance='analytic')\r\n",
        "\r\n",
        "pcmci = PCMCI(\r\n",
        "    dataframe=dataframe, \r\n",
        "    cond_ind_test=parcorr,\r\n",
        "    verbosity=1)"
      ],
      "outputs": [],
      "metadata": {}
    },
    {
      "cell_type": "code",
      "execution_count": 454,
      "source": [
        "correlations = pcmci.get_lagged_dependencies(tau_max=28, val_only=True)['val_matrix']\r\n",
        "lag_func_matrix = tp.plot_lagfuncs(val_matrix=correlations, setup_args={'var_names':var_names, \r\n",
        "                                    'x_base':5, 'y_base':.5}); plt.show()"
      ],
      "outputs": [
        {
          "output_type": "stream",
          "name": "stdout",
          "text": [
            "\n",
            "##\n",
            "## Estimating lagged dependencies \n",
            "##\n",
            "\n",
            "Parameters:\n",
            "\n",
            "independence test = par_corr\n",
            "tau_min = 0\n",
            "tau_max = 28\n"
          ]
        },
        {
          "output_type": "display_data",
          "data": {
            "image/png": "[encoded data removed]",
            "text/plain": [
              "<Figure size 432x288 with 9 Axes>"
            ]
          },
          "metadata": {
            "needs_background": "light"
          }
        }
      ],
      "metadata": {}
    },
    {
      "cell_type": "code",
      "execution_count": 455,
      "source": [
        "gpdc = GPDC(significance='analytic', gp_params=None)\r\n",
        "pcmci_gpdc = PCMCI(\r\n",
        "    dataframe=dataframe, \r\n",
        "    cond_ind_test=gpdc,\r\n",
        "    verbosity=0)"
      ],
      "outputs": [],
      "metadata": {}
    },
    {
      "cell_type": "code",
      "execution_count": 456,
      "source": [
        "results = pcmci_gpdc.run_pcmci(tau_max=8, pc_alpha=0.5)\r\n",
        "pcmci_gpdc.print_significant_links(\r\n",
        "        p_matrix = results['p_matrix'], \r\n",
        "        val_matrix = results['val_matrix'],\r\n",
        "        alpha_level = 0.01)"
      ],
      "outputs": [
        {
          "output_type": "stream",
          "name": "stderr",
          "text": [
            "C:\\Users\\diego\\anaconda3\\envs\\tigramite\\lib\\site-packages\\sklearn\\gaussian_process\\kernels.py:427: ConvergenceWarning: The optimal value found for dimension 0 of parameter k1__length_scale is close to the specified lower bound 1e-05. Decreasing the bound and calling fit again may find a better value.\n",
            "  ConvergenceWarning,\n",
            "C:\\Users\\diego\\anaconda3\\envs\\tigramite\\lib\\site-packages\\sklearn\\gaussian_process\\kernels.py:427: ConvergenceWarning: The optimal value found for dimension 0 of parameter k2__noise_level is close to the specified lower bound 1e-05. Decreasing the bound and calling fit again may find a better value.\n",
            "  ConvergenceWarning,\n",
            "C:\\Users\\diego\\anaconda3\\envs\\tigramite\\lib\\site-packages\\sklearn\\gaussian_process\\kernels.py:427: ConvergenceWarning: The optimal value found for dimension 0 of parameter k1__length_scale is close to the specified lower bound 1e-05. Decreasing the bound and calling fit again may find a better value.\n",
            "  ConvergenceWarning,\n",
            "C:\\Users\\diego\\anaconda3\\envs\\tigramite\\lib\\site-packages\\sklearn\\gaussian_process\\kernels.py:427: ConvergenceWarning: The optimal value found for dimension 0 of parameter k2__noise_level is close to the specified lower bound 1e-05. Decreasing the bound and calling fit again may find a better value.\n",
            "  ConvergenceWarning,\n",
            "C:\\Users\\diego\\anaconda3\\envs\\tigramite\\lib\\site-packages\\sklearn\\gaussian_process\\kernels.py:427: ConvergenceWarning: The optimal value found for dimension 0 of parameter k1__length_scale is close to the specified lower bound 1e-05. Decreasing the bound and calling fit again may find a better value.\n",
            "  ConvergenceWarning,\n",
            "C:\\Users\\diego\\anaconda3\\envs\\tigramite\\lib\\site-packages\\sklearn\\gaussian_process\\kernels.py:427: ConvergenceWarning: The optimal value found for dimension 0 of parameter k1__length_scale is close to the specified lower bound 1e-05. Decreasing the bound and calling fit again may find a better value.\n",
            "  ConvergenceWarning,\n",
            "C:\\Users\\diego\\anaconda3\\envs\\tigramite\\lib\\site-packages\\sklearn\\gaussian_process\\kernels.py:437: ConvergenceWarning: The optimal value found for dimension 0 of parameter k1__length_scale is close to the specified upper bound 100000.0. Increasing the bound and calling fit again may find a better value.\n",
            "  ConvergenceWarning,\n",
            "C:\\Users\\diego\\anaconda3\\envs\\tigramite\\lib\\site-packages\\sklearn\\gaussian_process\\kernels.py:437: ConvergenceWarning: The optimal value found for dimension 0 of parameter k1__length_scale is close to the specified upper bound 100000.0. Increasing the bound and calling fit again may find a better value.\n",
            "  ConvergenceWarning,\n",
            "C:\\Users\\diego\\anaconda3\\envs\\tigramite\\lib\\site-packages\\sklearn\\gaussian_process\\kernels.py:427: ConvergenceWarning: The optimal value found for dimension 0 of parameter k1__length_scale is close to the specified lower bound 1e-05. Decreasing the bound and calling fit again may find a better value.\n",
            "  ConvergenceWarning,\n",
            "C:\\Users\\diego\\anaconda3\\envs\\tigramite\\lib\\site-packages\\sklearn\\gaussian_process\\kernels.py:427: ConvergenceWarning: The optimal value found for dimension 0 of parameter k2__noise_level is close to the specified lower bound 1e-05. Decreasing the bound and calling fit again may find a better value.\n",
            "  ConvergenceWarning,\n",
            "C:\\Users\\diego\\anaconda3\\envs\\tigramite\\lib\\site-packages\\sklearn\\gaussian_process\\kernels.py:427: ConvergenceWarning: The optimal value found for dimension 0 of parameter k1__length_scale is close to the specified lower bound 1e-05. Decreasing the bound and calling fit again may find a better value.\n",
            "  ConvergenceWarning,\n",
            "C:\\Users\\diego\\anaconda3\\envs\\tigramite\\lib\\site-packages\\sklearn\\gaussian_process\\kernels.py:427: ConvergenceWarning: The optimal value found for dimension 0 of parameter k1__length_scale is close to the specified lower bound 1e-05. Decreasing the bound and calling fit again may find a better value.\n",
            "  ConvergenceWarning,\n",
            "C:\\Users\\diego\\anaconda3\\envs\\tigramite\\lib\\site-packages\\sklearn\\gaussian_process\\kernels.py:427: ConvergenceWarning: The optimal value found for dimension 0 of parameter k1__length_scale is close to the specified lower bound 1e-05. Decreasing the bound and calling fit again may find a better value.\n",
            "  ConvergenceWarning,\n",
            "C:\\Users\\diego\\anaconda3\\envs\\tigramite\\lib\\site-packages\\sklearn\\gaussian_process\\kernels.py:427: ConvergenceWarning: The optimal value found for dimension 0 of parameter k2__noise_level is close to the specified lower bound 1e-05. Decreasing the bound and calling fit again may find a better value.\n",
            "  ConvergenceWarning,\n",
            "C:\\Users\\diego\\anaconda3\\envs\\tigramite\\lib\\site-packages\\sklearn\\gaussian_process\\kernels.py:427: ConvergenceWarning: The optimal value found for dimension 0 of parameter k1__length_scale is close to the specified lower bound 1e-05. Decreasing the bound and calling fit again may find a better value.\n",
            "  ConvergenceWarning,\n",
            "C:\\Users\\diego\\anaconda3\\envs\\tigramite\\lib\\site-packages\\sklearn\\gaussian_process\\kernels.py:427: ConvergenceWarning: The optimal value found for dimension 0 of parameter k1__length_scale is close to the specified lower bound 1e-05. Decreasing the bound and calling fit again may find a better value.\n",
            "  ConvergenceWarning,\n",
            "C:\\Users\\diego\\anaconda3\\envs\\tigramite\\lib\\site-packages\\sklearn\\gaussian_process\\kernels.py:427: ConvergenceWarning: The optimal value found for dimension 0 of parameter k2__noise_level is close to the specified lower bound 1e-05. Decreasing the bound and calling fit again may find a better value.\n",
            "  ConvergenceWarning,\n",
            "C:\\Users\\diego\\anaconda3\\envs\\tigramite\\lib\\site-packages\\sklearn\\gaussian_process\\kernels.py:427: ConvergenceWarning: The optimal value found for dimension 0 of parameter k2__noise_level is close to the specified lower bound 1e-05. Decreasing the bound and calling fit again may find a better value.\n",
            "  ConvergenceWarning,\n",
            "C:\\Users\\diego\\anaconda3\\envs\\tigramite\\lib\\site-packages\\sklearn\\gaussian_process\\kernels.py:427: ConvergenceWarning: The optimal value found for dimension 0 of parameter k2__noise_level is close to the specified lower bound 1e-05. Decreasing the bound and calling fit again may find a better value.\n",
            "  ConvergenceWarning,\n",
            "C:\\Users\\diego\\anaconda3\\envs\\tigramite\\lib\\site-packages\\sklearn\\gaussian_process\\kernels.py:437: ConvergenceWarning: The optimal value found for dimension 0 of parameter k1__length_scale is close to the specified upper bound 100000.0. Increasing the bound and calling fit again may find a better value.\n",
            "  ConvergenceWarning,\n",
            "C:\\Users\\diego\\anaconda3\\envs\\tigramite\\lib\\site-packages\\sklearn\\gaussian_process\\kernels.py:427: ConvergenceWarning: The optimal value found for dimension 0 of parameter k1__length_scale is close to the specified lower bound 1e-05. Decreasing the bound and calling fit again may find a better value.\n",
            "  ConvergenceWarning,\n",
            "C:\\Users\\diego\\anaconda3\\envs\\tigramite\\lib\\site-packages\\sklearn\\gaussian_process\\kernels.py:427: ConvergenceWarning: The optimal value found for dimension 0 of parameter k1__length_scale is close to the specified lower bound 1e-05. Decreasing the bound and calling fit again may find a better value.\n",
            "  ConvergenceWarning,\n",
            "C:\\Users\\diego\\anaconda3\\envs\\tigramite\\lib\\site-packages\\sklearn\\gaussian_process\\kernels.py:427: ConvergenceWarning: The optimal value found for dimension 0 of parameter k1__length_scale is close to the specified lower bound 1e-05. Decreasing the bound and calling fit again may find a better value.\n",
            "  ConvergenceWarning,\n",
            "C:\\Users\\diego\\anaconda3\\envs\\tigramite\\lib\\site-packages\\sklearn\\gaussian_process\\kernels.py:427: ConvergenceWarning: The optimal value found for dimension 0 of parameter k1__length_scale is close to the specified lower bound 1e-05. Decreasing the bound and calling fit again may find a better value.\n",
            "  ConvergenceWarning,\n",
            "C:\\Users\\diego\\anaconda3\\envs\\tigramite\\lib\\site-packages\\sklearn\\gaussian_process\\kernels.py:427: ConvergenceWarning: The optimal value found for dimension 0 of parameter k2__noise_level is close to the specified lower bound 1e-05. Decreasing the bound and calling fit again may find a better value.\n",
            "  ConvergenceWarning,\n",
            "C:\\Users\\diego\\anaconda3\\envs\\tigramite\\lib\\site-packages\\sklearn\\gaussian_process\\kernels.py:427: ConvergenceWarning: The optimal value found for dimension 0 of parameter k1__length_scale is close to the specified lower bound 1e-05. Decreasing the bound and calling fit again may find a better value.\n",
            "  ConvergenceWarning,\n",
            "C:\\Users\\diego\\anaconda3\\envs\\tigramite\\lib\\site-packages\\sklearn\\gaussian_process\\kernels.py:427: ConvergenceWarning: The optimal value found for dimension 0 of parameter k2__noise_level is close to the specified lower bound 1e-05. Decreasing the bound and calling fit again may find a better value.\n",
            "  ConvergenceWarning,\n",
            "C:\\Users\\diego\\anaconda3\\envs\\tigramite\\lib\\site-packages\\sklearn\\gaussian_process\\kernels.py:427: ConvergenceWarning: The optimal value found for dimension 0 of parameter k2__noise_level is close to the specified lower bound 1e-05. Decreasing the bound and calling fit again may find a better value.\n",
            "  ConvergenceWarning,\n",
            "C:\\Users\\diego\\anaconda3\\envs\\tigramite\\lib\\site-packages\\sklearn\\gaussian_process\\kernels.py:427: ConvergenceWarning: The optimal value found for dimension 0 of parameter k2__noise_level is close to the specified lower bound 1e-05. Decreasing the bound and calling fit again may find a better value.\n",
            "  ConvergenceWarning,\n",
            "C:\\Users\\diego\\anaconda3\\envs\\tigramite\\lib\\site-packages\\sklearn\\gaussian_process\\kernels.py:427: ConvergenceWarning: The optimal value found for dimension 0 of parameter k2__noise_level is close to the specified lower bound 1e-05. Decreasing the bound and calling fit again may find a better value.\n",
            "  ConvergenceWarning,\n",
            "C:\\Users\\diego\\anaconda3\\envs\\tigramite\\lib\\site-packages\\sklearn\\gaussian_process\\kernels.py:427: ConvergenceWarning: The optimal value found for dimension 0 of parameter k2__noise_level is close to the specified lower bound 1e-05. Decreasing the bound and calling fit again may find a better value.\n",
            "  ConvergenceWarning,\n",
            "C:\\Users\\diego\\anaconda3\\envs\\tigramite\\lib\\site-packages\\sklearn\\gaussian_process\\kernels.py:427: ConvergenceWarning: The optimal value found for dimension 0 of parameter k2__noise_level is close to the specified lower bound 1e-05. Decreasing the bound and calling fit again may find a better value.\n",
            "  ConvergenceWarning,\n",
            "C:\\Users\\diego\\anaconda3\\envs\\tigramite\\lib\\site-packages\\sklearn\\gaussian_process\\kernels.py:427: ConvergenceWarning: The optimal value found for dimension 0 of parameter k2__noise_level is close to the specified lower bound 1e-05. Decreasing the bound and calling fit again may find a better value.\n",
            "  ConvergenceWarning,\n"
          ]
        },
        {
          "output_type": "stream",
          "name": "stdout",
          "text": [
            "\n",
            "## Significant links at alpha = 0.01:\n",
            "\n",
            "    Variable $X^0$ has 4 link(s):\n",
            "        ($Y^1$  0): pval = 0.00000 | val =  0.216\n",
            "        ($Y^0$  0): pval = 0.00100 | val =  0.172\n",
            "        ($X^0$ -7): pval = 0.00300 | val =  0.162\n",
            "        ($Y^1$ -7): pval = 0.00900 | val =  0.151\n",
            "\n",
            "    Variable $Y^0$ has 3 link(s):\n",
            "        ($Y^1$  0): pval = 0.00000 | val =  0.811\n",
            "        ($X^0$  0): pval = 0.00100 | val =  0.172\n",
            "        ($X^0$ -1): pval = 0.00300 | val =  0.164\n",
            "\n",
            "    Variable $Y^1$ has 4 link(s):\n",
            "        ($Y^0$  0): pval = 0.00000 | val =  0.811\n",
            "        ($Y^1$ -1): pval = 0.00000 | val =  0.372\n",
            "        ($X^0$  0): pval = 0.00000 | val =  0.216\n",
            "        ($Y^1$ -7): pval = 0.00000 | val =  0.178\n"
          ]
        }
      ],
      "metadata": {}
    },
    {
      "cell_type": "code",
      "execution_count": 457,
      "source": [
        "q_matrix = pcmci.get_corrected_pvalues(p_matrix=results['p_matrix'], tau_max=8, fdr_method='fdr_bh')\r\n",
        "pcmci.print_significant_links(\r\n",
        "        p_matrix = results['p_matrix'], \r\n",
        "        q_matrix = q_matrix,\r\n",
        "        val_matrix = results['val_matrix'],\r\n",
        "        alpha_level = 0.01)"
      ],
      "outputs": [
        {
          "output_type": "stream",
          "name": "stdout",
          "text": [
            "\n",
            "## Significant links at alpha = 0.01:\n",
            "\n",
            "    Variable $X^0$ has 2 link(s):\n",
            "        ($Y^1$  0): pval = 0.00000 | qval = 0.00000 | val =  0.216\n",
            "        ($Y^0$  0): pval = 0.00100 | qval = 0.00100 | val =  0.172\n",
            "\n",
            "    Variable $Y^0$ has 2 link(s):\n",
            "        ($Y^1$  0): pval = 0.00000 | qval = 0.00000 | val =  0.811\n",
            "        ($X^0$  0): pval = 0.00100 | qval = 0.00100 | val =  0.172\n",
            "\n",
            "    Variable $Y^1$ has 4 link(s):\n",
            "        ($Y^0$  0): pval = 0.00000 | qval = 0.00000 | val =  0.811\n",
            "        ($Y^1$ -1): pval = 0.00000 | qval = 0.00000 | val =  0.372\n",
            "        ($X^0$  0): pval = 0.00000 | qval = 0.00000 | val =  0.216\n",
            "        ($Y^1$ -7): pval = 0.00000 | qval = 0.00000 | val =  0.178\n"
          ]
        }
      ],
      "metadata": {}
    },
    {
      "cell_type": "code",
      "execution_count": 458,
      "source": [
        "link_matrix = pcmci.return_significant_links(pq_matrix=q_matrix,\r\n",
        "                        val_matrix=results['val_matrix'], alpha_level=0.01)['link_matrix']"
      ],
      "outputs": [],
      "metadata": {}
    },
    {
      "cell_type": "code",
      "execution_count": 459,
      "source": [
        "tp.plot_graph(\r\n",
        "    val_matrix=results['val_matrix'],\r\n",
        "    link_matrix=link_matrix,\r\n",
        "    var_names=var_names,\r\n",
        "    link_colorbar_label='cross-MCI',\r\n",
        "    node_colorbar_label='auto-MCI',\r\n",
        "    ); plt.show()"
      ],
      "outputs": [
        {
          "output_type": "display_data",
          "data": {
            "image/png": "[encoded data removed]",
            "text/plain": [
              "<Figure size 432x288 with 3 Axes>"
            ]
          },
          "metadata": {
            "needs_background": "light"
          }
        }
      ],
      "metadata": {}
    },
    {
      "cell_type": "code",
      "execution_count": 460,
      "source": [
        "# Plot time series graph    \r\n",
        "tp.plot_time_series_graph(\r\n",
        "    figsize=(6, 4),\r\n",
        "    val_matrix=results['val_matrix'],\r\n",
        "    link_matrix=link_matrix,\r\n",
        "    var_names=var_names,\r\n",
        "    link_colorbar_label='MCI',\r\n",
        "    ); plt.show()"
      ],
      "outputs": [
        {
          "output_type": "display_data",
          "data": {
            "image/png": "[encoded data removed]",
            "text/plain": [
              "<Figure size 432x288 with 2 Axes>"
            ]
          },
          "metadata": {
            "needs_background": "light"
          }
        }
      ],
      "metadata": {}
    },
    {
      "cell_type": "markdown",
      "source": [
        "### CMIknn"
      ],
      "metadata": {}
    },
    {
      "cell_type": "code",
      "execution_count": 414,
      "source": [
        "cmi_knn = CMIknn(significance='shuffle_test', knn=0.1, shuffle_neighbors=5, transform='ranks')\r\n",
        "pcmci_cmi_knn = PCMCI(\r\n",
        "    dataframe=dataframe, \r\n",
        "    cond_ind_test=cmi_knn,\r\n",
        "    verbosity=2)\r\n",
        "results = pcmci_cmi_knn.run_pcmci(tau_max=2, pc_alpha=0.05)\r\n",
        "pcmci_cmi_knn.print_significant_links(\r\n",
        "        p_matrix = results['p_matrix'], \r\n",
        "        val_matrix = results['val_matrix'],\r\n",
        "        alpha_level = 0.01)"
      ],
      "outputs": [
        {
          "output_type": "stream",
          "name": "stdout",
          "text": [
            "\n",
            "##\n",
            "## Step 1: PC1 algorithm with lagged conditions\n",
            "##\n",
            "\n",
            "Parameters:\n",
            "independence test = cmi_knn\n",
            "tau_min = 1\n",
            "tau_max = 2\n",
            "pc_alpha = [0.05]\n",
            "max_conds_dim = None\n",
            "max_combinations = 1\n",
            "\n",
            "\n",
            "\n",
            "## Variable $X^0$\n",
            "\n",
            "Iterating through pc_alpha = [0.05]:\n",
            "\n",
            "# pc_alpha = 0.05 (1/1):\n",
            "\n",
            "Testing condition sets of dimension 0:\n",
            "\n",
            "    Link ($X^0$ -1) --> $X^0$ (1/6):\n",
            "    Subset 0: () gives pval = 0.00000 / val =  0.675\n",
            "    No conditions of dimension 0 left.\n",
            "\n",
            "    Link ($X^0$ -2) --> $X^0$ (2/6):\n",
            "    Subset 0: () gives pval = 0.00000 / val =  0.198\n",
            "    No conditions of dimension 0 left.\n",
            "\n",
            "    Link ($Y^0$ -1) --> $X^0$ (3/6):\n",
            "    Subset 0: () gives pval = 0.36400 / val =  0.011\n",
            "    Non-significance detected.\n",
            "\n",
            "    Link ($Y^0$ -2) --> $X^0$ (4/6):\n",
            "    Subset 0: () gives pval = 0.10400 / val =  0.020\n",
            "    Non-significance detected.\n",
            "\n",
            "    Link ($Y^1$ -1) --> $X^0$ (5/6):\n",
            "    Subset 0: () gives pval = 0.80900 / val =  0.001\n",
            "    Non-significance detected.\n",
            "\n",
            "    Link ($Y^1$ -2) --> $X^0$ (6/6):\n",
            "    Subset 0: () gives pval = 0.01600 / val =  0.032\n",
            "    No conditions of dimension 0 left.\n",
            "\n",
            "    Sorting parents in decreasing order with \n",
            "    weight(i-tau->j) = min_{iterations} |val_{ij}(tau)| \n",
            "\n",
            "Updating parents:\n",
            "\n",
            "    Variable $X^0$ has 3 link(s):\n",
            "        ($X^0$ -1): max_pval = 0.00000, min_val =  0.675\n",
            "        ($X^0$ -2): max_pval = 0.00000, min_val =  0.198\n",
            "        ($Y^1$ -2): max_pval = 0.01600, min_val =  0.032\n",
            "\n",
            "Testing condition sets of dimension 1:\n",
            "\n",
            "    Link ($X^0$ -1) --> $X^0$ (1/3):\n",
            "    Subset 0: ($X^0$ -2)  gives pval = 0.00000 / val =  0.435\n",
            "    No conditions of dimension 1 left.\n",
            "\n",
            "    Link ($X^0$ -2) --> $X^0$ (2/3):\n",
            "    Subset 0: ($X^0$ -1)  gives pval = 0.00000 / val =  0.042\n",
            "    No conditions of dimension 1 left.\n",
            "\n",
            "    Link ($Y^1$ -2) --> $X^0$ (3/3):\n",
            "    Subset 0: ($X^0$ -1)  gives pval = 0.00300 / val =  0.026\n",
            "    No conditions of dimension 1 left.\n",
            "\n",
            "    Sorting parents in decreasing order with \n",
            "    weight(i-tau->j) = min_{iterations} |val_{ij}(tau)| \n",
            "\n",
            "Updating parents:\n",
            "\n",
            "    Variable $X^0$ has 3 link(s):\n",
            "        ($X^0$ -1): max_pval = 0.00000, min_val =  0.435\n",
            "        ($X^0$ -2): max_pval = 0.00000, min_val =  0.042\n",
            "        ($Y^1$ -2): max_pval = 0.01600, min_val =  0.026\n",
            "\n",
            "Testing condition sets of dimension 2:\n",
            "\n",
            "    Link ($X^0$ -1) --> $X^0$ (1/3):\n",
            "    Subset 0: ($X^0$ -2) ($Y^1$ -2)  gives pval = 0.00000 / val =  0.269\n",
            "    Still subsets of dimension 2 left, but q_max = 1 reached.\n",
            "\n",
            "    Link ($X^0$ -2) --> $X^0$ (2/3):\n",
            "    Subset 0: ($X^0$ -1) ($Y^1$ -2)  gives pval = 0.99900 / val = -0.017\n",
            "    Non-significance detected.\n",
            "\n",
            "    Link ($Y^1$ -2) --> $X^0$ (3/3):\n",
            "    Subset 0: ($X^0$ -1) ($X^0$ -2)  gives pval = 0.07400 / val =  0.019\n",
            "    Non-significance detected.\n",
            "\n",
            "    Sorting parents in decreasing order with \n",
            "    weight(i-tau->j) = min_{iterations} |val_{ij}(tau)| \n",
            "\n",
            "Updating parents:\n",
            "\n",
            "    Variable $X^0$ has 1 link(s):\n",
            "        ($X^0$ -1): max_pval = 0.00000, min_val =  0.269\n",
            "\n",
            "Algorithm converged for variable $X^0$\n",
            "\n",
            "## Variable $Y^0$\n",
            "\n",
            "Iterating through pc_alpha = [0.05]:\n",
            "\n",
            "# pc_alpha = 0.05 (1/1):\n",
            "\n",
            "Testing condition sets of dimension 0:\n",
            "\n",
            "    Link ($X^0$ -1) --> $Y^0$ (1/6):\n",
            "    Subset 0: () gives pval = 0.33600 / val =  0.014\n",
            "    Non-significance detected.\n",
            "\n",
            "    Link ($X^0$ -2) --> $Y^0$ (2/6):\n",
            "    Subset 0: () gives pval = 0.60500 / val =  0.006\n",
            "    Non-significance detected.\n",
            "\n",
            "    Link ($Y^0$ -1) --> $Y^0$ (3/6):\n",
            "    Subset 0: () gives pval = 0.00000 / val =  0.096\n",
            "    No conditions of dimension 0 left.\n",
            "\n",
            "    Link ($Y^0$ -2) --> $Y^0$ (4/6):\n",
            "    Subset 0: () gives pval = 0.13000 / val =  0.021\n",
            "    Non-significance detected.\n",
            "\n",
            "    Link ($Y^1$ -1) --> $Y^0$ (5/6):\n",
            "    Subset 0: () gives pval = 0.00000 / val =  0.115\n",
            "    No conditions of dimension 0 left.\n",
            "\n",
            "    Link ($Y^1$ -2) --> $Y^0$ (6/6):\n",
            "    Subset 0: () gives pval = 0.02700 / val =  0.035\n",
            "    No conditions of dimension 0 left.\n",
            "\n",
            "    Sorting parents in decreasing order with \n",
            "    weight(i-tau->j) = min_{iterations} |val_{ij}(tau)| \n",
            "\n",
            "Updating parents:\n",
            "\n",
            "    Variable $Y^0$ has 3 link(s):\n",
            "        ($Y^1$ -1): max_pval = 0.00000, min_val =  0.115\n",
            "        ($Y^0$ -1): max_pval = 0.00000, min_val =  0.096\n",
            "        ($Y^1$ -2): max_pval = 0.02700, min_val =  0.035\n",
            "\n",
            "Testing condition sets of dimension 1:\n",
            "\n",
            "    Link ($Y^1$ -1) --> $Y^0$ (1/3):\n",
            "    Subset 0: ($Y^0$ -1)  gives pval = 0.01100 / val =  0.030\n",
            "    No conditions of dimension 1 left.\n",
            "\n",
            "    Link ($Y^0$ -1) --> $Y^0$ (2/3):\n",
            "    Subset 0: ($Y^1$ -1)  gives pval = 0.24700 / val =  0.012\n",
            "    Non-significance detected.\n",
            "\n",
            "    Link ($Y^1$ -2) --> $Y^0$ (3/3):\n",
            "    Subset 0: ($Y^1$ -1)  gives pval = 0.37500 / val =  0.009\n",
            "    Non-significance detected.\n",
            "\n",
            "    Sorting parents in decreasing order with \n",
            "    weight(i-tau->j) = min_{iterations} |val_{ij}(tau)| \n",
            "\n",
            "Updating parents:\n",
            "\n",
            "    Variable $Y^0$ has 1 link(s):\n",
            "        ($Y^1$ -1): max_pval = 0.01100, min_val =  0.030\n",
            "\n",
            "Algorithm converged for variable $Y^0$\n",
            "\n",
            "## Variable $Y^1$\n",
            "\n",
            "Iterating through pc_alpha = [0.05]:\n",
            "\n",
            "# pc_alpha = 0.05 (1/1):\n",
            "\n",
            "Testing condition sets of dimension 0:\n",
            "\n",
            "    Link ($X^0$ -1) --> $Y^1$ (1/6):\n",
            "    Subset 0: () gives pval = 0.08200 / val =  0.025\n",
            "    Non-significance detected.\n",
            "\n",
            "    Link ($X^0$ -2) --> $Y^1$ (2/6):\n",
            "    Subset 0: () gives pval = 0.39100 / val =  0.009\n",
            "    Non-significance detected.\n",
            "\n",
            "    Link ($Y^0$ -1) --> $Y^1$ (3/6):\n",
            "    Subset 0: () gives pval = 0.00000 / val =  0.123\n",
            "    No conditions of dimension 0 left.\n",
            "\n",
            "    Link ($Y^0$ -2) --> $Y^1$ (4/6):\n",
            "    Subset 0: () gives pval = 0.02400 / val =  0.030\n",
            "    No conditions of dimension 0 left.\n",
            "\n",
            "    Link ($Y^1$ -1) --> $Y^1$ (5/6):\n",
            "    Subset 0: () gives pval = 0.00000 / val =  0.180\n",
            "    No conditions of dimension 0 left.\n",
            "\n",
            "    Link ($Y^1$ -2) --> $Y^1$ (6/6):\n",
            "    Subset 0: () gives pval = 0.00400 / val =  0.050\n",
            "    No conditions of dimension 0 left.\n",
            "\n",
            "    Sorting parents in decreasing order with \n",
            "    weight(i-tau->j) = min_{iterations} |val_{ij}(tau)| \n",
            "\n",
            "Updating parents:\n",
            "\n",
            "    Variable $Y^1$ has 4 link(s):\n",
            "        ($Y^1$ -1): max_pval = 0.00000, min_val =  0.180\n",
            "        ($Y^0$ -1): max_pval = 0.00000, min_val =  0.123\n",
            "        ($Y^1$ -2): max_pval = 0.00400, min_val =  0.050\n",
            "        ($Y^0$ -2): max_pval = 0.02400, min_val =  0.030\n",
            "\n",
            "Testing condition sets of dimension 1:\n",
            "\n",
            "    Link ($Y^1$ -1) --> $Y^1$ (1/4):\n",
            "    Subset 0: ($Y^0$ -1)  gives pval = 0.00000 / val =  0.055\n",
            "    No conditions of dimension 1 left.\n",
            "\n",
            "    Link ($Y^0$ -1) --> $Y^1$ (2/4):\n",
            "    Subset 0: ($Y^1$ -1)  gives pval = 0.53900 / val =  0.008\n",
            "    Non-significance detected.\n",
            "\n",
            "    Link ($Y^1$ -2) --> $Y^1$ (3/4):\n",
            "    Subset 0: ($Y^1$ -1)  gives pval = 0.03600 / val =  0.016\n",
            "    No conditions of dimension 1 left.\n",
            "\n",
            "    Link ($Y^0$ -2) --> $Y^1$ (4/4):\n",
            "    Subset 0: ($Y^1$ -1)  gives pval = 0.00900 / val =  0.021\n",
            "    No conditions of dimension 1 left.\n",
            "\n",
            "    Sorting parents in decreasing order with \n",
            "    weight(i-tau->j) = min_{iterations} |val_{ij}(tau)| \n",
            "\n",
            "Updating parents:\n",
            "\n",
            "    Variable $Y^1$ has 3 link(s):\n",
            "        ($Y^1$ -1): max_pval = 0.00000, min_val =  0.055\n",
            "        ($Y^0$ -2): max_pval = 0.02400, min_val =  0.021\n",
            "        ($Y^1$ -2): max_pval = 0.03600, min_val =  0.016\n",
            "\n",
            "Testing condition sets of dimension 2:\n",
            "\n",
            "    Link ($Y^1$ -1) --> $Y^1$ (1/3):\n",
            "    Subset 0: ($Y^0$ -2) ($Y^1$ -2)  gives pval = 0.00000 / val =  0.136\n",
            "    Still subsets of dimension 2 left, but q_max = 1 reached.\n",
            "\n",
            "    Link ($Y^0$ -2) --> $Y^1$ (2/3):\n",
            "    Subset 0: ($Y^1$ -1) ($Y^1$ -2)  gives pval = 0.08300 / val =  0.018\n",
            "    Non-significance detected.\n",
            "\n",
            "    Link ($Y^1$ -2) --> $Y^1$ (3/3):\n",
            "    Subset 0: ($Y^1$ -1) ($Y^0$ -2)  gives pval = 0.37400 / val =  0.013\n",
            "    Non-significance detected.\n",
            "\n",
            "    Sorting parents in decreasing order with \n",
            "    weight(i-tau->j) = min_{iterations} |val_{ij}(tau)| \n",
            "\n",
            "Updating parents:\n",
            "\n",
            "    Variable $Y^1$ has 1 link(s):\n",
            "        ($Y^1$ -1): max_pval = 0.00000, min_val =  0.055\n",
            "\n",
            "Algorithm converged for variable $Y^1$\n",
            "\n",
            "## Resulting lagged parent (super)sets:\n",
            "\n",
            "    Variable $X^0$ has 1 link(s):\n",
            "        ($X^0$ -1): max_pval = 0.00000, min_val =  0.675\n",
            "\n",
            "    Variable $Y^0$ has 1 link(s):\n",
            "        ($Y^1$ -1): max_pval = 0.01100, min_val =  0.030\n",
            "\n",
            "    Variable $Y^1$ has 1 link(s):\n",
            "        ($Y^1$ -1): max_pval = 0.00000, min_val =  0.180\n",
            "\n",
            "##\n",
            "## Step 2: MCI algorithm\n",
            "##\n",
            "\n",
            "Parameters:\n",
            "\n",
            "independence test = cmi_knn\n",
            "tau_min = 0\n",
            "tau_max = 2\n",
            "max_conds_py = None\n",
            "max_conds_px = None\n",
            "\n",
            "        link ($X^0$ -1) --> $X^0$ (1/8):\n",
            "        with conds_y = [ ]\n",
            "        with conds_x = [ ($X^0$ -2) ]\n",
            "\n",
            "        link ($X^0$ -2) --> $X^0$ (2/8):\n",
            "        with conds_y = [ ($X^0$ -1) ]\n",
            "        with conds_x = [ ($X^0$ -3) ]\n",
            "\n",
            "        link ($Y^0$  0) --> $X^0$ (3/8):\n",
            "        with conds_y = [ ($X^0$ -1) ]\n",
            "        with conds_x = [ ($Y^1$ -1) ]\n",
            "\n",
            "        link ($Y^0$ -1) --> $X^0$ (4/8):\n",
            "        with conds_y = [ ($X^0$ -1) ]\n",
            "        with conds_x = [ ($Y^1$ -2) ]\n",
            "\n",
            "        link ($Y^0$ -2) --> $X^0$ (5/8):\n",
            "        with conds_y = [ ($X^0$ -1) ]\n",
            "        with conds_x = [ ($Y^1$ -3) ]\n",
            "\n",
            "        link ($Y^1$  0) --> $X^0$ (6/8):\n",
            "        with conds_y = [ ($X^0$ -1) ]\n",
            "        with conds_x = [ ($Y^1$ -1) ]\n",
            "\n",
            "        link ($Y^1$ -1) --> $X^0$ (7/8):\n",
            "        with conds_y = [ ($X^0$ -1) ]\n",
            "        with conds_x = [ ($Y^1$ -2) ]\n",
            "\n",
            "        link ($Y^1$ -2) --> $X^0$ (8/8):\n",
            "        with conds_y = [ ($X^0$ -1) ]\n",
            "        with conds_x = [ ($Y^1$ -3) ]\n",
            "\n",
            "        link ($X^0$  0) --> $Y^0$ (1/8):\n",
            "        with conds_y = [ ($Y^1$ -1) ]\n",
            "        with conds_x = [ ($X^0$ -1) ]\n",
            "\n",
            "        link ($X^0$ -1) --> $Y^0$ (2/8):\n",
            "        with conds_y = [ ($Y^1$ -1) ]\n",
            "        with conds_x = [ ($X^0$ -2) ]\n",
            "\n",
            "        link ($X^0$ -2) --> $Y^0$ (3/8):\n",
            "        with conds_y = [ ($Y^1$ -1) ]\n",
            "        with conds_x = [ ($X^0$ -3) ]\n",
            "\n",
            "        link ($Y^0$ -1) --> $Y^0$ (4/8):\n",
            "        with conds_y = [ ($Y^1$ -1) ]\n",
            "        with conds_x = [ ($Y^1$ -2) ]\n",
            "\n",
            "        link ($Y^0$ -2) --> $Y^0$ (5/8):\n",
            "        with conds_y = [ ($Y^1$ -1) ]\n",
            "        with conds_x = [ ($Y^1$ -3) ]\n",
            "\n",
            "        link ($Y^1$  0) --> $Y^0$ (6/8):\n",
            "        with conds_y = [ ($Y^1$ -1) ]\n",
            "        with conds_x = [ ($Y^1$ -1) ]\n",
            "\n",
            "        link ($Y^1$ -1) --> $Y^0$ (7/8):\n",
            "        with conds_y = [ ]\n",
            "        with conds_x = [ ($Y^1$ -2) ]\n",
            "\n",
            "        link ($Y^1$ -2) --> $Y^0$ (8/8):\n",
            "        with conds_y = [ ($Y^1$ -1) ]\n",
            "        with conds_x = [ ($Y^1$ -3) ]\n",
            "\n",
            "        link ($X^0$  0) --> $Y^1$ (1/8):\n",
            "        with conds_y = [ ($Y^1$ -1) ]\n",
            "        with conds_x = [ ($X^0$ -1) ]\n",
            "\n",
            "        link ($X^0$ -1) --> $Y^1$ (2/8):\n",
            "        with conds_y = [ ($Y^1$ -1) ]\n",
            "        with conds_x = [ ($X^0$ -2) ]\n",
            "\n",
            "        link ($X^0$ -2) --> $Y^1$ (3/8):\n",
            "        with conds_y = [ ($Y^1$ -1) ]\n",
            "        with conds_x = [ ($X^0$ -3) ]\n",
            "\n",
            "        link ($Y^0$  0) --> $Y^1$ (4/8):\n",
            "        with conds_y = [ ($Y^1$ -1) ]\n",
            "        with conds_x = [ ($Y^1$ -1) ]\n",
            "\n",
            "        link ($Y^0$ -1) --> $Y^1$ (5/8):\n",
            "        with conds_y = [ ($Y^1$ -1) ]\n",
            "        with conds_x = [ ($Y^1$ -2) ]\n",
            "\n",
            "        link ($Y^0$ -2) --> $Y^1$ (6/8):\n",
            "        with conds_y = [ ($Y^1$ -1) ]\n",
            "        with conds_x = [ ($Y^1$ -3) ]\n",
            "\n",
            "        link ($Y^1$ -1) --> $Y^1$ (7/8):\n",
            "        with conds_y = [ ]\n",
            "        with conds_x = [ ($Y^1$ -2) ]\n",
            "\n",
            "        link ($Y^1$ -2) --> $Y^1$ (8/8):\n",
            "        with conds_y = [ ($Y^1$ -1) ]\n",
            "        with conds_x = [ ($Y^1$ -3) ]\n",
            "\n",
            "## Significant links at alpha = 0.05:\n",
            "\n",
            "    Variable $X^0$ has 1 link(s):\n",
            "        ($X^0$ -1): pval = 0.00000 | val =  0.435\n",
            "\n",
            "    Variable $Y^0$ has 2 link(s):\n",
            "        ($Y^1$  0): pval = 0.00000 | val =  0.498\n",
            "        ($Y^1$ -1): pval = 0.00000 | val =  0.083\n",
            "\n",
            "    Variable $Y^1$ has 4 link(s):\n",
            "        ($Y^0$  0): pval = 0.00000 | val =  0.498\n",
            "        ($Y^1$ -1): pval = 0.00000 | val =  0.134\n",
            "        ($Y^0$ -2): pval = 0.03800 | val =  0.019\n",
            "        ($X^0$ -1): pval = 0.03100 | val =  0.016\n",
            "\n",
            "## Significant links at alpha = 0.01:\n",
            "\n",
            "    Variable $X^0$ has 1 link(s):\n",
            "        ($X^0$ -1): pval = 0.00000 | val =  0.435\n",
            "\n",
            "    Variable $Y^0$ has 2 link(s):\n",
            "        ($Y^1$  0): pval = 0.00000 | val =  0.498\n",
            "        ($Y^1$ -1): pval = 0.00000 | val =  0.083\n",
            "\n",
            "    Variable $Y^1$ has 2 link(s):\n",
            "        ($Y^0$  0): pval = 0.00000 | val =  0.498\n",
            "        ($Y^1$ -1): pval = 0.00000 | val =  0.134\n"
          ]
        }
      ],
      "metadata": {}
    },
    {
      "cell_type": "code",
      "execution_count": 415,
      "source": [
        "link_matrix = pcmci_cmi_knn.return_significant_links(pq_matrix=results['p_matrix'],\r\n",
        "                        val_matrix=results['val_matrix'], alpha_level=0.01)['link_matrix']\r\n",
        "tp.plot_graph(\r\n",
        "    val_matrix=results['val_matrix'],\r\n",
        "    link_matrix=link_matrix,\r\n",
        "    var_names=var_names,\r\n",
        "    link_colorbar_label='cross-MCI',\r\n",
        "    node_colorbar_label='auto-MCI',\r\n",
        "    vmin_edges=0.,\r\n",
        "    vmax_edges = 0.3,\r\n",
        "    edge_ticks=0.05,\r\n",
        "    cmap_edges='OrRd',\r\n",
        "    vmin_nodes=0,\r\n",
        "    vmax_nodes=.5,\r\n",
        "    node_ticks=.1,\r\n",
        "    cmap_nodes='OrRd',\r\n",
        "    ); plt.show()"
      ],
      "outputs": [
        {
          "output_type": "display_data",
          "data": {
            "image/png": "[encoded data removed]",
            "text/plain": [
              "<Figure size 432x288 with 3 Axes>"
            ]
          },
          "metadata": {
            "needs_background": "light"
          }
        }
      ],
      "metadata": {}
    }
  ]
}