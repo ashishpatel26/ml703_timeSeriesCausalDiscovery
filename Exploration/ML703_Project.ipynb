{
  "nbformat": 4,
  "nbformat_minor": 2,
  "metadata": {
    "colab": {
      "name": "ML703_Project.ipynb",
      "provenance": []
    },
    "kernelspec": {
      "name": "python3",
      "display_name": "Python 3.9.6 64-bit ('ml_703': conda)"
    },
    "language_info": {
      "name": "python",
      "version": "3.9.6",
      "mimetype": "text/x-python",
      "codemirror_mode": {
        "name": "ipython",
        "version": 3
      },
      "pygments_lexer": "ipython3",
      "nbconvert_exporter": "python",
      "file_extension": ".py"
    },
    "interpreter": {
      "hash": "aa69ecefdc84d253b64bda2e06e464544fe241a21e4e40f031a853d821bda072"
    }
  },
  "cells": [
    {
      "cell_type": "markdown",
      "source": [
        "# Analysing Performance of Stocks using Causal Discovery"
      ],
      "metadata": {
        "id": "VjnaRzCQOE4N"
      }
    },
    {
      "cell_type": "markdown",
      "source": [
        "## Setup\n",
        "\n",
        "Import the datasets:"
      ],
      "metadata": {
        "id": "TahcpxGSONkI"
      }
    },
    {
      "cell_type": "code",
      "execution_count": 3,
      "source": [
        "%%capture\r\n"
      ],
      "outputs": [],
      "metadata": {
        "colab": {
          "base_uri": "https://localhost:8080/"
        },
        "id": "Te5Ratn6OA8s",
        "outputId": "872c95ee-6772-4189-baf2-f9b2509aa0d2"
      }
    },
    {
      "cell_type": "markdown",
      "source": [
        "## Data Loading"
      ],
      "metadata": {}
    },
    {
      "cell_type": "code",
      "execution_count": 2,
      "source": [
        "import pandas as pd\r\n",
        "import numpy as np\r\n",
        "import matplotlib.pyplot as plt"
      ],
      "outputs": [],
      "metadata": {}
    },
    {
      "cell_type": "code",
      "execution_count": 3,
      "source": [
        "data_dir = \"C:/Users/diego/iCloudDrive/Documents/MBZUAI Sem/Semester 2/ML703 Probabilistic and Statistical Inference/Project/JN/Datasets/\"\r\n",
        "\r\n",
        "company = pd.read_csv(data_dir + \"Company.csv\")\r\n",
        "companyValues = pd.read_csv(data_dir + \"CompanyValues.csv\")\r\n",
        "companyTweet = pd.read_csv(data_dir + \"Company_Tweet.csv\")\r\n",
        "tweet = pd.read_csv(data_dir + \"Tweet.csv\")\r\n",
        "tweet = tweet.merge(companyTweet, on=\"tweet_id\", how='inner')"
      ],
      "outputs": [],
      "metadata": {}
    },
    {
      "cell_type": "code",
      "execution_count": 4,
      "source": [
        "companyValues.head()"
      ],
      "outputs": [
        {
          "output_type": "execute_result",
          "data": {
            "text/html": [
              "<div>\n",
              "<style scoped>\n",
              "    .dataframe tbody tr th:only-of-type {\n",
              "        vertical-align: middle;\n",
              "    }\n",
              "\n",
              "    .dataframe tbody tr th {\n",
              "        vertical-align: top;\n",
              "    }\n",
              "\n",
              "    .dataframe thead th {\n",
              "        text-align: right;\n",
              "    }\n",
              "</style>\n",
              "<table border=\"1\" class=\"dataframe\">\n",
              "  <thead>\n",
              "    <tr style=\"text-align: right;\">\n",
              "      <th></th>\n",
              "      <th>ticker_symbol</th>\n",
              "      <th>day_date</th>\n",
              "      <th>close_value</th>\n",
              "      <th>volume</th>\n",
              "      <th>open_value</th>\n",
              "      <th>high_value</th>\n",
              "      <th>low_value</th>\n",
              "    </tr>\n",
              "  </thead>\n",
              "  <tbody>\n",
              "    <tr>\n",
              "      <th>0</th>\n",
              "      <td>AAPL</td>\n",
              "      <td>2020-05-29</td>\n",
              "      <td>317.94</td>\n",
              "      <td>38399530</td>\n",
              "      <td>319.25</td>\n",
              "      <td>321.15</td>\n",
              "      <td>316.47</td>\n",
              "    </tr>\n",
              "    <tr>\n",
              "      <th>1</th>\n",
              "      <td>AAPL</td>\n",
              "      <td>2020-05-28</td>\n",
              "      <td>318.25</td>\n",
              "      <td>33449100</td>\n",
              "      <td>316.77</td>\n",
              "      <td>323.44</td>\n",
              "      <td>315.63</td>\n",
              "    </tr>\n",
              "    <tr>\n",
              "      <th>2</th>\n",
              "      <td>AAPL</td>\n",
              "      <td>2020-05-27</td>\n",
              "      <td>318.11</td>\n",
              "      <td>28236270</td>\n",
              "      <td>316.14</td>\n",
              "      <td>318.71</td>\n",
              "      <td>313.09</td>\n",
              "    </tr>\n",
              "    <tr>\n",
              "      <th>3</th>\n",
              "      <td>AAPL</td>\n",
              "      <td>2020-05-26</td>\n",
              "      <td>316.73</td>\n",
              "      <td>31380450</td>\n",
              "      <td>323.50</td>\n",
              "      <td>324.24</td>\n",
              "      <td>316.50</td>\n",
              "    </tr>\n",
              "    <tr>\n",
              "      <th>4</th>\n",
              "      <td>AAPL</td>\n",
              "      <td>2020-05-22</td>\n",
              "      <td>318.89</td>\n",
              "      <td>20450750</td>\n",
              "      <td>315.77</td>\n",
              "      <td>319.23</td>\n",
              "      <td>315.35</td>\n",
              "    </tr>\n",
              "  </tbody>\n",
              "</table>\n",
              "</div>"
            ],
            "text/plain": [
              "  ticker_symbol    day_date  close_value    volume  open_value  high_value  \\\n",
              "0          AAPL  2020-05-29       317.94  38399530      319.25      321.15   \n",
              "1          AAPL  2020-05-28       318.25  33449100      316.77      323.44   \n",
              "2          AAPL  2020-05-27       318.11  28236270      316.14      318.71   \n",
              "3          AAPL  2020-05-26       316.73  31380450      323.50      324.24   \n",
              "4          AAPL  2020-05-22       318.89  20450750      315.77      319.23   \n",
              "\n",
              "   low_value  \n",
              "0     316.47  \n",
              "1     315.63  \n",
              "2     313.09  \n",
              "3     316.50  \n",
              "4     315.35  "
            ]
          },
          "metadata": {},
          "execution_count": 4
        }
      ],
      "metadata": {}
    },
    {
      "cell_type": "code",
      "execution_count": 56,
      "source": [
        "companyValuesApple = companyValues[companyValues.ticker_symbol == 'AAPL']\r\n",
        "tweetApple = tweet[tweet.ticker_symbol == 'AAPL']"
      ],
      "outputs": [],
      "metadata": {}
    },
    {
      "cell_type": "code",
      "execution_count": 35,
      "source": [
        "companyValuesApple.shape"
      ],
      "outputs": [
        {
          "output_type": "execute_result",
          "data": {
            "text/plain": [
              "(3085, 7)"
            ]
          },
          "metadata": {},
          "execution_count": 35
        }
      ],
      "metadata": {}
    },
    {
      "cell_type": "code",
      "execution_count": 36,
      "source": [
        "tweetApple.shape"
      ],
      "outputs": [
        {
          "output_type": "execute_result",
          "data": {
            "text/plain": [
              "(1425013, 8)"
            ]
          },
          "metadata": {},
          "execution_count": 36
        }
      ],
      "metadata": {}
    },
    {
      "cell_type": "code",
      "execution_count": 57,
      "source": [
        "from datetime import datetime, timezone\r\n",
        "from zoneinfo import ZoneInfo\r\n",
        "\r\n",
        "tweetApple['post_date'] =  pd.to_datetime(tweetApple['post_date'], unit='s', utc=True)\r\n",
        "tweetApple['post_datetime'] = tweetApple['post_date'].dt.tz_convert('Asia/Qatar')\r\n",
        "tweetApple['date'] = tweetApple['post_datetime'].dt.date\r\n",
        "\r\n",
        "tweetApple[tweetApple.writer == \"btcgemini\"]"
      ],
      "outputs": [
        {
          "output_type": "stream",
          "name": "stderr",
          "text": [
            "C:\\Users\\diego\\AppData\\Local\\Temp/ipykernel_36544/969402371.py:4: SettingWithCopyWarning: \n",
            "A value is trying to be set on a copy of a slice from a DataFrame.\n",
            "Try using .loc[row_indexer,col_indexer] = value instead\n",
            "\n",
            "See the caveats in the documentation: https://pandas.pydata.org/pandas-docs/stable/user_guide/indexing.html#returning-a-view-versus-a-copy\n",
            "  tweetApple['post_date'] =  pd.to_datetime(tweetApple['post_date'], unit='s', utc=True)\n",
            "C:\\Users\\diego\\AppData\\Local\\Temp/ipykernel_36544/969402371.py:5: SettingWithCopyWarning: \n",
            "A value is trying to be set on a copy of a slice from a DataFrame.\n",
            "Try using .loc[row_indexer,col_indexer] = value instead\n",
            "\n",
            "See the caveats in the documentation: https://pandas.pydata.org/pandas-docs/stable/user_guide/indexing.html#returning-a-view-versus-a-copy\n",
            "  tweetApple['post_datetime'] = tweetApple['post_date'].dt.tz_convert('Asia/Qatar')\n",
            "C:\\Users\\diego\\AppData\\Local\\Temp/ipykernel_36544/969402371.py:6: SettingWithCopyWarning: \n",
            "A value is trying to be set on a copy of a slice from a DataFrame.\n",
            "Try using .loc[row_indexer,col_indexer] = value instead\n",
            "\n",
            "See the caveats in the documentation: https://pandas.pydata.org/pandas-docs/stable/user_guide/indexing.html#returning-a-view-versus-a-copy\n",
            "  tweetApple['date'] = tweetApple['post_datetime'].dt.date\n"
          ]
        },
        {
          "output_type": "execute_result",
          "data": {
            "text/html": [
              "<div>\n",
              "<style scoped>\n",
              "    .dataframe tbody tr th:only-of-type {\n",
              "        vertical-align: middle;\n",
              "    }\n",
              "\n",
              "    .dataframe tbody tr th {\n",
              "        vertical-align: top;\n",
              "    }\n",
              "\n",
              "    .dataframe thead th {\n",
              "        text-align: right;\n",
              "    }\n",
              "</style>\n",
              "<table border=\"1\" class=\"dataframe\">\n",
              "  <thead>\n",
              "    <tr style=\"text-align: right;\">\n",
              "      <th></th>\n",
              "      <th>tweet_id</th>\n",
              "      <th>writer</th>\n",
              "      <th>post_date</th>\n",
              "      <th>body</th>\n",
              "      <th>comment_num</th>\n",
              "      <th>retweet_num</th>\n",
              "      <th>like_num</th>\n",
              "      <th>ticker_symbol</th>\n",
              "      <th>post_datetime</th>\n",
              "      <th>date</th>\n",
              "    </tr>\n",
              "  </thead>\n",
              "  <tbody>\n",
              "    <tr>\n",
              "      <th>24</th>\n",
              "      <td>550447574285418497</td>\n",
              "      <td>btcgemini</td>\n",
              "      <td>2015-01-01 00:25:03+00:00</td>\n",
              "      <td>We searched through hundreds of charts and fou...</td>\n",
              "      <td>0</td>\n",
              "      <td>0</td>\n",
              "      <td>0</td>\n",
              "      <td>AAPL</td>\n",
              "      <td>2015-01-01 03:25:03+03:00</td>\n",
              "      <td>2015-01-01</td>\n",
              "    </tr>\n",
              "    <tr>\n",
              "      <th>110446</th>\n",
              "      <td>567684786831892481</td>\n",
              "      <td>btcgemini</td>\n",
              "      <td>2015-02-17 13:59:34+00:00</td>\n",
              "      <td>What exactly is an Apple Watch for? $AAPL http...</td>\n",
              "      <td>0</td>\n",
              "      <td>0</td>\n",
              "      <td>0</td>\n",
              "      <td>AAPL</td>\n",
              "      <td>2015-02-17 16:59:34+03:00</td>\n",
              "      <td>2015-02-17</td>\n",
              "    </tr>\n",
              "    <tr>\n",
              "      <th>142197</th>\n",
              "      <td>572295414998691840</td>\n",
              "      <td>btcgemini</td>\n",
              "      <td>2015-03-02 07:20:34+00:00</td>\n",
              "      <td>Here’s a list of the stocks hedge funds loved ...</td>\n",
              "      <td>1</td>\n",
              "      <td>0</td>\n",
              "      <td>2</td>\n",
              "      <td>AAPL</td>\n",
              "      <td>2015-03-02 10:20:34+03:00</td>\n",
              "      <td>2015-03-02</td>\n",
              "    </tr>\n",
              "    <tr>\n",
              "      <th>196808</th>\n",
              "      <td>579163548422537216</td>\n",
              "      <td>btcgemini</td>\n",
              "      <td>2015-03-21 06:12:04+00:00</td>\n",
              "      <td>In the last 9 minutes of trading, one $AAPL dr...</td>\n",
              "      <td>1</td>\n",
              "      <td>1</td>\n",
              "      <td>1</td>\n",
              "      <td>AAPL</td>\n",
              "      <td>2015-03-21 09:12:04+03:00</td>\n",
              "      <td>2015-03-21</td>\n",
              "    </tr>\n",
              "  </tbody>\n",
              "</table>\n",
              "</div>"
            ],
            "text/plain": [
              "                  tweet_id     writer                 post_date  \\\n",
              "24      550447574285418497  btcgemini 2015-01-01 00:25:03+00:00   \n",
              "110446  567684786831892481  btcgemini 2015-02-17 13:59:34+00:00   \n",
              "142197  572295414998691840  btcgemini 2015-03-02 07:20:34+00:00   \n",
              "196808  579163548422537216  btcgemini 2015-03-21 06:12:04+00:00   \n",
              "\n",
              "                                                     body  comment_num  \\\n",
              "24      We searched through hundreds of charts and fou...            0   \n",
              "110446  What exactly is an Apple Watch for? $AAPL http...            0   \n",
              "142197  Here’s a list of the stocks hedge funds loved ...            1   \n",
              "196808  In the last 9 minutes of trading, one $AAPL dr...            1   \n",
              "\n",
              "        retweet_num  like_num ticker_symbol             post_datetime  \\\n",
              "24                0         0          AAPL 2015-01-01 03:25:03+03:00   \n",
              "110446            0         0          AAPL 2015-02-17 16:59:34+03:00   \n",
              "142197            0         2          AAPL 2015-03-02 10:20:34+03:00   \n",
              "196808            1         1          AAPL 2015-03-21 09:12:04+03:00   \n",
              "\n",
              "              date  \n",
              "24      2015-01-01  \n",
              "110446  2015-02-17  \n",
              "142197  2015-03-02  \n",
              "196808  2015-03-21  "
            ]
          },
          "metadata": {},
          "execution_count": 57
        }
      ],
      "metadata": {}
    },
    {
      "cell_type": "code",
      "execution_count": 58,
      "source": [
        "tweetAppleMetrics = tweetApple[['date', 'comment_num', 'retweet_num', 'like_num']]\r\n",
        "tweetAppleMetrics = tweetAppleMetrics.groupby([\"date\"]).sum()\r\n",
        "tweetAppleMetrics"
      ],
      "outputs": [
        {
          "output_type": "execute_result",
          "data": {
            "text/html": [
              "<div>\n",
              "<style scoped>\n",
              "    .dataframe tbody tr th:only-of-type {\n",
              "        vertical-align: middle;\n",
              "    }\n",
              "\n",
              "    .dataframe tbody tr th {\n",
              "        vertical-align: top;\n",
              "    }\n",
              "\n",
              "    .dataframe thead th {\n",
              "        text-align: right;\n",
              "    }\n",
              "</style>\n",
              "<table border=\"1\" class=\"dataframe\">\n",
              "  <thead>\n",
              "    <tr style=\"text-align: right;\">\n",
              "      <th></th>\n",
              "      <th>comment_num</th>\n",
              "      <th>retweet_num</th>\n",
              "      <th>like_num</th>\n",
              "    </tr>\n",
              "    <tr>\n",
              "      <th>date</th>\n",
              "      <th></th>\n",
              "      <th></th>\n",
              "      <th></th>\n",
              "    </tr>\n",
              "  </thead>\n",
              "  <tbody>\n",
              "    <tr>\n",
              "      <th>2015-01-01</th>\n",
              "      <td>17</td>\n",
              "      <td>968</td>\n",
              "      <td>227</td>\n",
              "    </tr>\n",
              "    <tr>\n",
              "      <th>2015-01-02</th>\n",
              "      <td>128</td>\n",
              "      <td>2102</td>\n",
              "      <td>562</td>\n",
              "    </tr>\n",
              "    <tr>\n",
              "      <th>2015-01-03</th>\n",
              "      <td>31</td>\n",
              "      <td>103</td>\n",
              "      <td>192</td>\n",
              "    </tr>\n",
              "    <tr>\n",
              "      <th>2015-01-04</th>\n",
              "      <td>52</td>\n",
              "      <td>328</td>\n",
              "      <td>323</td>\n",
              "    </tr>\n",
              "    <tr>\n",
              "      <th>2015-01-05</th>\n",
              "      <td>139</td>\n",
              "      <td>392</td>\n",
              "      <td>554</td>\n",
              "    </tr>\n",
              "    <tr>\n",
              "      <th>...</th>\n",
              "      <td>...</td>\n",
              "      <td>...</td>\n",
              "      <td>...</td>\n",
              "    </tr>\n",
              "    <tr>\n",
              "      <th>2019-12-28</th>\n",
              "      <td>127</td>\n",
              "      <td>545</td>\n",
              "      <td>1579</td>\n",
              "    </tr>\n",
              "    <tr>\n",
              "      <th>2019-12-29</th>\n",
              "      <td>74</td>\n",
              "      <td>307</td>\n",
              "      <td>528</td>\n",
              "    </tr>\n",
              "    <tr>\n",
              "      <th>2019-12-30</th>\n",
              "      <td>271</td>\n",
              "      <td>725</td>\n",
              "      <td>1821</td>\n",
              "    </tr>\n",
              "    <tr>\n",
              "      <th>2019-12-31</th>\n",
              "      <td>244</td>\n",
              "      <td>404</td>\n",
              "      <td>2088</td>\n",
              "    </tr>\n",
              "    <tr>\n",
              "      <th>2020-01-01</th>\n",
              "      <td>23</td>\n",
              "      <td>23</td>\n",
              "      <td>132</td>\n",
              "    </tr>\n",
              "  </tbody>\n",
              "</table>\n",
              "<p>1827 rows × 3 columns</p>\n",
              "</div>"
            ],
            "text/plain": [
              "            comment_num  retweet_num  like_num\n",
              "date                                          \n",
              "2015-01-01           17          968       227\n",
              "2015-01-02          128         2102       562\n",
              "2015-01-03           31          103       192\n",
              "2015-01-04           52          328       323\n",
              "2015-01-05          139          392       554\n",
              "...                 ...          ...       ...\n",
              "2019-12-28          127          545      1579\n",
              "2019-12-29           74          307       528\n",
              "2019-12-30          271          725      1821\n",
              "2019-12-31          244          404      2088\n",
              "2020-01-01           23           23       132\n",
              "\n",
              "[1827 rows x 3 columns]"
            ]
          },
          "metadata": {},
          "execution_count": 58
        }
      ],
      "metadata": {}
    },
    {
      "cell_type": "code",
      "execution_count": 69,
      "source": [
        "tweetAppleMetrics2019 = tweetAppleMetrics[(tweetAppleMetrics.index >= pd.to_datetime(\"2019/01/01\")) & (tweetAppleMetrics.index <= pd.to_datetime(\"2019/12/31\"))]\r\n",
        "tweetAppleMetrics2019"
      ],
      "outputs": [
        {
          "output_type": "stream",
          "name": "stderr",
          "text": [
            "C:\\Users\\diego\\anaconda3\\envs\\ml_703\\lib\\site-packages\\pandas\\core\\ops\\array_ops.py:73: FutureWarning: Comparison of Timestamp with datetime.date is deprecated in order to match the standard library behavior.  In a future version these will be considered non-comparable.Use 'ts == pd.Timestamp(date)' or 'ts.date() == date' instead.\n",
            "  result = libops.scalar_compare(x.ravel(), y, op)\n"
          ]
        },
        {
          "output_type": "execute_result",
          "data": {
            "text/html": [
              "<div>\n",
              "<style scoped>\n",
              "    .dataframe tbody tr th:only-of-type {\n",
              "        vertical-align: middle;\n",
              "    }\n",
              "\n",
              "    .dataframe tbody tr th {\n",
              "        vertical-align: top;\n",
              "    }\n",
              "\n",
              "    .dataframe thead th {\n",
              "        text-align: right;\n",
              "    }\n",
              "</style>\n",
              "<table border=\"1\" class=\"dataframe\">\n",
              "  <thead>\n",
              "    <tr style=\"text-align: right;\">\n",
              "      <th></th>\n",
              "      <th>comment_num</th>\n",
              "      <th>retweet_num</th>\n",
              "      <th>like_num</th>\n",
              "    </tr>\n",
              "    <tr>\n",
              "      <th>date</th>\n",
              "      <th></th>\n",
              "      <th></th>\n",
              "      <th></th>\n",
              "    </tr>\n",
              "  </thead>\n",
              "  <tbody>\n",
              "    <tr>\n",
              "      <th>2019-01-01</th>\n",
              "      <td>61</td>\n",
              "      <td>163</td>\n",
              "      <td>539</td>\n",
              "    </tr>\n",
              "    <tr>\n",
              "      <th>2019-01-02</th>\n",
              "      <td>15</td>\n",
              "      <td>9</td>\n",
              "      <td>135</td>\n",
              "    </tr>\n",
              "    <tr>\n",
              "      <th>2019-01-03</th>\n",
              "      <td>4292</td>\n",
              "      <td>5215</td>\n",
              "      <td>26762</td>\n",
              "    </tr>\n",
              "    <tr>\n",
              "      <th>2019-01-04</th>\n",
              "      <td>1202</td>\n",
              "      <td>1396</td>\n",
              "      <td>5969</td>\n",
              "    </tr>\n",
              "    <tr>\n",
              "      <th>2019-01-05</th>\n",
              "      <td>239</td>\n",
              "      <td>294</td>\n",
              "      <td>1358</td>\n",
              "    </tr>\n",
              "    <tr>\n",
              "      <th>...</th>\n",
              "      <td>...</td>\n",
              "      <td>...</td>\n",
              "      <td>...</td>\n",
              "    </tr>\n",
              "    <tr>\n",
              "      <th>2019-12-27</th>\n",
              "      <td>196</td>\n",
              "      <td>183</td>\n",
              "      <td>1225</td>\n",
              "    </tr>\n",
              "    <tr>\n",
              "      <th>2019-12-28</th>\n",
              "      <td>127</td>\n",
              "      <td>545</td>\n",
              "      <td>1579</td>\n",
              "    </tr>\n",
              "    <tr>\n",
              "      <th>2019-12-29</th>\n",
              "      <td>74</td>\n",
              "      <td>307</td>\n",
              "      <td>528</td>\n",
              "    </tr>\n",
              "    <tr>\n",
              "      <th>2019-12-30</th>\n",
              "      <td>271</td>\n",
              "      <td>725</td>\n",
              "      <td>1821</td>\n",
              "    </tr>\n",
              "    <tr>\n",
              "      <th>2019-12-31</th>\n",
              "      <td>244</td>\n",
              "      <td>404</td>\n",
              "      <td>2088</td>\n",
              "    </tr>\n",
              "  </tbody>\n",
              "</table>\n",
              "<p>365 rows × 3 columns</p>\n",
              "</div>"
            ],
            "text/plain": [
              "            comment_num  retweet_num  like_num\n",
              "date                                          \n",
              "2019-01-01           61          163       539\n",
              "2019-01-02           15            9       135\n",
              "2019-01-03         4292         5215     26762\n",
              "2019-01-04         1202         1396      5969\n",
              "2019-01-05          239          294      1358\n",
              "...                 ...          ...       ...\n",
              "2019-12-27          196          183      1225\n",
              "2019-12-28          127          545      1579\n",
              "2019-12-29           74          307       528\n",
              "2019-12-30          271          725      1821\n",
              "2019-12-31          244          404      2088\n",
              "\n",
              "[365 rows x 3 columns]"
            ]
          },
          "metadata": {},
          "execution_count": 69
        }
      ],
      "metadata": {}
    },
    {
      "cell_type": "code",
      "execution_count": 76,
      "source": [
        "plt.plot(tweetAppleMetrics2019.comment_num)"
      ],
      "outputs": [
        {
          "output_type": "execute_result",
          "data": {
            "text/plain": [
              "[<matplotlib.lines.Line2D at 0x1be2001f880>]"
            ]
          },
          "metadata": {},
          "execution_count": 76
        },
        {
          "output_type": "display_data",
          "data": {
            "image/png": "[encoded data removed]",
            "text/plain": [
              "<Figure size 432x288 with 1 Axes>"
            ]
          },
          "metadata": {
            "needs_background": "light"
          }
        }
      ],
      "metadata": {}
    },
    {
      "cell_type": "code",
      "execution_count": 71,
      "source": [
        "companyValuesApple['date'] = pd.to_datetime(companyValuesApple['day_date']).dt.date\r\n",
        "companyValuesAppleMetrics = companyValuesApple[['date', 'close_value', 'volume', 'open_value', 'high_value', 'low_value']]\r\n",
        "companyValuesAppleMetrics = companyValuesAppleMetrics.groupby(['date']).sum()\r\n",
        "companyValuesAppleMetrics2019 = companyValuesAppleMetrics[(companyValuesAppleMetrics.index >= pd.to_datetime(\"2019/01/01\")) & (companyValuesAppleMetrics.index <= pd.to_datetime(\"2019/12/31\"))]\r\n",
        "companyValuesAppleMetrics2019"
      ],
      "outputs": [
        {
          "output_type": "stream",
          "name": "stderr",
          "text": [
            "C:\\Users\\diego\\AppData\\Local\\Temp/ipykernel_36544/3448867007.py:1: SettingWithCopyWarning: \n",
            "A value is trying to be set on a copy of a slice from a DataFrame.\n",
            "Try using .loc[row_indexer,col_indexer] = value instead\n",
            "\n",
            "See the caveats in the documentation: https://pandas.pydata.org/pandas-docs/stable/user_guide/indexing.html#returning-a-view-versus-a-copy\n",
            "  companyValuesApple['date'] = pd.to_datetime(companyValuesApple['day_date']).dt.date\n"
          ]
        },
        {
          "output_type": "execute_result",
          "data": {
            "text/html": [
              "<div>\n",
              "<style scoped>\n",
              "    .dataframe tbody tr th:only-of-type {\n",
              "        vertical-align: middle;\n",
              "    }\n",
              "\n",
              "    .dataframe tbody tr th {\n",
              "        vertical-align: top;\n",
              "    }\n",
              "\n",
              "    .dataframe thead th {\n",
              "        text-align: right;\n",
              "    }\n",
              "</style>\n",
              "<table border=\"1\" class=\"dataframe\">\n",
              "  <thead>\n",
              "    <tr style=\"text-align: right;\">\n",
              "      <th></th>\n",
              "      <th>close_value</th>\n",
              "      <th>volume</th>\n",
              "      <th>open_value</th>\n",
              "      <th>high_value</th>\n",
              "      <th>low_value</th>\n",
              "    </tr>\n",
              "    <tr>\n",
              "      <th>date</th>\n",
              "      <th></th>\n",
              "      <th></th>\n",
              "      <th></th>\n",
              "      <th></th>\n",
              "      <th></th>\n",
              "    </tr>\n",
              "  </thead>\n",
              "  <tbody>\n",
              "    <tr>\n",
              "      <th>2019-01-01</th>\n",
              "      <td>157.74</td>\n",
              "      <td>34499390</td>\n",
              "      <td>158.53</td>\n",
              "      <td>159.3600</td>\n",
              "      <td>156.48</td>\n",
              "    </tr>\n",
              "    <tr>\n",
              "      <th>2019-01-02</th>\n",
              "      <td>157.92</td>\n",
              "      <td>35637070</td>\n",
              "      <td>154.89</td>\n",
              "      <td>158.8500</td>\n",
              "      <td>154.23</td>\n",
              "    </tr>\n",
              "    <tr>\n",
              "      <th>2019-01-03</th>\n",
              "      <td>142.19</td>\n",
              "      <td>91106840</td>\n",
              "      <td>143.98</td>\n",
              "      <td>145.7200</td>\n",
              "      <td>142.00</td>\n",
              "    </tr>\n",
              "    <tr>\n",
              "      <th>2019-01-04</th>\n",
              "      <td>148.26</td>\n",
              "      <td>57423650</td>\n",
              "      <td>144.53</td>\n",
              "      <td>148.5499</td>\n",
              "      <td>143.80</td>\n",
              "    </tr>\n",
              "    <tr>\n",
              "      <th>2019-01-05</th>\n",
              "      <td>148.26</td>\n",
              "      <td>57423650</td>\n",
              "      <td>144.53</td>\n",
              "      <td>148.5499</td>\n",
              "      <td>143.80</td>\n",
              "    </tr>\n",
              "    <tr>\n",
              "      <th>...</th>\n",
              "      <td>...</td>\n",
              "      <td>...</td>\n",
              "      <td>...</td>\n",
              "      <td>...</td>\n",
              "      <td>...</td>\n",
              "    </tr>\n",
              "    <tr>\n",
              "      <th>2019-12-27</th>\n",
              "      <td>289.80</td>\n",
              "      <td>36592940</td>\n",
              "      <td>291.12</td>\n",
              "      <td>293.9700</td>\n",
              "      <td>288.12</td>\n",
              "    </tr>\n",
              "    <tr>\n",
              "      <th>2019-12-28</th>\n",
              "      <td>289.80</td>\n",
              "      <td>36592940</td>\n",
              "      <td>291.12</td>\n",
              "      <td>293.9700</td>\n",
              "      <td>288.12</td>\n",
              "    </tr>\n",
              "    <tr>\n",
              "      <th>2019-12-29</th>\n",
              "      <td>289.80</td>\n",
              "      <td>36592940</td>\n",
              "      <td>291.12</td>\n",
              "      <td>293.9700</td>\n",
              "      <td>288.12</td>\n",
              "    </tr>\n",
              "    <tr>\n",
              "      <th>2019-12-30</th>\n",
              "      <td>291.52</td>\n",
              "      <td>36059610</td>\n",
              "      <td>289.46</td>\n",
              "      <td>292.6900</td>\n",
              "      <td>285.22</td>\n",
              "    </tr>\n",
              "    <tr>\n",
              "      <th>2019-12-31</th>\n",
              "      <td>293.65</td>\n",
              "      <td>25247630</td>\n",
              "      <td>289.93</td>\n",
              "      <td>293.6800</td>\n",
              "      <td>289.52</td>\n",
              "    </tr>\n",
              "  </tbody>\n",
              "</table>\n",
              "<p>365 rows × 5 columns</p>\n",
              "</div>"
            ],
            "text/plain": [
              "            close_value    volume  open_value  high_value  low_value\n",
              "date                                                                \n",
              "2019-01-01       157.74  34499390      158.53    159.3600     156.48\n",
              "2019-01-02       157.92  35637070      154.89    158.8500     154.23\n",
              "2019-01-03       142.19  91106840      143.98    145.7200     142.00\n",
              "2019-01-04       148.26  57423650      144.53    148.5499     143.80\n",
              "2019-01-05       148.26  57423650      144.53    148.5499     143.80\n",
              "...                 ...       ...         ...         ...        ...\n",
              "2019-12-27       289.80  36592940      291.12    293.9700     288.12\n",
              "2019-12-28       289.80  36592940      291.12    293.9700     288.12\n",
              "2019-12-29       289.80  36592940      291.12    293.9700     288.12\n",
              "2019-12-30       291.52  36059610      289.46    292.6900     285.22\n",
              "2019-12-31       293.65  25247630      289.93    293.6800     289.52\n",
              "\n",
              "[365 rows x 5 columns]"
            ]
          },
          "metadata": {},
          "execution_count": 71
        }
      ],
      "metadata": {}
    },
    {
      "cell_type": "code",
      "execution_count": 72,
      "source": [
        "plt.plot(companyValuesAppleMetrics2019.close_value)"
      ],
      "outputs": [
        {
          "output_type": "execute_result",
          "data": {
            "text/plain": [
              "[<matplotlib.lines.Line2D at 0x1be1e9434f0>]"
            ]
          },
          "metadata": {},
          "execution_count": 72
        },
        {
          "output_type": "display_data",
          "data": {
            "image/png": "[encoded data removed]",
            "text/plain": [
              "<Figure size 432x288 with 1 Axes>"
            ]
          },
          "metadata": {
            "needs_background": "light"
          }
        }
      ],
      "metadata": {}
    },
    {
      "cell_type": "code",
      "execution_count": null,
      "source": [],
      "outputs": [],
      "metadata": {}
    },
    {
      "cell_type": "code",
      "execution_count": null,
      "source": [],
      "outputs": [],
      "metadata": {}
    },
    {
      "cell_type": "markdown",
      "source": [],
      "metadata": {}
    }
  ]
}