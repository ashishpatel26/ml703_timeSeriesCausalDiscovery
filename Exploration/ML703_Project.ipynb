{
  "nbformat": 4,
  "nbformat_minor": 2,
  "metadata": {
    "colab": {
      "name": "ML703_Project.ipynb",
      "provenance": []
    },
    "kernelspec": {
      "name": "python3",
      "display_name": "Python 3.9.6 64-bit ('ml_703': conda)"
    },
    "language_info": {
      "name": "python",
      "version": "3.9.6",
      "mimetype": "text/x-python",
      "codemirror_mode": {
        "name": "ipython",
        "version": 3
      },
      "pygments_lexer": "ipython3",
      "nbconvert_exporter": "python",
      "file_extension": ".py"
    },
    "interpreter": {
      "hash": "aa69ecefdc84d253b64bda2e06e464544fe241a21e4e40f031a853d821bda072"
    }
  },
  "cells": [
    {
      "cell_type": "markdown",
      "source": [
        "# Analysing Performance of Stocks using Causal Discovery"
      ],
      "metadata": {
        "id": "VjnaRzCQOE4N"
      }
    },
    {
      "cell_type": "markdown",
      "source": [
        "## Setup\n",
        "\n",
        "Import the datasets:"
      ],
      "metadata": {
        "id": "TahcpxGSONkI"
      }
    },
    {
      "cell_type": "code",
      "execution_count": 3,
      "source": [
        "%%capture\r\n",
        "\r\n",
        "! pip install --user kaggle"
      ],
      "outputs": [],
      "metadata": {
        "colab": {
          "base_uri": "https://localhost:8080/"
        },
        "id": "Te5Ratn6OA8s",
        "outputId": "872c95ee-6772-4189-baf2-f9b2509aa0d2"
      }
    },
    {
      "cell_type": "markdown",
      "source": [
        "## Data Loading"
      ],
      "metadata": {}
    },
    {
      "cell_type": "code",
      "execution_count": 14,
      "source": [
        "import pandas as pd\r\n",
        "import numpy as np\r\n",
        "import matplotlib.pyplot as plt"
      ],
      "outputs": [],
      "metadata": {}
    },
    {
      "cell_type": "code",
      "execution_count": 35,
      "source": [
        "data_dir = \"C:/Users/diego/iCloudDrive/Documents/MBZUAI Sem/Semester 2/ML703 Probabilistic and Statistical Inference/Project/JN/Datasets/\"\r\n",
        "\r\n",
        "company = pd.read_csv(data_dir + \"Company.csv\")\r\n",
        "companyValues = pd.read_csv(data_dir + \"CompanyValues.csv\")\r\n",
        "companyTweet = pd.read_csv(data_dir + \"Company_Tweet.csv\")\r\n",
        "tweet = pd.read_csv(data_dir + \"Tweet.csv\")\r\n",
        "\r\n",
        "companyValues.head()"
      ],
      "outputs": [
        {
          "output_type": "execute_result",
          "data": {
            "text/html": [
              "<div>\n",
              "<style scoped>\n",
              "    .dataframe tbody tr th:only-of-type {\n",
              "        vertical-align: middle;\n",
              "    }\n",
              "\n",
              "    .dataframe tbody tr th {\n",
              "        vertical-align: top;\n",
              "    }\n",
              "\n",
              "    .dataframe thead th {\n",
              "        text-align: right;\n",
              "    }\n",
              "</style>\n",
              "<table border=\"1\" class=\"dataframe\">\n",
              "  <thead>\n",
              "    <tr style=\"text-align: right;\">\n",
              "      <th></th>\n",
              "      <th>ticker_symbol</th>\n",
              "      <th>day_date</th>\n",
              "      <th>close_value</th>\n",
              "      <th>volume</th>\n",
              "      <th>open_value</th>\n",
              "      <th>high_value</th>\n",
              "      <th>low_value</th>\n",
              "    </tr>\n",
              "  </thead>\n",
              "  <tbody>\n",
              "    <tr>\n",
              "      <th>0</th>\n",
              "      <td>AAPL</td>\n",
              "      <td>2020-05-29</td>\n",
              "      <td>317.94</td>\n",
              "      <td>38399530</td>\n",
              "      <td>319.25</td>\n",
              "      <td>321.15</td>\n",
              "      <td>316.47</td>\n",
              "    </tr>\n",
              "    <tr>\n",
              "      <th>1</th>\n",
              "      <td>AAPL</td>\n",
              "      <td>2020-05-28</td>\n",
              "      <td>318.25</td>\n",
              "      <td>33449100</td>\n",
              "      <td>316.77</td>\n",
              "      <td>323.44</td>\n",
              "      <td>315.63</td>\n",
              "    </tr>\n",
              "    <tr>\n",
              "      <th>2</th>\n",
              "      <td>AAPL</td>\n",
              "      <td>2020-05-27</td>\n",
              "      <td>318.11</td>\n",
              "      <td>28236270</td>\n",
              "      <td>316.14</td>\n",
              "      <td>318.71</td>\n",
              "      <td>313.09</td>\n",
              "    </tr>\n",
              "    <tr>\n",
              "      <th>3</th>\n",
              "      <td>AAPL</td>\n",
              "      <td>2020-05-26</td>\n",
              "      <td>316.73</td>\n",
              "      <td>31380450</td>\n",
              "      <td>323.50</td>\n",
              "      <td>324.24</td>\n",
              "      <td>316.50</td>\n",
              "    </tr>\n",
              "    <tr>\n",
              "      <th>4</th>\n",
              "      <td>AAPL</td>\n",
              "      <td>2020-05-22</td>\n",
              "      <td>318.89</td>\n",
              "      <td>20450750</td>\n",
              "      <td>315.77</td>\n",
              "      <td>319.23</td>\n",
              "      <td>315.35</td>\n",
              "    </tr>\n",
              "  </tbody>\n",
              "</table>\n",
              "</div>"
            ],
            "text/plain": [
              "  ticker_symbol    day_date  close_value    volume  open_value  high_value  \\\n",
              "0          AAPL  2020-05-29       317.94  38399530      319.25      321.15   \n",
              "1          AAPL  2020-05-28       318.25  33449100      316.77      323.44   \n",
              "2          AAPL  2020-05-27       318.11  28236270      316.14      318.71   \n",
              "3          AAPL  2020-05-26       316.73  31380450      323.50      324.24   \n",
              "4          AAPL  2020-05-22       318.89  20450750      315.77      319.23   \n",
              "\n",
              "   low_value  \n",
              "0     316.47  \n",
              "1     315.63  \n",
              "2     313.09  \n",
              "3     316.50  \n",
              "4     315.35  "
            ]
          },
          "metadata": {},
          "execution_count": 35
        }
      ],
      "metadata": {}
    },
    {
      "cell_type": "code",
      "execution_count": 37,
      "source": [
        "tweet = tweet.merge(companyTweet, on=\"tweet_id\", how='inner')\r\n",
        "\r\n",
        "tweet.head()"
      ],
      "outputs": [
        {
          "output_type": "execute_result",
          "data": {
            "text/html": [
              "<div>\n",
              "<style scoped>\n",
              "    .dataframe tbody tr th:only-of-type {\n",
              "        vertical-align: middle;\n",
              "    }\n",
              "\n",
              "    .dataframe tbody tr th {\n",
              "        vertical-align: top;\n",
              "    }\n",
              "\n",
              "    .dataframe thead th {\n",
              "        text-align: right;\n",
              "    }\n",
              "</style>\n",
              "<table border=\"1\" class=\"dataframe\">\n",
              "  <thead>\n",
              "    <tr style=\"text-align: right;\">\n",
              "      <th></th>\n",
              "      <th>tweet_id</th>\n",
              "      <th>writer</th>\n",
              "      <th>post_date</th>\n",
              "      <th>body</th>\n",
              "      <th>comment_num</th>\n",
              "      <th>retweet_num</th>\n",
              "      <th>like_num</th>\n",
              "      <th>ticker_symbol</th>\n",
              "    </tr>\n",
              "  </thead>\n",
              "  <tbody>\n",
              "    <tr>\n",
              "      <th>0</th>\n",
              "      <td>550441509175443456</td>\n",
              "      <td>VisualStockRSRC</td>\n",
              "      <td>1420070457</td>\n",
              "      <td>lx21 made $10,008  on $AAPL -Check it out! htt...</td>\n",
              "      <td>0</td>\n",
              "      <td>0</td>\n",
              "      <td>1</td>\n",
              "      <td>AAPL</td>\n",
              "    </tr>\n",
              "    <tr>\n",
              "      <th>1</th>\n",
              "      <td>550441672312512512</td>\n",
              "      <td>KeralaGuy77</td>\n",
              "      <td>1420070496</td>\n",
              "      <td>Insanity of today weirdo massive selling. $aap...</td>\n",
              "      <td>0</td>\n",
              "      <td>0</td>\n",
              "      <td>0</td>\n",
              "      <td>AAPL</td>\n",
              "    </tr>\n",
              "    <tr>\n",
              "      <th>2</th>\n",
              "      <td>550441732014223360</td>\n",
              "      <td>DozenStocks</td>\n",
              "      <td>1420070510</td>\n",
              "      <td>S&amp;P100 #Stocks Performance $HD $LOW $SBUX $TGT...</td>\n",
              "      <td>0</td>\n",
              "      <td>0</td>\n",
              "      <td>0</td>\n",
              "      <td>AMZN</td>\n",
              "    </tr>\n",
              "    <tr>\n",
              "      <th>3</th>\n",
              "      <td>550442977802207232</td>\n",
              "      <td>ShowDreamCar</td>\n",
              "      <td>1420070807</td>\n",
              "      <td>$GM $TSLA: Volkswagen Pushes 2014 Record Recal...</td>\n",
              "      <td>0</td>\n",
              "      <td>0</td>\n",
              "      <td>1</td>\n",
              "      <td>TSLA</td>\n",
              "    </tr>\n",
              "    <tr>\n",
              "      <th>4</th>\n",
              "      <td>550443807834402816</td>\n",
              "      <td>i_Know_First</td>\n",
              "      <td>1420071005</td>\n",
              "      <td>Swing Trading: Up To 8.91% Return In 14 Days h...</td>\n",
              "      <td>0</td>\n",
              "      <td>0</td>\n",
              "      <td>1</td>\n",
              "      <td>AAPL</td>\n",
              "    </tr>\n",
              "  </tbody>\n",
              "</table>\n",
              "</div>"
            ],
            "text/plain": [
              "             tweet_id           writer   post_date  \\\n",
              "0  550441509175443456  VisualStockRSRC  1420070457   \n",
              "1  550441672312512512      KeralaGuy77  1420070496   \n",
              "2  550441732014223360      DozenStocks  1420070510   \n",
              "3  550442977802207232     ShowDreamCar  1420070807   \n",
              "4  550443807834402816     i_Know_First  1420071005   \n",
              "\n",
              "                                                body  comment_num  \\\n",
              "0  lx21 made $10,008  on $AAPL -Check it out! htt...            0   \n",
              "1  Insanity of today weirdo massive selling. $aap...            0   \n",
              "2  S&P100 #Stocks Performance $HD $LOW $SBUX $TGT...            0   \n",
              "3  $GM $TSLA: Volkswagen Pushes 2014 Record Recal...            0   \n",
              "4  Swing Trading: Up To 8.91% Return In 14 Days h...            0   \n",
              "\n",
              "   retweet_num  like_num ticker_symbol  \n",
              "0            0         1          AAPL  \n",
              "1            0         0          AAPL  \n",
              "2            0         0          AMZN  \n",
              "3            0         1          TSLA  \n",
              "4            0         1          AAPL  "
            ]
          },
          "metadata": {},
          "execution_count": 37
        }
      ],
      "metadata": {}
    },
    {
      "cell_type": "code",
      "execution_count": 41,
      "source": [
        "companyValuesApple = companyValues[companyValues.ticker_symbol == 'AAPL']\r\n",
        "tweetApple = tweet[tweet.ticker_symbol == 'AAPL']"
      ],
      "outputs": [],
      "metadata": {}
    },
    {
      "cell_type": "code",
      "execution_count": 43,
      "source": [
        "companyValuesApple"
      ],
      "outputs": [
        {
          "output_type": "execute_result",
          "data": {
            "text/plain": [
              "(3085, 7)"
            ]
          },
          "metadata": {},
          "execution_count": 43
        }
      ],
      "metadata": {}
    },
    {
      "cell_type": "code",
      "execution_count": 42,
      "source": [
        "tweetApple.shape"
      ],
      "outputs": [
        {
          "output_type": "execute_result",
          "data": {
            "text/plain": [
              "(1425013, 8)"
            ]
          },
          "metadata": {},
          "execution_count": 42
        }
      ],
      "metadata": {}
    },
    {
      "cell_type": "code",
      "execution_count": 34,
      "source": [
        "tweet.body[0]"
      ],
      "outputs": [
        {
          "output_type": "execute_result",
          "data": {
            "text/plain": [
              "'lx21 made $10,008  on $AAPL -Check it out! http://profit.ly/1MnD8s?aff=202 Learn #howtotrade http://bit.ly/1c1NljX $EXE $WATT $IMRS $CACH $GMO'"
            ]
          },
          "metadata": {},
          "execution_count": 34
        }
      ],
      "metadata": {}
    },
    {
      "cell_type": "code",
      "execution_count": 44,
      "source": [
        "plt.plot(companyValuesApple.close_value)"
      ],
      "outputs": [
        {
          "output_type": "execute_result",
          "data": {
            "text/plain": [
              "[<matplotlib.lines.Line2D at 0x18da86ff640>]"
            ]
          },
          "metadata": {},
          "execution_count": 44
        },
        {
          "output_type": "display_data",
          "data": {
            "image/png": "[encoded data removed]",
            "text/plain": [
              "<Figure size 432x288 with 1 Axes>"
            ]
          },
          "metadata": {
            "needs_background": "light"
          }
        }
      ],
      "metadata": {}
    },
    {
      "cell_type": "code",
      "execution_count": null,
      "source": [],
      "outputs": [],
      "metadata": {}
    },
    {
      "cell_type": "code",
      "execution_count": null,
      "source": [],
      "outputs": [],
      "metadata": {}
    },
    {
      "cell_type": "markdown",
      "source": [],
      "metadata": {}
    }
  ]
}