{
 "cells": [
  {
   "cell_type": "markdown",
   "metadata": {},
   "source": [
    "# Pytrad"
   ]
  },
  {
   "cell_type": "code",
   "execution_count": 27,
   "metadata": {},
   "outputs": [],
   "source": [
    "import pandas as pd\n",
    "import numpy as np\n",
    "import matplotlib.pyplot as plt\n",
    "\n",
    "import sys\n",
    "import os\n",
    "\n",
    "module_path = os.path.abspath(os.path.join('..'))\n",
    "\n",
    "if module_path not in sys.path:\n",
    "    sys.path.append(module_path+\"\\\\DataPreprocessing\")"
   ]
  },
  {
   "cell_type": "markdown",
   "metadata": {},
   "source": [
    "## Data Preprocessing"
   ]
  },
  {
   "cell_type": "code",
   "execution_count": 28,
   "metadata": {},
   "outputs": [],
   "source": [
    "data_dir = \"C:/Users/diego/iCloudDrive/Documents/MBZUAI Sem/Semester 2/ML703 Probabilistic and Statistical Inference/Project/JN/Datasets/\"\n",
    "\n",
    "company = pd.read_csv(data_dir + \"Company.csv\")\n",
    "companyValues = pd.read_csv(data_dir + \"CompanyValues.csv\")\n",
    "companyTweet = pd.read_csv(data_dir + \"Company_Tweet.csv\")\n",
    "tweet = pd.read_csv(data_dir + \"Tweet.csv\")\n",
    "tweet = tweet.merge(companyTweet, on=\"tweet_id\", how='inner')"
   ]
  },
  {
   "cell_type": "code",
   "execution_count": 39,
   "metadata": {},
   "outputs": [
    {
     "name": "stdout",
     "output_type": "stream",
     "text": [
      "Stocks from ['AAPL' 'GOOG' 'GOOGL' 'AMZN' 'TSLA' 'MSFT']\n",
      "Stock selected: TSLA\n"
     ]
    }
   ],
   "source": [
    "print(f\"Stocks from {company.ticker_symbol.unique()}\")\n",
    "\n",
    "selected_stock = 'TSLA'\n",
    "print(f\"Stock selected: {selected_stock}\")\n",
    "companyValuesSub = companyValues[companyValues.ticker_symbol == selected_stock]\n",
    "tweetSub = tweet[tweet.ticker_symbol == selected_stock]"
   ]
  },
  {
   "cell_type": "code",
   "execution_count": 40,
   "metadata": {},
   "outputs": [
    {
     "name": "stdout",
     "output_type": "stream",
     "text": [
      "Company values: \n",
      "  ticker_symbol    day_date  close_value    volume  open_value  high_value  \\\n",
      "0          AAPL  2020-05-29       317.94  38399530      319.25      321.15   \n",
      "1          AAPL  2020-05-28       318.25  33449100      316.77      323.44   \n",
      "2          AAPL  2020-05-27       318.11  28236270      316.14      318.71   \n",
      "\n",
      "   low_value  \n",
      "0     316.47  \n",
      "1     315.63  \n",
      "2     313.09  \n",
      "Company tweets: \n",
      "             tweet_id         writer   post_date  \\\n",
      "3  550442977802207232   ShowDreamCar  1420070807   \n",
      "5  550443807834402816   i_Know_First  1420071005   \n",
      "7  550443808606126081  aaplstocknews  1420071005   \n",
      "\n",
      "                                                body  comment_num  \\\n",
      "3  $GM $TSLA: Volkswagen Pushes 2014 Record Recal...            0   \n",
      "5  Swing Trading: Up To 8.91% Return In 14 Days h...            0   \n",
      "7  Swing Trading: Up To 8.91% Return In 14 Days h...            0   \n",
      "\n",
      "   retweet_num  like_num ticker_symbol  \n",
      "3            0         1          TSLA  \n",
      "5            0         1          TSLA  \n",
      "7            0         1          TSLA  \n"
     ]
    }
   ],
   "source": [
    "print(f\"Company values: \\n{companyValues.head(3)}\")\n",
    "print(f\"Company tweets: \\n{tweetSub.head(3)}\")"
   ]
  },
  {
   "cell_type": "code",
   "execution_count": 41,
   "metadata": {},
   "outputs": [
    {
     "name": "stderr",
     "output_type": "stream",
     "text": [
      "C:\\Users\\diego\\anaconda3\\envs\\pytrad\\lib\\site-packages\\pandas\\core\\generic.py:5170: SettingWithCopyWarning: \n",
      "A value is trying to be set on a copy of a slice from a DataFrame.\n",
      "Try using .loc[row_indexer,col_indexer] = value instead\n",
      "\n",
      "See the caveats in the documentation: https://pandas.pydata.org/pandas-docs/stable/user_guide/indexing.html#returning-a-view-versus-a-copy\n",
      "  self[name] = value\n"
     ]
    },
    {
     "data": {
      "text/html": [
       "<div>\n",
       "<style scoped>\n",
       "    .dataframe tbody tr th:only-of-type {\n",
       "        vertical-align: middle;\n",
       "    }\n",
       "\n",
       "    .dataframe tbody tr th {\n",
       "        vertical-align: top;\n",
       "    }\n",
       "\n",
       "    .dataframe thead th {\n",
       "        text-align: right;\n",
       "    }\n",
       "</style>\n",
       "<table border=\"1\" class=\"dataframe\">\n",
       "  <thead>\n",
       "    <tr style=\"text-align: right;\">\n",
       "      <th></th>\n",
       "      <th>tweet_id</th>\n",
       "      <th>writer</th>\n",
       "      <th>post_date</th>\n",
       "      <th>body</th>\n",
       "      <th>comment_num</th>\n",
       "      <th>retweet_num</th>\n",
       "      <th>like_num</th>\n",
       "      <th>ticker_symbol</th>\n",
       "    </tr>\n",
       "  </thead>\n",
       "  <tbody>\n",
       "    <tr>\n",
       "      <th>3</th>\n",
       "      <td>550442977802207232</td>\n",
       "      <td>ShowDreamCar</td>\n",
       "      <td>2015-01-01 03:06:47+03:00</td>\n",
       "      <td>$GM $TSLA: Volkswagen Pushes 2014 Record Recal...</td>\n",
       "      <td>0</td>\n",
       "      <td>0</td>\n",
       "      <td>1</td>\n",
       "      <td>TSLA</td>\n",
       "    </tr>\n",
       "    <tr>\n",
       "      <th>5</th>\n",
       "      <td>550443807834402816</td>\n",
       "      <td>i_Know_First</td>\n",
       "      <td>2015-01-01 03:10:05+03:00</td>\n",
       "      <td>Swing Trading: Up To 8.91% Return In 14 Days h...</td>\n",
       "      <td>0</td>\n",
       "      <td>0</td>\n",
       "      <td>1</td>\n",
       "      <td>TSLA</td>\n",
       "    </tr>\n",
       "    <tr>\n",
       "      <th>7</th>\n",
       "      <td>550443808606126081</td>\n",
       "      <td>aaplstocknews</td>\n",
       "      <td>2015-01-01 03:10:05+03:00</td>\n",
       "      <td>Swing Trading: Up To 8.91% Return In 14 Days h...</td>\n",
       "      <td>0</td>\n",
       "      <td>0</td>\n",
       "      <td>1</td>\n",
       "      <td>TSLA</td>\n",
       "    </tr>\n",
       "  </tbody>\n",
       "</table>\n",
       "</div>"
      ],
      "text/plain": [
       "             tweet_id         writer                 post_date  \\\n",
       "3  550442977802207232   ShowDreamCar 2015-01-01 03:06:47+03:00   \n",
       "5  550443807834402816   i_Know_First 2015-01-01 03:10:05+03:00   \n",
       "7  550443808606126081  aaplstocknews 2015-01-01 03:10:05+03:00   \n",
       "\n",
       "                                                body  comment_num  \\\n",
       "3  $GM $TSLA: Volkswagen Pushes 2014 Record Recal...            0   \n",
       "5  Swing Trading: Up To 8.91% Return In 14 Days h...            0   \n",
       "7  Swing Trading: Up To 8.91% Return In 14 Days h...            0   \n",
       "\n",
       "   retweet_num  like_num ticker_symbol  \n",
       "3            0         1          TSLA  \n",
       "5            0         1          TSLA  \n",
       "7            0         1          TSLA  "
      ]
     },
     "execution_count": 41,
     "metadata": {},
     "output_type": "execute_result"
    }
   ],
   "source": [
    "from data import set_datetime, detrend_ts, take_diff_ts\n",
    "\n",
    "tweetSub.post_date = set_datetime(tweetSub.post_date)\n",
    "tweetSub.head(3)"
   ]
  },
  {
   "cell_type": "markdown",
   "metadata": {},
   "source": [
    "## PC"
   ]
  },
  {
   "cell_type": "code",
   "execution_count": 5,
   "metadata": {},
   "outputs": [
    {
     "ename": "TypeError",
     "evalue": "pc() missing 6 required positional arguments: 'data', 'alpha', 'indep_test', 'stable', 'uc_rule', and 'uc_priority'",
     "output_type": "error",
     "traceback": [
      "\u001b[1;31m---------------------------------------------------------------------------\u001b[0m",
      "\u001b[1;31mTypeError\u001b[0m                                 Traceback (most recent call last)",
      "\u001b[1;32m~\\AppData\\Local\\Temp/ipykernel_13528/3449920950.py\u001b[0m in \u001b[0;36m<module>\u001b[1;34m\u001b[0m\n\u001b[0;32m      1\u001b[0m \u001b[1;32mfrom\u001b[0m \u001b[0mpytrad\u001b[0m\u001b[1;33m.\u001b[0m\u001b[0msearch\u001b[0m\u001b[1;33m.\u001b[0m\u001b[0mConstraintBased\u001b[0m \u001b[1;32mimport\u001b[0m \u001b[0mPC\u001b[0m\u001b[1;33m\u001b[0m\u001b[0m\n\u001b[0;32m      2\u001b[0m \u001b[1;33m\u001b[0m\u001b[0m\n\u001b[1;32m----> 3\u001b[1;33m \u001b[0mPC\u001b[0m\u001b[1;33m.\u001b[0m\u001b[0mpc\u001b[0m\u001b[1;33m(\u001b[0m\u001b[1;33m)\u001b[0m\u001b[1;33m\u001b[0m\u001b[0m\n\u001b[0m",
      "\u001b[1;31mTypeError\u001b[0m: pc() missing 6 required positional arguments: 'data', 'alpha', 'indep_test', 'stable', 'uc_rule', and 'uc_priority'"
     ]
    }
   ],
   "source": [
    "from pytrad.search.ConstraintBased import PC\n",
    "from pytrad.utils.cit import fisherz, chisq, gsq, mv_fisherz, kci ## Conditional Independence test\n",
    "\n",
    "cg = PC.pc(data, 0.05, fisherz, True, 0,\n",
    "                -1)"
   ]
  },
  {
   "cell_type": "markdown",
   "metadata": {},
   "source": [
    "## FCI"
   ]
  },
  {
   "cell_type": "markdown",
   "metadata": {},
   "source": []
  }
 ],
 "metadata": {
  "interpreter": {
   "hash": "c9a4bb6864b10e5d9ff835400d5bc7ad0e17c007ce44c6089512fdcc517204d7"
  },
  "kernelspec": {
   "display_name": "Python 3.7.0 64-bit ('pytrad': conda)",
   "name": "python3"
  },
  "language_info": {
   "codemirror_mode": {
    "name": "ipython",
    "version": 3
   },
   "file_extension": ".py",
   "mimetype": "text/x-python",
   "name": "python",
   "nbconvert_exporter": "python",
   "pygments_lexer": "ipython3",
   "version": "3.7.0"
  },
  "orig_nbformat": 4
 },
 "nbformat": 4,
 "nbformat_minor": 2
}
