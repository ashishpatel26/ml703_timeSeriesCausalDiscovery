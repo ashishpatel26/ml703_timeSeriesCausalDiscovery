{
 "cells": [
  {
   "cell_type": "markdown",
   "metadata": {},
   "source": [
    "# Pytrad"
   ]
  },
  {
   "cell_type": "code",
   "execution_count": 1,
   "metadata": {},
   "outputs": [],
   "source": [
    "import pandas as pd\n",
    "import numpy as np\n",
    "import matplotlib.pyplot as plt\n",
    "\n",
    "import sys\n",
    "import os\n",
    "\n",
    "module_path = os.path.abspath(os.path.join('..'))\n",
    "\n",
    "if module_path not in sys.path:\n",
    "    sys.path.append(module_path+\"\\\\DataPreprocessing\")"
   ]
  },
  {
   "cell_type": "markdown",
   "metadata": {},
   "source": [
    "## Data Preprocessing"
   ]
  },
  {
   "cell_type": "code",
   "execution_count": 2,
   "metadata": {},
   "outputs": [],
   "source": [
    "data_dir = \"C:/Users/diego/iCloudDrive/Documents/MBZUAI Sem/Semester 2/ML703 Probabilistic and Statistical Inference/Project/JN/Datasets/\"\n",
    "\n",
    "company = pd.read_csv(data_dir + \"Company.csv\")\n",
    "companyValues = pd.read_csv(data_dir + \"CompanyValues.csv\")\n",
    "companyTweet = pd.read_csv(data_dir + \"Company_Tweet.csv\")\n",
    "tweet = pd.read_csv(data_dir + \"Tweet.csv\")\n",
    "tweet = tweet.merge(companyTweet, on=\"tweet_id\", how='inner')"
   ]
  },
  {
   "cell_type": "code",
   "execution_count": 3,
   "metadata": {},
   "outputs": [
    {
     "name": "stdout",
     "output_type": "stream",
     "text": [
      "Stocks from ['AAPL' 'GOOG' 'GOOGL' 'AMZN' 'TSLA' 'MSFT']\n",
      "Stock selected: TSLA\n"
     ]
    }
   ],
   "source": [
    "print(f\"Stocks from {company.ticker_symbol.unique()}\")\n",
    "\n",
    "selected_stock = 'TSLA'\n",
    "print(f\"Stock selected: {selected_stock}\")\n",
    "companyValuesSub = companyValues[companyValues.ticker_symbol == selected_stock]\n",
    "tweetSub = tweet[tweet.ticker_symbol == selected_stock]"
   ]
  },
  {
   "cell_type": "code",
   "execution_count": 4,
   "metadata": {},
   "outputs": [
    {
     "name": "stdout",
     "output_type": "stream",
     "text": [
      "Company values: \n",
      "      ticker_symbol    day_date  close_value    volume  open_value  \\\n",
      "14463          TSLA  2020-05-29       835.00  11812490      808.75   \n",
      "14464          TSLA  2020-05-28       805.81   7275774      813.51   \n",
      "14465          TSLA  2020-05-27       820.23  11549530      820.86   \n",
      "\n",
      "       high_value  low_value  \n",
      "14463      835.00     804.21  \n",
      "14464      824.75     801.69  \n",
      "14465      827.71     785.00  \n",
      "Company tweets: \n",
      "             tweet_id         writer   post_date  \\\n",
      "3  550442977802207232   ShowDreamCar  1420070807   \n",
      "5  550443807834402816   i_Know_First  1420071005   \n",
      "7  550443808606126081  aaplstocknews  1420071005   \n",
      "\n",
      "                                                body  comment_num  \\\n",
      "3  $GM $TSLA: Volkswagen Pushes 2014 Record Recal...            0   \n",
      "5  Swing Trading: Up To 8.91% Return In 14 Days h...            0   \n",
      "7  Swing Trading: Up To 8.91% Return In 14 Days h...            0   \n",
      "\n",
      "   retweet_num  like_num ticker_symbol  \n",
      "3            0         1          TSLA  \n",
      "5            0         1          TSLA  \n",
      "7            0         1          TSLA  \n"
     ]
    }
   ],
   "source": [
    "print(f\"Company values: \\n{companyValuesSub.head(3)}\")\n",
    "print(f\"Company tweets: \\n{tweetSub.head(3)}\")"
   ]
  },
  {
   "cell_type": "markdown",
   "metadata": {},
   "source": [
    "### Tweet data preprocessing"
   ]
  },
  {
   "cell_type": "code",
   "execution_count": 5,
   "metadata": {},
   "outputs": [
    {
     "name": "stderr",
     "output_type": "stream",
     "text": [
      "C:\\Users\\diego\\anaconda3\\envs\\pytrad\\lib\\site-packages\\ipykernel_launcher.py:3: SettingWithCopyWarning: \n",
      "A value is trying to be set on a copy of a slice from a DataFrame.\n",
      "Try using .loc[row_indexer,col_indexer] = value instead\n",
      "\n",
      "See the caveats in the documentation: https://pandas.pydata.org/pandas-docs/stable/user_guide/indexing.html#returning-a-view-versus-a-copy\n",
      "  This is separate from the ipykernel package so we can avoid doing imports until\n"
     ]
    },
    {
     "data": {
      "text/html": [
       "<div>\n",
       "<style scoped>\n",
       "    .dataframe tbody tr th:only-of-type {\n",
       "        vertical-align: middle;\n",
       "    }\n",
       "\n",
       "    .dataframe tbody tr th {\n",
       "        vertical-align: top;\n",
       "    }\n",
       "\n",
       "    .dataframe thead th {\n",
       "        text-align: right;\n",
       "    }\n",
       "</style>\n",
       "<table border=\"1\" class=\"dataframe\">\n",
       "  <thead>\n",
       "    <tr style=\"text-align: right;\">\n",
       "      <th></th>\n",
       "      <th>comment_num</th>\n",
       "      <th>retweet_num</th>\n",
       "      <th>like_num</th>\n",
       "    </tr>\n",
       "    <tr>\n",
       "      <th>date</th>\n",
       "      <th></th>\n",
       "      <th></th>\n",
       "      <th></th>\n",
       "    </tr>\n",
       "  </thead>\n",
       "  <tbody>\n",
       "    <tr>\n",
       "      <th>2018-12-25</th>\n",
       "      <td>432</td>\n",
       "      <td>354</td>\n",
       "      <td>3395</td>\n",
       "    </tr>\n",
       "    <tr>\n",
       "      <th>2018-12-26</th>\n",
       "      <td>602</td>\n",
       "      <td>815</td>\n",
       "      <td>5048</td>\n",
       "    </tr>\n",
       "    <tr>\n",
       "      <th>2018-12-27</th>\n",
       "      <td>778</td>\n",
       "      <td>709</td>\n",
       "      <td>5513</td>\n",
       "    </tr>\n",
       "  </tbody>\n",
       "</table>\n",
       "</div>"
      ],
      "text/plain": [
       "            comment_num  retweet_num  like_num\n",
       "date                                          \n",
       "2018-12-25          432          354      3395\n",
       "2018-12-26          602          815      5048\n",
       "2018-12-27          778          709      5513"
      ]
     },
     "execution_count": 5,
     "metadata": {},
     "output_type": "execute_result"
    }
   ],
   "source": [
    "from data import set_datetime, detrend_ts\n",
    "\n",
    "tweetSub['date'] = set_datetime(tweetSub.post_date)\n",
    "\n",
    "tweetSubMetrics = tweetSub[['date', 'comment_num', 'retweet_num', 'like_num']]\n",
    "tweetSubMetrics = tweetSubMetrics.groupby([\"date\"]).sum()\n",
    "tweetSubMetrics2019 = tweetSubMetrics[(tweetSubMetrics.index >= pd.to_datetime(\"2018/12/25\")) \\\n",
    "    & (tweetSubMetrics.index <= pd.to_datetime(\"2019/12/31\"))]\n",
    "tweetSubMetrics2019\n",
    "\n",
    "tweetSubMetrics2019.head(3)"
   ]
  },
  {
   "cell_type": "code",
   "execution_count": 6,
   "metadata": {},
   "outputs": [
    {
     "name": "stderr",
     "output_type": "stream",
     "text": [
      "C:\\Users\\diego\\anaconda3\\envs\\pytrad\\lib\\site-packages\\ipykernel_launcher.py:1: SettingWithCopyWarning: \n",
      "A value is trying to be set on a copy of a slice from a DataFrame.\n",
      "Try using .loc[row_indexer,col_indexer] = value instead\n",
      "\n",
      "See the caveats in the documentation: https://pandas.pydata.org/pandas-docs/stable/user_guide/indexing.html#returning-a-view-versus-a-copy\n",
      "  \"\"\"Entry point for launching an IPython kernel.\n",
      "C:\\Users\\diego\\anaconda3\\envs\\pytrad\\lib\\site-packages\\ipykernel_launcher.py:2: SettingWithCopyWarning: \n",
      "A value is trying to be set on a copy of a slice from a DataFrame.\n",
      "Try using .loc[row_indexer,col_indexer] = value instead\n",
      "\n",
      "See the caveats in the documentation: https://pandas.pydata.org/pandas-docs/stable/user_guide/indexing.html#returning-a-view-versus-a-copy\n",
      "  \n",
      "C:\\Users\\diego\\anaconda3\\envs\\pytrad\\lib\\site-packages\\ipykernel_launcher.py:4: SettingWithCopyWarning: \n",
      "A value is trying to be set on a copy of a slice from a DataFrame.\n",
      "Try using .loc[row_indexer,col_indexer] = value instead\n",
      "\n",
      "See the caveats in the documentation: https://pandas.pydata.org/pandas-docs/stable/user_guide/indexing.html#returning-a-view-versus-a-copy\n",
      "  after removing the cwd from sys.path.\n"
     ]
    }
   ],
   "source": [
    "tweetSubMetrics2019['log_retweet_num'] = np.log(tweetSubMetrics2019['retweet_num'])\n",
    "tweetSubMetrics2019['log_comment_num'] = np.log(tweetSubMetrics2019['comment_num'])\n",
    "\n",
    "tweetSubMetrics2019['detrended_log_comment_num'] = detrend_ts(tweetSubMetrics2019.log_comment_num)\n",
    "\n",
    "tweetSubMetrics2019 = tweetSubMetrics2019[-365:]"
   ]
  },
  {
   "cell_type": "code",
   "execution_count": 7,
   "metadata": {},
   "outputs": [
    {
     "data": {
      "text/plain": [
       "<matplotlib.legend.Legend at 0x17711e18e48>"
      ]
     },
     "execution_count": 7,
     "metadata": {},
     "output_type": "execute_result"
    },
    {
     "data": {
      "image/png": "[encoded data removed]",
      "text/plain": [
       "<Figure size 432x288 with 1 Axes>"
      ]
     },
     "metadata": {
      "needs_background": "light"
     },
     "output_type": "display_data"
    }
   ],
   "source": [
    "plt.plot(tweetSubMetrics2019.log_retweet_num, alpha=0.5, label=\"log_retweet_num\")\n",
    "plt.plot(tweetSubMetrics2019.detrended_log_comment_num, alpha=0.5, label=\"detrended_log_comment_num\")\n",
    "plt.legend()"
   ]
  },
  {
   "cell_type": "code",
   "execution_count": 8,
   "metadata": {},
   "outputs": [
    {
     "data": {
      "text/plain": [
       "<matplotlib.legend.Legend at 0x17711f55080>"
      ]
     },
     "execution_count": 8,
     "metadata": {},
     "output_type": "execute_result"
    },
    {
     "data": {
      "image/png": "[encoded data removed]",
      "text/plain": [
       "<Figure size 432x288 with 1 Axes>"
      ]
     },
     "metadata": {
      "needs_background": "light"
     },
     "output_type": "display_data"
    }
   ],
   "source": [
    "plt.hist(tweetSubMetrics2019.log_retweet_num, alpha=0.5, label=\"log_retweet_num\")\n",
    "plt.hist(tweetSubMetrics2019.detrended_log_comment_num, alpha=0.5, label=\"detrended_log_comment_num\")\n",
    "plt.legend()"
   ]
  },
  {
   "cell_type": "code",
   "execution_count": 9,
   "metadata": {},
   "outputs": [
    {
     "name": "stdout",
     "output_type": "stream",
     "text": [
      "Log Retweet Number test:\n",
      "ADF Statistic: -3.677427\n",
      "p-value: 0.004442\n",
      "Critical Values:\n",
      "\t1%: -3.449\n",
      "\t5%: -2.870\n",
      "\t10%: -2.571\n",
      "Detrended Log Tweet Comment Number test:\n",
      "ADF Statistic: -2.804106\n",
      "p-value: 0.057690\n",
      "Critical Values:\n",
      "\t1%: -3.449\n",
      "\t5%: -2.870\n",
      "\t10%: -2.571\n"
     ]
    }
   ],
   "source": [
    "from statsmodels.tsa.stattools import adfuller\n",
    "\n",
    "result = adfuller(tweetSubMetrics2019.log_retweet_num)\n",
    "print('Log Retweet Number test:')\n",
    "print('ADF Statistic: %f' % result[0])\n",
    "print('p-value: %f' % result[1])\n",
    "print('Critical Values:')\n",
    "for key, value in result[4].items():\n",
    "\tprint('\\t%s: %.3f' % (key, value))\n",
    "\n",
    "result = adfuller(tweetSubMetrics2019.detrended_log_comment_num)\n",
    "print('Detrended Log Tweet Comment Number test:')\n",
    "print('ADF Statistic: %f' % result[0])\n",
    "print('p-value: %f' % result[1])\n",
    "print('Critical Values:')\n",
    "for key, value in result[4].items():\n",
    "\tprint('\\t%s: %.3f' % (key, value))"
   ]
  },
  {
   "cell_type": "markdown",
   "metadata": {},
   "source": [
    "### Value data preprocessing"
   ]
  },
  {
   "cell_type": "code",
   "execution_count": 10,
   "metadata": {},
   "outputs": [
    {
     "name": "stderr",
     "output_type": "stream",
     "text": [
      "C:\\Users\\diego\\anaconda3\\envs\\pytrad\\lib\\site-packages\\ipykernel_launcher.py:1: SettingWithCopyWarning: \n",
      "A value is trying to be set on a copy of a slice from a DataFrame.\n",
      "Try using .loc[row_indexer,col_indexer] = value instead\n",
      "\n",
      "See the caveats in the documentation: https://pandas.pydata.org/pandas-docs/stable/user_guide/indexing.html#returning-a-view-versus-a-copy\n",
      "  \"\"\"Entry point for launching an IPython kernel.\n"
     ]
    },
    {
     "data": {
      "text/html": [
       "<div>\n",
       "<style scoped>\n",
       "    .dataframe tbody tr th:only-of-type {\n",
       "        vertical-align: middle;\n",
       "    }\n",
       "\n",
       "    .dataframe tbody tr th {\n",
       "        vertical-align: top;\n",
       "    }\n",
       "\n",
       "    .dataframe thead th {\n",
       "        text-align: right;\n",
       "    }\n",
       "</style>\n",
       "<table border=\"1\" class=\"dataframe\">\n",
       "  <thead>\n",
       "    <tr style=\"text-align: right;\">\n",
       "      <th></th>\n",
       "      <th>close_value</th>\n",
       "      <th>volume</th>\n",
       "      <th>open_value</th>\n",
       "      <th>high_value</th>\n",
       "      <th>low_value</th>\n",
       "    </tr>\n",
       "    <tr>\n",
       "      <th>date</th>\n",
       "      <th></th>\n",
       "      <th></th>\n",
       "      <th></th>\n",
       "      <th></th>\n",
       "      <th></th>\n",
       "    </tr>\n",
       "  </thead>\n",
       "  <tbody>\n",
       "    <tr>\n",
       "      <th>2018-12-25</th>\n",
       "      <td>295.39</td>\n",
       "      <td>5559913</td>\n",
       "      <td>313.50</td>\n",
       "      <td>314.5000</td>\n",
       "      <td>295.195</td>\n",
       "    </tr>\n",
       "    <tr>\n",
       "      <th>2018-12-26</th>\n",
       "      <td>326.09</td>\n",
       "      <td>8143102</td>\n",
       "      <td>300.00</td>\n",
       "      <td>326.9700</td>\n",
       "      <td>294.090</td>\n",
       "    </tr>\n",
       "    <tr>\n",
       "      <th>2018-12-27</th>\n",
       "      <td>316.13</td>\n",
       "      <td>8567385</td>\n",
       "      <td>319.84</td>\n",
       "      <td>322.1717</td>\n",
       "      <td>301.500</td>\n",
       "    </tr>\n",
       "  </tbody>\n",
       "</table>\n",
       "</div>"
      ],
      "text/plain": [
       "            close_value   volume  open_value  high_value  low_value\n",
       "date                                                               \n",
       "2018-12-25       295.39  5559913      313.50    314.5000    295.195\n",
       "2018-12-26       326.09  8143102      300.00    326.9700    294.090\n",
       "2018-12-27       316.13  8567385      319.84    322.1717    301.500"
      ]
     },
     "execution_count": 10,
     "metadata": {},
     "output_type": "execute_result"
    }
   ],
   "source": [
    "companyValuesSub['date'] = pd.to_datetime(companyValuesSub['day_date']).dt.date\n",
    "companyValuesSubMetrics = companyValuesSub[['date', 'close_value', 'volume', 'open_value', 'high_value', 'low_value']]\n",
    "companyValuesSubMetrics = companyValuesSubMetrics.groupby(['date']).sum()\n",
    "companyValuesSubMetrics2019 = companyValuesSubMetrics[(companyValuesSubMetrics.index >= pd.to_datetime(\"2018/12/25\")) \\\n",
    "    & (companyValuesSubMetrics.index <= pd.to_datetime(\"2019/12/31\"))]\n",
    "\n",
    "companyValuesSubMetrics2019.head(3)"
   ]
  },
  {
   "cell_type": "code",
   "execution_count": 11,
   "metadata": {},
   "outputs": [
    {
     "name": "stderr",
     "output_type": "stream",
     "text": [
      "C:\\Users\\diego\\anaconda3\\envs\\pytrad\\lib\\site-packages\\ipykernel_launcher.py:3: SettingWithCopyWarning: \n",
      "A value is trying to be set on a copy of a slice from a DataFrame.\n",
      "Try using .loc[row_indexer,col_indexer] = value instead\n",
      "\n",
      "See the caveats in the documentation: https://pandas.pydata.org/pandas-docs/stable/user_guide/indexing.html#returning-a-view-versus-a-copy\n",
      "  This is separate from the ipykernel package so we can avoid doing imports until\n",
      "c:\\Users\\diego\\iCloudDrive\\Documents\\MBZUAI Sem\\Semester 2\\ML703 Probabilistic and Statistical Inference\\Project\\JN\\ml703_timeSeriesCausalDiscovery\\DataPreprocessing\\data.py:55: SettingWithCopyWarning: \n",
      "A value is trying to be set on a copy of a slice from a DataFrame.\n",
      "Try using .loc[row_indexer,col_indexer] = value instead\n",
      "\n",
      "See the caveats in the documentation: https://pandas.pydata.org/pandas-docs/stable/user_guide/indexing.html#returning-a-view-versus-a-copy\n",
      "  data[lag_column] = temp[-final_ts_len:]\n"
     ]
    },
    {
     "data": {
      "text/plain": [
       "[<matplotlib.lines.Line2D at 0x1771230df98>]"
      ]
     },
     "execution_count": 11,
     "metadata": {},
     "output_type": "execute_result"
    },
    {
     "data": {
      "image/png": "[encoded data removed]",
      "text/plain": [
       "<Figure size 432x288 with 1 Axes>"
      ]
     },
     "metadata": {
      "needs_background": "light"
     },
     "output_type": "display_data"
    }
   ],
   "source": [
    "from data import set_datetime, detrend_ts, take_diff_ts\n",
    "\n",
    "companyValuesSubMetrics2019['log_close_value'] = np.log(companyValuesSubMetrics2019['close_value'])\n",
    "\n",
    "companyValuesSubMetrics2019 = take_diff_ts(data=companyValuesSubMetrics2019, \\\n",
    "    ts_column='log_close_value', lag_column='lag_log_close_value', lag=1, final_ts_len=365)\n",
    "\n",
    "plt.plot(companyValuesSubMetrics2019.lag_log_close_value)"
   ]
  },
  {
   "cell_type": "code",
   "execution_count": 12,
   "metadata": {},
   "outputs": [
    {
     "data": {
      "text/plain": [
       "(array([  2.,   1.,   8.,  28., 227.,  83.,  13.,   2.,   0.,   1.]),\n",
       " array([-0.14634122, -0.11543636, -0.0845315 , -0.05362664, -0.02272178,\n",
       "         0.00818308,  0.03908794,  0.0699928 ,  0.10089766,  0.13180252,\n",
       "         0.16270738]),\n",
       " <BarContainer object of 10 artists>)"
      ]
     },
     "execution_count": 12,
     "metadata": {},
     "output_type": "execute_result"
    },
    {
     "data": {
      "image/png": "[encoded data removed]",
      "text/plain": [
       "<Figure size 432x288 with 1 Axes>"
      ]
     },
     "metadata": {
      "needs_background": "light"
     },
     "output_type": "display_data"
    }
   ],
   "source": [
    "plt.hist(companyValuesSubMetrics2019.lag_log_close_value)"
   ]
  },
  {
   "cell_type": "code",
   "execution_count": 13,
   "metadata": {},
   "outputs": [
    {
     "name": "stdout",
     "output_type": "stream",
     "text": [
      "ADF Statistic: -18.635766\n",
      "p-value: 0.000000\n",
      "Critical Values:\n",
      "\t1%: -3.448\n",
      "\t5%: -2.870\n",
      "\t10%: -2.571\n"
     ]
    }
   ],
   "source": [
    "from statsmodels.tsa.stattools import adfuller\n",
    "\n",
    "result = adfuller(companyValuesSubMetrics2019.lag_log_close_value)\n",
    "print('ADF Statistic: %f' % result[0])\n",
    "print('p-value: %f' % result[1])\n",
    "print('Critical Values:')\n",
    "for key, value in result[4].items():\n",
    "\tprint('\\t%s: %.3f' % (key, value))"
   ]
  },
  {
   "cell_type": "code",
   "execution_count": 14,
   "metadata": {},
   "outputs": [
    {
     "data": {
      "text/plain": [
       "array([[ 0.        ,  6.61204103, -0.54695628],\n",
       "       [-0.07058239,  7.12849595, -0.07861812],\n",
       "       [-0.03197756,  7.31388683,  0.14831061],\n",
       "       [ 0.05609431,  6.87005341, -0.38452907],\n",
       "       [ 0.        ,  6.67708346, -0.51965665]])"
      ]
     },
     "execution_count": 14,
     "metadata": {},
     "output_type": "execute_result"
    }
   ],
   "source": [
    "dataFrame = np.column_stack((companyValuesSubMetrics2019.lag_log_close_value,\n",
    "                    tweetSubMetrics2019.log_retweet_num,\n",
    "                    tweetSubMetrics2019.detrended_log_comment_num))\n",
    "dataFrame[:5]"
   ]
  },
  {
   "cell_type": "markdown",
   "metadata": {},
   "source": [
    "## PC"
   ]
  },
  {
   "cell_type": "code",
   "execution_count": 20,
   "metadata": {},
   "outputs": [
    {
     "name": "stdout",
     "output_type": "stream",
     "text": [
      "0 ind 1 | () with p-value 0.169218\n",
      "\n",
      "0 ind 2 | () with p-value 0.076545\n",
      "\n",
      "1 ind 0 | () with p-value 0.169218\n",
      "\n",
      "2 ind 0 | () with p-value 0.076545\n",
      "\n"
     ]
    }
   ],
   "source": [
    "from pytrad.search.ConstraintBased import PC\n",
    "from pytrad.utils.cit import fisherz, chisq, gsq, mv_fisherz, kci ## Conditional Independence test\n",
    "\n",
    "cg = PC.pc(dataFrame, 0.05, fisherz, True, 0, -1)"
   ]
  },
  {
   "cell_type": "markdown",
   "metadata": {},
   "source": [
    "## FCI"
   ]
  },
  {
   "cell_type": "code",
   "execution_count": 21,
   "metadata": {},
   "outputs": [
    {
     "name": "stdout",
     "output_type": "stream",
     "text": [
      "phase1 remove X1 --- X2 by sepset () pval:0.1692179405019889\n",
      "phase1 remove X1 --- X3 by sepset () pval:0.0765445967370032\n"
     ]
    }
   ],
   "source": [
    "from pytrad.search.ConstraintBased.FCI import fci, mod_endpoint\n",
    "from pytrad.utils.GraphUtils import GraphUtils\n",
    "\n",
    "G = fci(dataFrame, fisherz, 0.05, verbose=True)\n",
    "\n",
    "pgv_g = GraphUtils.to_pgv(G)\n",
    "pgv_g.draw('./FCI/tsla_test.jpeg', prog='dot', format='jpeg')"
   ]
  },
  {
   "cell_type": "markdown",
   "metadata": {},
   "source": [
    "Implemented by Diego Saenz"
   ]
  }
 ],
 "metadata": {
  "interpreter": {
   "hash": "c9a4bb6864b10e5d9ff835400d5bc7ad0e17c007ce44c6089512fdcc517204d7"
  },
  "kernelspec": {
   "display_name": "Python 3.7.0 64-bit ('pytrad': conda)",
   "name": "python3"
  },
  "language_info": {
   "codemirror_mode": {
    "name": "ipython",
    "version": 3
   },
   "file_extension": ".py",
   "mimetype": "text/x-python",
   "name": "python",
   "nbconvert_exporter": "python",
   "pygments_lexer": "ipython3",
   "version": "3.7.0"
  },
  "orig_nbformat": 4
 },
 "nbformat": 4,
 "nbformat_minor": 2
}
