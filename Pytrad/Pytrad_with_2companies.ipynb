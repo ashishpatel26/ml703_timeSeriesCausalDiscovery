{
 "cells": [
  {
   "cell_type": "code",
   "execution_count": 1,
   "id": "b346f614",
   "metadata": {},
   "outputs": [],
   "source": [
    "import numpy as np\n",
    "import pandas as pd"
   ]
  },
  {
   "cell_type": "code",
   "execution_count": 2,
   "id": "815d265d",
   "metadata": {},
   "outputs": [],
   "source": [
    "file = pd.read_csv('/home/rushali/ml703_timeSeriesCausalDiscovery/data/final_data_msft.csv')"
   ]
  },
  {
   "cell_type": "code",
   "execution_count": 3,
   "id": "d1a6cac7",
   "metadata": {},
   "outputs": [],
   "source": [
    "file2 = pd.read_csv('/home/rushali/ml703_timeSeriesCausalDiscovery/data/final_data_amzn.csv')"
   ]
  },
  {
   "cell_type": "code",
   "execution_count": 4,
   "id": "86f3b2c9",
   "metadata": {},
   "outputs": [
    {
     "data": {
      "text/html": [
       "<div>\n",
       "<style scoped>\n",
       "    .dataframe tbody tr th:only-of-type {\n",
       "        vertical-align: middle;\n",
       "    }\n",
       "\n",
       "    .dataframe tbody tr th {\n",
       "        vertical-align: top;\n",
       "    }\n",
       "\n",
       "    .dataframe thead th {\n",
       "        text-align: right;\n",
       "    }\n",
       "</style>\n",
       "<table border=\"1\" class=\"dataframe\">\n",
       "  <thead>\n",
       "    <tr style=\"text-align: right;\">\n",
       "      <th></th>\n",
       "      <th>Unnamed: 0</th>\n",
       "      <th>day_date</th>\n",
       "      <th>close_value</th>\n",
       "      <th>num_tweets</th>\n",
       "      <th>log_close_value</th>\n",
       "      <th>lag_log_close_value</th>\n",
       "      <th>log_num_tweets</th>\n",
       "    </tr>\n",
       "  </thead>\n",
       "  <tbody>\n",
       "    <tr>\n",
       "      <th>0</th>\n",
       "      <td>1</td>\n",
       "      <td>2019-01-01</td>\n",
       "      <td>101.57</td>\n",
       "      <td>74</td>\n",
       "      <td>4.620748</td>\n",
       "      <td>0.000000</td>\n",
       "      <td>4.304065</td>\n",
       "    </tr>\n",
       "    <tr>\n",
       "      <th>1</th>\n",
       "      <td>2</td>\n",
       "      <td>2019-01-02</td>\n",
       "      <td>101.12</td>\n",
       "      <td>192</td>\n",
       "      <td>4.616308</td>\n",
       "      <td>-0.004440</td>\n",
       "      <td>5.257495</td>\n",
       "    </tr>\n",
       "    <tr>\n",
       "      <th>2</th>\n",
       "      <td>3</td>\n",
       "      <td>2019-01-03</td>\n",
       "      <td>97.40</td>\n",
       "      <td>221</td>\n",
       "      <td>4.578826</td>\n",
       "      <td>-0.037482</td>\n",
       "      <td>5.398163</td>\n",
       "    </tr>\n",
       "    <tr>\n",
       "      <th>3</th>\n",
       "      <td>4</td>\n",
       "      <td>2019-01-04</td>\n",
       "      <td>101.93</td>\n",
       "      <td>158</td>\n",
       "      <td>4.624286</td>\n",
       "      <td>0.045460</td>\n",
       "      <td>5.062595</td>\n",
       "    </tr>\n",
       "    <tr>\n",
       "      <th>4</th>\n",
       "      <td>5</td>\n",
       "      <td>2019-01-05</td>\n",
       "      <td>101.93</td>\n",
       "      <td>55</td>\n",
       "      <td>4.624286</td>\n",
       "      <td>0.000000</td>\n",
       "      <td>4.007333</td>\n",
       "    </tr>\n",
       "  </tbody>\n",
       "</table>\n",
       "</div>"
      ],
      "text/plain": [
       "   Unnamed: 0    day_date  close_value  num_tweets  log_close_value  \\\n",
       "0           1  2019-01-01       101.57          74         4.620748   \n",
       "1           2  2019-01-02       101.12         192         4.616308   \n",
       "2           3  2019-01-03        97.40         221         4.578826   \n",
       "3           4  2019-01-04       101.93         158         4.624286   \n",
       "4           5  2019-01-05       101.93          55         4.624286   \n",
       "\n",
       "   lag_log_close_value  log_num_tweets  \n",
       "0             0.000000        4.304065  \n",
       "1            -0.004440        5.257495  \n",
       "2            -0.037482        5.398163  \n",
       "3             0.045460        5.062595  \n",
       "4             0.000000        4.007333  "
      ]
     },
     "execution_count": 4,
     "metadata": {},
     "output_type": "execute_result"
    }
   ],
   "source": [
    "file.head()"
   ]
  },
  {
   "cell_type": "code",
   "execution_count": 5,
   "id": "9c5e589b",
   "metadata": {},
   "outputs": [
    {
     "data": {
      "text/html": [
       "<div>\n",
       "<style scoped>\n",
       "    .dataframe tbody tr th:only-of-type {\n",
       "        vertical-align: middle;\n",
       "    }\n",
       "\n",
       "    .dataframe tbody tr th {\n",
       "        vertical-align: top;\n",
       "    }\n",
       "\n",
       "    .dataframe thead th {\n",
       "        text-align: right;\n",
       "    }\n",
       "</style>\n",
       "<table border=\"1\" class=\"dataframe\">\n",
       "  <thead>\n",
       "    <tr style=\"text-align: right;\">\n",
       "      <th></th>\n",
       "      <th>Unnamed: 0</th>\n",
       "      <th>day_date</th>\n",
       "      <th>close_value</th>\n",
       "      <th>num_tweets</th>\n",
       "      <th>log_close_value</th>\n",
       "      <th>lag_log_close_value</th>\n",
       "      <th>log_num_tweets</th>\n",
       "    </tr>\n",
       "  </thead>\n",
       "  <tbody>\n",
       "    <tr>\n",
       "      <th>0</th>\n",
       "      <td>1</td>\n",
       "      <td>2019-01-01</td>\n",
       "      <td>1501.97</td>\n",
       "      <td>189</td>\n",
       "      <td>7.314533</td>\n",
       "      <td>0.000000</td>\n",
       "      <td>5.241747</td>\n",
       "    </tr>\n",
       "    <tr>\n",
       "      <th>1</th>\n",
       "      <td>2</td>\n",
       "      <td>2019-01-02</td>\n",
       "      <td>1539.13</td>\n",
       "      <td>668</td>\n",
       "      <td>7.338973</td>\n",
       "      <td>0.024440</td>\n",
       "      <td>6.504288</td>\n",
       "    </tr>\n",
       "    <tr>\n",
       "      <th>2</th>\n",
       "      <td>3</td>\n",
       "      <td>2019-01-03</td>\n",
       "      <td>1500.28</td>\n",
       "      <td>658</td>\n",
       "      <td>7.313407</td>\n",
       "      <td>-0.025566</td>\n",
       "      <td>6.489205</td>\n",
       "    </tr>\n",
       "    <tr>\n",
       "      <th>3</th>\n",
       "      <td>4</td>\n",
       "      <td>2019-01-04</td>\n",
       "      <td>1575.39</td>\n",
       "      <td>667</td>\n",
       "      <td>7.362258</td>\n",
       "      <td>0.048851</td>\n",
       "      <td>6.502790</td>\n",
       "    </tr>\n",
       "    <tr>\n",
       "      <th>4</th>\n",
       "      <td>5</td>\n",
       "      <td>2019-01-05</td>\n",
       "      <td>1575.39</td>\n",
       "      <td>218</td>\n",
       "      <td>7.362258</td>\n",
       "      <td>0.000000</td>\n",
       "      <td>5.384495</td>\n",
       "    </tr>\n",
       "  </tbody>\n",
       "</table>\n",
       "</div>"
      ],
      "text/plain": [
       "   Unnamed: 0    day_date  close_value  num_tweets  log_close_value  \\\n",
       "0           1  2019-01-01      1501.97         189         7.314533   \n",
       "1           2  2019-01-02      1539.13         668         7.338973   \n",
       "2           3  2019-01-03      1500.28         658         7.313407   \n",
       "3           4  2019-01-04      1575.39         667         7.362258   \n",
       "4           5  2019-01-05      1575.39         218         7.362258   \n",
       "\n",
       "   lag_log_close_value  log_num_tweets  \n",
       "0             0.000000        5.241747  \n",
       "1             0.024440        6.504288  \n",
       "2            -0.025566        6.489205  \n",
       "3             0.048851        6.502790  \n",
       "4             0.000000        5.384495  "
      ]
     },
     "execution_count": 5,
     "metadata": {},
     "output_type": "execute_result"
    }
   ],
   "source": [
    "file2.head()"
   ]
  },
  {
   "cell_type": "code",
   "execution_count": 6,
   "id": "5d357ccd",
   "metadata": {},
   "outputs": [],
   "source": [
    "data = file[['day_date','lag_log_close_value','log_num_tweets']]"
   ]
  },
  {
   "cell_type": "code",
   "execution_count": 7,
   "id": "5ed01f6d",
   "metadata": {},
   "outputs": [],
   "source": [
    "data2 = file2[['day_date','lag_log_close_value','log_num_tweets']]"
   ]
  },
  {
   "cell_type": "code",
   "execution_count": 8,
   "id": "9eca9633",
   "metadata": {},
   "outputs": [
    {
     "data": {
      "text/html": [
       "<div>\n",
       "<style scoped>\n",
       "    .dataframe tbody tr th:only-of-type {\n",
       "        vertical-align: middle;\n",
       "    }\n",
       "\n",
       "    .dataframe tbody tr th {\n",
       "        vertical-align: top;\n",
       "    }\n",
       "\n",
       "    .dataframe thead th {\n",
       "        text-align: right;\n",
       "    }\n",
       "</style>\n",
       "<table border=\"1\" class=\"dataframe\">\n",
       "  <thead>\n",
       "    <tr style=\"text-align: right;\">\n",
       "      <th></th>\n",
       "      <th>day_date</th>\n",
       "      <th>lag_log_close_value</th>\n",
       "      <th>log_num_tweets</th>\n",
       "    </tr>\n",
       "  </thead>\n",
       "  <tbody>\n",
       "    <tr>\n",
       "      <th>0</th>\n",
       "      <td>2019-01-01</td>\n",
       "      <td>0.000000</td>\n",
       "      <td>4.304065</td>\n",
       "    </tr>\n",
       "    <tr>\n",
       "      <th>1</th>\n",
       "      <td>2019-01-02</td>\n",
       "      <td>-0.004440</td>\n",
       "      <td>5.257495</td>\n",
       "    </tr>\n",
       "    <tr>\n",
       "      <th>2</th>\n",
       "      <td>2019-01-03</td>\n",
       "      <td>-0.037482</td>\n",
       "      <td>5.398163</td>\n",
       "    </tr>\n",
       "    <tr>\n",
       "      <th>3</th>\n",
       "      <td>2019-01-04</td>\n",
       "      <td>0.045460</td>\n",
       "      <td>5.062595</td>\n",
       "    </tr>\n",
       "    <tr>\n",
       "      <th>4</th>\n",
       "      <td>2019-01-05</td>\n",
       "      <td>0.000000</td>\n",
       "      <td>4.007333</td>\n",
       "    </tr>\n",
       "  </tbody>\n",
       "</table>\n",
       "</div>"
      ],
      "text/plain": [
       "     day_date  lag_log_close_value  log_num_tweets\n",
       "0  2019-01-01             0.000000        4.304065\n",
       "1  2019-01-02            -0.004440        5.257495\n",
       "2  2019-01-03            -0.037482        5.398163\n",
       "3  2019-01-04             0.045460        5.062595\n",
       "4  2019-01-05             0.000000        4.007333"
      ]
     },
     "execution_count": 8,
     "metadata": {},
     "output_type": "execute_result"
    }
   ],
   "source": [
    "data.head()"
   ]
  },
  {
   "cell_type": "code",
   "execution_count": 9,
   "id": "c5ce4ab5",
   "metadata": {},
   "outputs": [
    {
     "data": {
      "text/html": [
       "<div>\n",
       "<style scoped>\n",
       "    .dataframe tbody tr th:only-of-type {\n",
       "        vertical-align: middle;\n",
       "    }\n",
       "\n",
       "    .dataframe tbody tr th {\n",
       "        vertical-align: top;\n",
       "    }\n",
       "\n",
       "    .dataframe thead th {\n",
       "        text-align: right;\n",
       "    }\n",
       "</style>\n",
       "<table border=\"1\" class=\"dataframe\">\n",
       "  <thead>\n",
       "    <tr style=\"text-align: right;\">\n",
       "      <th></th>\n",
       "      <th>day_date</th>\n",
       "      <th>lag_log_close_value</th>\n",
       "      <th>log_num_tweets</th>\n",
       "    </tr>\n",
       "  </thead>\n",
       "  <tbody>\n",
       "    <tr>\n",
       "      <th>0</th>\n",
       "      <td>2019-01-01</td>\n",
       "      <td>0.000000</td>\n",
       "      <td>5.241747</td>\n",
       "    </tr>\n",
       "    <tr>\n",
       "      <th>1</th>\n",
       "      <td>2019-01-02</td>\n",
       "      <td>0.024440</td>\n",
       "      <td>6.504288</td>\n",
       "    </tr>\n",
       "    <tr>\n",
       "      <th>2</th>\n",
       "      <td>2019-01-03</td>\n",
       "      <td>-0.025566</td>\n",
       "      <td>6.489205</td>\n",
       "    </tr>\n",
       "    <tr>\n",
       "      <th>3</th>\n",
       "      <td>2019-01-04</td>\n",
       "      <td>0.048851</td>\n",
       "      <td>6.502790</td>\n",
       "    </tr>\n",
       "    <tr>\n",
       "      <th>4</th>\n",
       "      <td>2019-01-05</td>\n",
       "      <td>0.000000</td>\n",
       "      <td>5.384495</td>\n",
       "    </tr>\n",
       "  </tbody>\n",
       "</table>\n",
       "</div>"
      ],
      "text/plain": [
       "     day_date  lag_log_close_value  log_num_tweets\n",
       "0  2019-01-01             0.000000        5.241747\n",
       "1  2019-01-02             0.024440        6.504288\n",
       "2  2019-01-03            -0.025566        6.489205\n",
       "3  2019-01-04             0.048851        6.502790\n",
       "4  2019-01-05             0.000000        5.384495"
      ]
     },
     "execution_count": 9,
     "metadata": {},
     "output_type": "execute_result"
    }
   ],
   "source": [
    "data2.head()"
   ]
  },
  {
   "cell_type": "code",
   "execution_count": 10,
   "id": "80f73143",
   "metadata": {},
   "outputs": [],
   "source": [
    "dataframe = np.column_stack((data.lag_log_close_value,data2.lag_log_close_value,data.log_num_tweets,data2.log_num_tweets))"
   ]
  },
  {
   "cell_type": "code",
   "execution_count": 11,
   "id": "9f807866",
   "metadata": {},
   "outputs": [
    {
     "name": "stdout",
     "output_type": "stream",
     "text": [
      "0 ind 3 | () with p-value 0.148357\n",
      "\n",
      "1 ind 2 | () with p-value 0.214830\n",
      "\n",
      "1 ind 3 | () with p-value 0.273504\n",
      "\n",
      "2 ind 1 | () with p-value 0.214830\n",
      "\n",
      "3 ind 0 | () with p-value 0.148357\n",
      "\n",
      "3 ind 1 | () with p-value 0.273504\n",
      "\n"
     ]
    }
   ],
   "source": [
    "from pytrad.search.ConstraintBased import PC\n",
    "from pytrad.utils.cit import fisherz, chisq, gsq, mv_fisherz, kci ## Conditional Independence test\n",
    "\n",
    "cg = PC.pc(data=dataframe, alpha=0.05, indep_test=fisherz, \n",
    "            stable=True, uc_rule=0, uc_priority=-1)"
   ]
  },
  {
   "cell_type": "markdown",
   "id": "0102eb59",
   "metadata": {},
   "source": [
    "# FCI"
   ]
  },
  {
   "cell_type": "code",
   "execution_count": 12,
   "id": "2e041926",
   "metadata": {},
   "outputs": [
    {
     "name": "stdout",
     "output_type": "stream",
     "text": [
      "phase1 remove X1 --- X4 by sepset () pval:0.148356799767432\n",
      "phase1 remove X2 --- X3 by sepset () pval:0.2148300561676616\n",
      "phase1 remove X2 --- X4 by sepset () pval:0.2735043912787891\n",
      "orient_V: X1,X3,X4\n",
      "orient_V: X2,X1,X3\n"
     ]
    }
   ],
   "source": [
    "from pytrad.search.ConstraintBased.FCI import fci, mod_endpoint\n",
    "from pytrad.utils.GraphUtils import GraphUtils\n",
    "\n",
    "G = fci(dataframe, fisherz, 0.05, verbose=True)\n",
    "\n",
    "pgv_g = GraphUtils.to_pgv(G)\n",
    "pgv_g.draw('./FCI/msft_amzn.jpeg', prog='dot', format='jpeg')"
   ]
  }
 ],
 "metadata": {
  "kernelspec": {
   "display_name": "Python 3 (ipykernel)",
   "language": "python",
   "name": "python3"
  },
  "language_info": {
   "codemirror_mode": {
    "name": "ipython",
    "version": 3
   },
   "file_extension": ".py",
   "mimetype": "text/x-python",
   "name": "python",
   "nbconvert_exporter": "python",
   "pygments_lexer": "ipython3",
   "version": "3.7.11"
  }
 },
 "nbformat": 4,
 "nbformat_minor": 5
}
