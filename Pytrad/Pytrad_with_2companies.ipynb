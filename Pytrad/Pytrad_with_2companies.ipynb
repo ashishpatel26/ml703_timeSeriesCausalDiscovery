{
 "cells": [
  {
   "cell_type": "code",
   "execution_count": 1,
   "id": "b346f614",
   "metadata": {},
   "outputs": [],
   "source": [
    "import numpy as np\n",
    "import pandas as pd"
   ]
  },
  {
   "cell_type": "code",
   "execution_count": 2,
   "id": "815d265d",
   "metadata": {},
   "outputs": [],
   "source": [
    "file = pd.read_csv('/home/rushali/ml703_timeSeriesCausalDiscovery/data/final_data_msft.csv')"
   ]
  },
  {
   "cell_type": "code",
   "execution_count": 3,
   "id": "d1a6cac7",
   "metadata": {},
   "outputs": [],
   "source": [
    "file2 = pd.read_csv('/home/rushali/ml703_timeSeriesCausalDiscovery/data/final_data_amzn.csv')"
   ]
  },
  {
   "cell_type": "code",
   "execution_count": 4,
   "id": "86f3b2c9",
   "metadata": {},
   "outputs": [
    {
     "data": {
      "text/html": [
       "<div>\n",
       "<style scoped>\n",
       "    .dataframe tbody tr th:only-of-type {\n",
       "        vertical-align: middle;\n",
       "    }\n",
       "\n",
       "    .dataframe tbody tr th {\n",
       "        vertical-align: top;\n",
       "    }\n",
       "\n",
       "    .dataframe thead th {\n",
       "        text-align: right;\n",
       "    }\n",
       "</style>\n",
       "<table border=\"1\" class=\"dataframe\">\n",
       "  <thead>\n",
       "    <tr style=\"text-align: right;\">\n",
       "      <th></th>\n",
       "      <th>Unnamed: 0</th>\n",
       "      <th>day_date</th>\n",
       "      <th>close_value</th>\n",
       "      <th>num_tweets</th>\n",
       "      <th>log_close_value</th>\n",
       "      <th>lag_log_close_value</th>\n",
       "      <th>log_num_tweets</th>\n",
       "    </tr>\n",
       "  </thead>\n",
       "  <tbody>\n",
       "    <tr>\n",
       "      <th>0</th>\n",
       "      <td>1</td>\n",
       "      <td>2019-01-01</td>\n",
       "      <td>157.74</td>\n",
       "      <td>249</td>\n",
       "      <td>5.060948</td>\n",
       "      <td>0.000000</td>\n",
       "      <td>5.517453</td>\n",
       "    </tr>\n",
       "    <tr>\n",
       "      <th>1</th>\n",
       "      <td>2</td>\n",
       "      <td>2019-01-02</td>\n",
       "      <td>157.92</td>\n",
       "      <td>1734</td>\n",
       "      <td>5.062089</td>\n",
       "      <td>0.001140</td>\n",
       "      <td>7.458186</td>\n",
       "    </tr>\n",
       "    <tr>\n",
       "      <th>2</th>\n",
       "      <td>3</td>\n",
       "      <td>2019-01-03</td>\n",
       "      <td>142.19</td>\n",
       "      <td>4943</td>\n",
       "      <td>4.957164</td>\n",
       "      <td>-0.104924</td>\n",
       "      <td>8.505728</td>\n",
       "    </tr>\n",
       "    <tr>\n",
       "      <th>3</th>\n",
       "      <td>4</td>\n",
       "      <td>2019-01-04</td>\n",
       "      <td>148.26</td>\n",
       "      <td>1682</td>\n",
       "      <td>4.998967</td>\n",
       "      <td>0.041803</td>\n",
       "      <td>7.427739</td>\n",
       "    </tr>\n",
       "    <tr>\n",
       "      <th>4</th>\n",
       "      <td>5</td>\n",
       "      <td>2019-01-05</td>\n",
       "      <td>148.26</td>\n",
       "      <td>535</td>\n",
       "      <td>4.998967</td>\n",
       "      <td>0.000000</td>\n",
       "      <td>6.282267</td>\n",
       "    </tr>\n",
       "  </tbody>\n",
       "</table>\n",
       "</div>"
      ],
      "text/plain": [
       "   Unnamed: 0    day_date  close_value  num_tweets  log_close_value  \\\n",
       "0           1  2019-01-01       157.74         249         5.060948   \n",
       "1           2  2019-01-02       157.92        1734         5.062089   \n",
       "2           3  2019-01-03       142.19        4943         4.957164   \n",
       "3           4  2019-01-04       148.26        1682         4.998967   \n",
       "4           5  2019-01-05       148.26         535         4.998967   \n",
       "\n",
       "   lag_log_close_value  log_num_tweets  \n",
       "0             0.000000        5.517453  \n",
       "1             0.001140        7.458186  \n",
       "2            -0.104924        8.505728  \n",
       "3             0.041803        7.427739  \n",
       "4             0.000000        6.282267  "
      ]
     },
     "execution_count": 4,
     "metadata": {},
     "output_type": "execute_result"
    }
   ],
   "source": [
    "file.head()"
   ]
  },
  {
   "cell_type": "code",
   "execution_count": 5,
   "id": "9c5e589b",
   "metadata": {},
   "outputs": [
    {
     "data": {
      "text/html": [
       "<div>\n",
       "<style scoped>\n",
       "    .dataframe tbody tr th:only-of-type {\n",
       "        vertical-align: middle;\n",
       "    }\n",
       "\n",
       "    .dataframe tbody tr th {\n",
       "        vertical-align: top;\n",
       "    }\n",
       "\n",
       "    .dataframe thead th {\n",
       "        text-align: right;\n",
       "    }\n",
       "</style>\n",
       "<table border=\"1\" class=\"dataframe\">\n",
       "  <thead>\n",
       "    <tr style=\"text-align: right;\">\n",
       "      <th></th>\n",
       "      <th>Unnamed: 0</th>\n",
       "      <th>day_date</th>\n",
       "      <th>close_value</th>\n",
       "      <th>num_tweets</th>\n",
       "      <th>log_close_value</th>\n",
       "      <th>lag_log_close_value</th>\n",
       "      <th>log_num_tweets</th>\n",
       "    </tr>\n",
       "  </thead>\n",
       "  <tbody>\n",
       "    <tr>\n",
       "      <th>0</th>\n",
       "      <td>1</td>\n",
       "      <td>2019-01-01</td>\n",
       "      <td>332.80</td>\n",
       "      <td>443</td>\n",
       "      <td>5.807542</td>\n",
       "      <td>0.000000</td>\n",
       "      <td>6.093570</td>\n",
       "    </tr>\n",
       "    <tr>\n",
       "      <th>1</th>\n",
       "      <td>2</td>\n",
       "      <td>2019-01-02</td>\n",
       "      <td>310.12</td>\n",
       "      <td>1196</td>\n",
       "      <td>5.736959</td>\n",
       "      <td>-0.070582</td>\n",
       "      <td>7.086738</td>\n",
       "    </tr>\n",
       "    <tr>\n",
       "      <th>2</th>\n",
       "      <td>3</td>\n",
       "      <td>2019-01-03</td>\n",
       "      <td>300.36</td>\n",
       "      <td>1257</td>\n",
       "      <td>5.704982</td>\n",
       "      <td>-0.031978</td>\n",
       "      <td>7.136483</td>\n",
       "    </tr>\n",
       "    <tr>\n",
       "      <th>3</th>\n",
       "      <td>4</td>\n",
       "      <td>2019-01-04</td>\n",
       "      <td>317.69</td>\n",
       "      <td>922</td>\n",
       "      <td>5.761076</td>\n",
       "      <td>0.056094</td>\n",
       "      <td>6.826545</td>\n",
       "    </tr>\n",
       "    <tr>\n",
       "      <th>4</th>\n",
       "      <td>5</td>\n",
       "      <td>2019-01-05</td>\n",
       "      <td>317.69</td>\n",
       "      <td>505</td>\n",
       "      <td>5.761076</td>\n",
       "      <td>0.000000</td>\n",
       "      <td>6.224558</td>\n",
       "    </tr>\n",
       "  </tbody>\n",
       "</table>\n",
       "</div>"
      ],
      "text/plain": [
       "   Unnamed: 0    day_date  close_value  num_tweets  log_close_value  \\\n",
       "0           1  2019-01-01       332.80         443         5.807542   \n",
       "1           2  2019-01-02       310.12        1196         5.736959   \n",
       "2           3  2019-01-03       300.36        1257         5.704982   \n",
       "3           4  2019-01-04       317.69         922         5.761076   \n",
       "4           5  2019-01-05       317.69         505         5.761076   \n",
       "\n",
       "   lag_log_close_value  log_num_tweets  \n",
       "0             0.000000        6.093570  \n",
       "1            -0.070582        7.086738  \n",
       "2            -0.031978        7.136483  \n",
       "3             0.056094        6.826545  \n",
       "4             0.000000        6.224558  "
      ]
     },
     "execution_count": 5,
     "metadata": {},
     "output_type": "execute_result"
    }
   ],
   "source": [
    "file2.head()"
   ]
  },
  {
   "cell_type": "code",
   "execution_count": 6,
   "id": "5d357ccd",
   "metadata": {},
   "outputs": [],
   "source": [
    "data = file[['day_date','lag_log_close_value','log_num_tweets']]"
   ]
  },
  {
   "cell_type": "code",
   "execution_count": 7,
   "id": "5ed01f6d",
   "metadata": {},
   "outputs": [],
   "source": [
    "data2 = file2[['day_date','lag_log_close_value','log_num_tweets']]"
   ]
  },
  {
   "cell_type": "code",
   "execution_count": 8,
   "id": "9eca9633",
   "metadata": {},
   "outputs": [
    {
     "data": {
      "text/html": [
       "<div>\n",
       "<style scoped>\n",
       "    .dataframe tbody tr th:only-of-type {\n",
       "        vertical-align: middle;\n",
       "    }\n",
       "\n",
       "    .dataframe tbody tr th {\n",
       "        vertical-align: top;\n",
       "    }\n",
       "\n",
       "    .dataframe thead th {\n",
       "        text-align: right;\n",
       "    }\n",
       "</style>\n",
       "<table border=\"1\" class=\"dataframe\">\n",
       "  <thead>\n",
       "    <tr style=\"text-align: right;\">\n",
       "      <th></th>\n",
       "      <th>day_date</th>\n",
       "      <th>lag_log_close_value</th>\n",
       "      <th>log_num_tweets</th>\n",
       "    </tr>\n",
       "  </thead>\n",
       "  <tbody>\n",
       "    <tr>\n",
       "      <th>0</th>\n",
       "      <td>2019-01-01</td>\n",
       "      <td>0.000000</td>\n",
       "      <td>5.517453</td>\n",
       "    </tr>\n",
       "    <tr>\n",
       "      <th>1</th>\n",
       "      <td>2019-01-02</td>\n",
       "      <td>0.001140</td>\n",
       "      <td>7.458186</td>\n",
       "    </tr>\n",
       "    <tr>\n",
       "      <th>2</th>\n",
       "      <td>2019-01-03</td>\n",
       "      <td>-0.104924</td>\n",
       "      <td>8.505728</td>\n",
       "    </tr>\n",
       "    <tr>\n",
       "      <th>3</th>\n",
       "      <td>2019-01-04</td>\n",
       "      <td>0.041803</td>\n",
       "      <td>7.427739</td>\n",
       "    </tr>\n",
       "    <tr>\n",
       "      <th>4</th>\n",
       "      <td>2019-01-05</td>\n",
       "      <td>0.000000</td>\n",
       "      <td>6.282267</td>\n",
       "    </tr>\n",
       "  </tbody>\n",
       "</table>\n",
       "</div>"
      ],
      "text/plain": [
       "     day_date  lag_log_close_value  log_num_tweets\n",
       "0  2019-01-01             0.000000        5.517453\n",
       "1  2019-01-02             0.001140        7.458186\n",
       "2  2019-01-03            -0.104924        8.505728\n",
       "3  2019-01-04             0.041803        7.427739\n",
       "4  2019-01-05             0.000000        6.282267"
      ]
     },
     "execution_count": 8,
     "metadata": {},
     "output_type": "execute_result"
    }
   ],
   "source": [
    "data.head()"
   ]
  },
  {
   "cell_type": "code",
   "execution_count": 9,
   "id": "c5ce4ab5",
   "metadata": {},
   "outputs": [
    {
     "data": {
      "text/html": [
       "<div>\n",
       "<style scoped>\n",
       "    .dataframe tbody tr th:only-of-type {\n",
       "        vertical-align: middle;\n",
       "    }\n",
       "\n",
       "    .dataframe tbody tr th {\n",
       "        vertical-align: top;\n",
       "    }\n",
       "\n",
       "    .dataframe thead th {\n",
       "        text-align: right;\n",
       "    }\n",
       "</style>\n",
       "<table border=\"1\" class=\"dataframe\">\n",
       "  <thead>\n",
       "    <tr style=\"text-align: right;\">\n",
       "      <th></th>\n",
       "      <th>day_date</th>\n",
       "      <th>lag_log_close_value</th>\n",
       "      <th>log_num_tweets</th>\n",
       "    </tr>\n",
       "  </thead>\n",
       "  <tbody>\n",
       "    <tr>\n",
       "      <th>0</th>\n",
       "      <td>2019-01-01</td>\n",
       "      <td>0.000000</td>\n",
       "      <td>6.093570</td>\n",
       "    </tr>\n",
       "    <tr>\n",
       "      <th>1</th>\n",
       "      <td>2019-01-02</td>\n",
       "      <td>-0.070582</td>\n",
       "      <td>7.086738</td>\n",
       "    </tr>\n",
       "    <tr>\n",
       "      <th>2</th>\n",
       "      <td>2019-01-03</td>\n",
       "      <td>-0.031978</td>\n",
       "      <td>7.136483</td>\n",
       "    </tr>\n",
       "    <tr>\n",
       "      <th>3</th>\n",
       "      <td>2019-01-04</td>\n",
       "      <td>0.056094</td>\n",
       "      <td>6.826545</td>\n",
       "    </tr>\n",
       "    <tr>\n",
       "      <th>4</th>\n",
       "      <td>2019-01-05</td>\n",
       "      <td>0.000000</td>\n",
       "      <td>6.224558</td>\n",
       "    </tr>\n",
       "  </tbody>\n",
       "</table>\n",
       "</div>"
      ],
      "text/plain": [
       "     day_date  lag_log_close_value  log_num_tweets\n",
       "0  2019-01-01             0.000000        6.093570\n",
       "1  2019-01-02            -0.070582        7.086738\n",
       "2  2019-01-03            -0.031978        7.136483\n",
       "3  2019-01-04             0.056094        6.826545\n",
       "4  2019-01-05             0.000000        6.224558"
      ]
     },
     "execution_count": 9,
     "metadata": {},
     "output_type": "execute_result"
    }
   ],
   "source": [
    "data2.head()"
   ]
  },
  {
   "cell_type": "code",
   "execution_count": 10,
   "id": "80f73143",
   "metadata": {},
   "outputs": [],
   "source": [
    "dataframe = np.column_stack((data.lag_log_close_value,data2.lag_log_close_value,data.log_num_tweets,data2.log_num_tweets))"
   ]
  },
  {
   "cell_type": "code",
   "execution_count": 11,
   "id": "9f807866",
   "metadata": {},
   "outputs": [
    {
     "name": "stdout",
     "output_type": "stream",
     "text": [
      "0 ind 2 | () with p-value 0.299584\n",
      "\n",
      "0 ind 3 | () with p-value 0.167130\n",
      "\n",
      "1 ind 2 | () with p-value 0.367255\n",
      "\n",
      "1 ind 3 | () with p-value 0.098070\n",
      "\n",
      "2 ind 0 | () with p-value 0.299584\n",
      "\n",
      "2 ind 1 | () with p-value 0.367255\n",
      "\n",
      "3 ind 0 | () with p-value 0.167130\n",
      "\n",
      "3 ind 1 | () with p-value 0.098070\n",
      "\n"
     ]
    }
   ],
   "source": [
    "from pytrad.search.ConstraintBased import PC\n",
    "from pytrad.utils.cit import fisherz, chisq, gsq, mv_fisherz, kci ## Conditional Independence test\n",
    "\n",
    "cg = PC.pc(data=dataframe, alpha=0.05, indep_test=fisherz, \n",
    "            stable=True, uc_rule=0, uc_priority=-1)"
   ]
  },
  {
   "cell_type": "markdown",
   "id": "0102eb59",
   "metadata": {},
   "source": [
    "# FCI"
   ]
  },
  {
   "cell_type": "code",
   "execution_count": 12,
   "id": "2e041926",
   "metadata": {},
   "outputs": [
    {
     "name": "stdout",
     "output_type": "stream",
     "text": [
      "phase1 remove X1 --- X3 by sepset () pval:0.29958371063662104\n",
      "phase1 remove X1 --- X4 by sepset () pval:0.16712965658007473\n",
      "phase1 remove X2 --- X3 by sepset () pval:0.36725500585118465\n",
      "phase1 remove X2 --- X4 by sepset () pval:0.09806960720692737\n"
     ]
    }
   ],
   "source": [
    "from pytrad.search.ConstraintBased.FCI import fci, mod_endpoint\n",
    "from pytrad.utils.GraphUtils import GraphUtils\n",
    "\n",
    "G = fci(dataframe, fisherz, 0.05, verbose=True)\n",
    "\n",
    "pgv_g = GraphUtils.to_pgv(G)\n",
    "pgv_g.draw('./FCI/masft_amzn.jpeg', prog='dot', format='jpeg')"
   ]
  }
 ],
 "metadata": {
  "kernelspec": {
   "display_name": "Python 3 (ipykernel)",
   "language": "python",
   "name": "python3"
  },
  "language_info": {
   "codemirror_mode": {
    "name": "ipython",
    "version": 3
   },
   "file_extension": ".py",
   "mimetype": "text/x-python",
   "name": "python",
   "nbconvert_exporter": "python",
   "pygments_lexer": "ipython3",
   "version": "3.8.8"
  }
 },
 "nbformat": 4,
 "nbformat_minor": 5
}
