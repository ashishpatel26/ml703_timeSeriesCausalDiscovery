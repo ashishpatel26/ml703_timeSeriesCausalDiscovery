{
  "nbformat": 4,
  "nbformat_minor": 0,
  "metadata": {
    "colab": {
      "name": "Preprocessing.ipynb",
      "provenance": [],
      "collapsed_sections": []
    },
    "kernelspec": {
      "name": "python3",
      "display_name": "Python 3"
    },
    "language_info": {
      "name": "python"
    }
  },
  "cells": [
    {
      "cell_type": "code",
      "metadata": {
        "id": "m6yG-t1bkGFp",
        "colab": {
          "base_uri": "https://localhost:8080/"
        },
        "outputId": "1e5ffac8-cf98-4286-b1f6-882e87072758"
      },
      "source": [
        "from google.colab import drive\n",
        "\n",
        "drive.mount('/content/gdrive',force_remount=True)"
      ],
      "execution_count": 1,
      "outputs": [
        {
          "output_type": "stream",
          "name": "stdout",
          "text": [
            "Mounted at /content/gdrive\n"
          ]
        }
      ]
    },
    {
      "cell_type": "code",
      "metadata": {
        "id": "uXAPLm-dXuj6"
      },
      "source": [
        "import numpy as np\n",
        "import pandas as pd\n",
        "import matplotlib.pyplot as plt"
      ],
      "execution_count": 2,
      "outputs": []
    },
    {
      "cell_type": "code",
      "metadata": {
        "id": "ChZoj-1jYDLK"
      },
      "source": [
        "tags = pd.read_csv('/content/gdrive/MyDrive/Company.csv')"
      ],
      "execution_count": 31,
      "outputs": []
    },
    {
      "cell_type": "code",
      "metadata": {
        "colab": {
          "base_uri": "https://localhost:8080/",
          "height": 238
        },
        "id": "uR8fS7MVYUMY",
        "outputId": "0adea733-6376-4edf-e3c4-e757668bd6ae"
      },
      "source": [
        "tags"
      ],
      "execution_count": 32,
      "outputs": [
        {
          "output_type": "execute_result",
          "data": {
            "text/html": [
              "<div>\n",
              "<style scoped>\n",
              "    .dataframe tbody tr th:only-of-type {\n",
              "        vertical-align: middle;\n",
              "    }\n",
              "\n",
              "    .dataframe tbody tr th {\n",
              "        vertical-align: top;\n",
              "    }\n",
              "\n",
              "    .dataframe thead th {\n",
              "        text-align: right;\n",
              "    }\n",
              "</style>\n",
              "<table border=\"1\" class=\"dataframe\">\n",
              "  <thead>\n",
              "    <tr style=\"text-align: right;\">\n",
              "      <th></th>\n",
              "      <th>ticker_symbol</th>\n",
              "      <th>company_name</th>\n",
              "    </tr>\n",
              "  </thead>\n",
              "  <tbody>\n",
              "    <tr>\n",
              "      <th>0</th>\n",
              "      <td>AAPL</td>\n",
              "      <td>apple</td>\n",
              "    </tr>\n",
              "    <tr>\n",
              "      <th>1</th>\n",
              "      <td>GOOG</td>\n",
              "      <td>Google Inc</td>\n",
              "    </tr>\n",
              "    <tr>\n",
              "      <th>2</th>\n",
              "      <td>GOOGL</td>\n",
              "      <td>Google Inc</td>\n",
              "    </tr>\n",
              "    <tr>\n",
              "      <th>3</th>\n",
              "      <td>AMZN</td>\n",
              "      <td>Amazon.com</td>\n",
              "    </tr>\n",
              "    <tr>\n",
              "      <th>4</th>\n",
              "      <td>TSLA</td>\n",
              "      <td>Tesla Inc</td>\n",
              "    </tr>\n",
              "    <tr>\n",
              "      <th>5</th>\n",
              "      <td>MSFT</td>\n",
              "      <td>Microsoft</td>\n",
              "    </tr>\n",
              "  </tbody>\n",
              "</table>\n",
              "</div>"
            ],
            "text/plain": [
              "  ticker_symbol company_name\n",
              "0          AAPL        apple\n",
              "1          GOOG   Google Inc\n",
              "2         GOOGL   Google Inc\n",
              "3          AMZN   Amazon.com\n",
              "4          TSLA    Tesla Inc\n",
              "5          MSFT    Microsoft"
            ]
          },
          "metadata": {},
          "execution_count": 32
        }
      ]
    },
    {
      "cell_type": "code",
      "metadata": {
        "id": "JQ3KJt81YZOK"
      },
      "source": [
        "data = pd.read_csv('/content/gdrive/MyDrive/CompanyValues.csv')"
      ],
      "execution_count": 33,
      "outputs": []
    },
    {
      "cell_type": "code",
      "metadata": {
        "colab": {
          "base_uri": "https://localhost:8080/",
          "height": 206
        },
        "id": "gsithekzYjBU",
        "outputId": "8292fd05-7ded-4c8a-a089-3aa397df4e40"
      },
      "source": [
        "data.head()"
      ],
      "execution_count": 34,
      "outputs": [
        {
          "output_type": "execute_result",
          "data": {
            "text/html": [
              "<div>\n",
              "<style scoped>\n",
              "    .dataframe tbody tr th:only-of-type {\n",
              "        vertical-align: middle;\n",
              "    }\n",
              "\n",
              "    .dataframe tbody tr th {\n",
              "        vertical-align: top;\n",
              "    }\n",
              "\n",
              "    .dataframe thead th {\n",
              "        text-align: right;\n",
              "    }\n",
              "</style>\n",
              "<table border=\"1\" class=\"dataframe\">\n",
              "  <thead>\n",
              "    <tr style=\"text-align: right;\">\n",
              "      <th></th>\n",
              "      <th>ticker_symbol</th>\n",
              "      <th>day_date</th>\n",
              "      <th>close_value</th>\n",
              "      <th>volume</th>\n",
              "      <th>open_value</th>\n",
              "      <th>high_value</th>\n",
              "      <th>low_value</th>\n",
              "    </tr>\n",
              "  </thead>\n",
              "  <tbody>\n",
              "    <tr>\n",
              "      <th>0</th>\n",
              "      <td>AAPL</td>\n",
              "      <td>2020-05-29</td>\n",
              "      <td>317.94</td>\n",
              "      <td>38399530</td>\n",
              "      <td>319.25</td>\n",
              "      <td>321.15</td>\n",
              "      <td>316.47</td>\n",
              "    </tr>\n",
              "    <tr>\n",
              "      <th>1</th>\n",
              "      <td>AAPL</td>\n",
              "      <td>2020-05-28</td>\n",
              "      <td>318.25</td>\n",
              "      <td>33449100</td>\n",
              "      <td>316.77</td>\n",
              "      <td>323.44</td>\n",
              "      <td>315.63</td>\n",
              "    </tr>\n",
              "    <tr>\n",
              "      <th>2</th>\n",
              "      <td>AAPL</td>\n",
              "      <td>2020-05-27</td>\n",
              "      <td>318.11</td>\n",
              "      <td>28236270</td>\n",
              "      <td>316.14</td>\n",
              "      <td>318.71</td>\n",
              "      <td>313.09</td>\n",
              "    </tr>\n",
              "    <tr>\n",
              "      <th>3</th>\n",
              "      <td>AAPL</td>\n",
              "      <td>2020-05-26</td>\n",
              "      <td>316.73</td>\n",
              "      <td>31380450</td>\n",
              "      <td>323.50</td>\n",
              "      <td>324.24</td>\n",
              "      <td>316.50</td>\n",
              "    </tr>\n",
              "    <tr>\n",
              "      <th>4</th>\n",
              "      <td>AAPL</td>\n",
              "      <td>2020-05-22</td>\n",
              "      <td>318.89</td>\n",
              "      <td>20450750</td>\n",
              "      <td>315.77</td>\n",
              "      <td>319.23</td>\n",
              "      <td>315.35</td>\n",
              "    </tr>\n",
              "  </tbody>\n",
              "</table>\n",
              "</div>"
            ],
            "text/plain": [
              "  ticker_symbol    day_date  close_value  ...  open_value  high_value  low_value\n",
              "0          AAPL  2020-05-29       317.94  ...      319.25      321.15     316.47\n",
              "1          AAPL  2020-05-28       318.25  ...      316.77      323.44     315.63\n",
              "2          AAPL  2020-05-27       318.11  ...      316.14      318.71     313.09\n",
              "3          AAPL  2020-05-26       316.73  ...      323.50      324.24     316.50\n",
              "4          AAPL  2020-05-22       318.89  ...      315.77      319.23     315.35\n",
              "\n",
              "[5 rows x 7 columns]"
            ]
          },
          "metadata": {},
          "execution_count": 34
        }
      ]
    },
    {
      "cell_type": "code",
      "metadata": {
        "id": "I4egVVuqOIh9"
      },
      "source": [
        "data = data[data['day_date']>='2019-01-01']\n",
        "data = data[data['day_date']<='2019-12-31']"
      ],
      "execution_count": 35,
      "outputs": []
    },
    {
      "cell_type": "code",
      "metadata": {
        "id": "dZimQxB1OVxH"
      },
      "source": [
        "#change company here\n",
        "data = data[data['ticker_symbol']=='AAPL']"
      ],
      "execution_count": 36,
      "outputs": []
    },
    {
      "cell_type": "code",
      "metadata": {
        "colab": {
          "base_uri": "https://localhost:8080/"
        },
        "id": "Z2scg_JKj70k",
        "outputId": "d346fd67-f33e-4bc8-874a-f426d96f0b58"
      },
      "source": [
        "len(data)"
      ],
      "execution_count": 37,
      "outputs": [
        {
          "output_type": "execute_result",
          "data": {
            "text/plain": [
              "365"
            ]
          },
          "metadata": {},
          "execution_count": 37
        }
      ]
    },
    {
      "cell_type": "code",
      "metadata": {
        "colab": {
          "base_uri": "https://localhost:8080/",
          "height": 206
        },
        "id": "V-rMylGbI4Il",
        "outputId": "d335f47f-3c9b-4ba5-d422-4d936eae7611"
      },
      "source": [
        "data.head()"
      ],
      "execution_count": 38,
      "outputs": [
        {
          "output_type": "execute_result",
          "data": {
            "text/html": [
              "<div>\n",
              "<style scoped>\n",
              "    .dataframe tbody tr th:only-of-type {\n",
              "        vertical-align: middle;\n",
              "    }\n",
              "\n",
              "    .dataframe tbody tr th {\n",
              "        vertical-align: top;\n",
              "    }\n",
              "\n",
              "    .dataframe thead th {\n",
              "        text-align: right;\n",
              "    }\n",
              "</style>\n",
              "<table border=\"1\" class=\"dataframe\">\n",
              "  <thead>\n",
              "    <tr style=\"text-align: right;\">\n",
              "      <th></th>\n",
              "      <th>ticker_symbol</th>\n",
              "      <th>day_date</th>\n",
              "      <th>close_value</th>\n",
              "      <th>volume</th>\n",
              "      <th>open_value</th>\n",
              "      <th>high_value</th>\n",
              "      <th>low_value</th>\n",
              "    </tr>\n",
              "  </thead>\n",
              "  <tbody>\n",
              "    <tr>\n",
              "      <th>103</th>\n",
              "      <td>AAPL</td>\n",
              "      <td>2019-12-31</td>\n",
              "      <td>293.65</td>\n",
              "      <td>25247630</td>\n",
              "      <td>289.93</td>\n",
              "      <td>293.68</td>\n",
              "      <td>289.5200</td>\n",
              "    </tr>\n",
              "    <tr>\n",
              "      <th>104</th>\n",
              "      <td>AAPL</td>\n",
              "      <td>2019-12-30</td>\n",
              "      <td>291.52</td>\n",
              "      <td>36059610</td>\n",
              "      <td>289.46</td>\n",
              "      <td>292.69</td>\n",
              "      <td>285.2200</td>\n",
              "    </tr>\n",
              "    <tr>\n",
              "      <th>105</th>\n",
              "      <td>AAPL</td>\n",
              "      <td>2019-12-27</td>\n",
              "      <td>289.80</td>\n",
              "      <td>36592940</td>\n",
              "      <td>291.12</td>\n",
              "      <td>293.97</td>\n",
              "      <td>288.1200</td>\n",
              "    </tr>\n",
              "    <tr>\n",
              "      <th>106</th>\n",
              "      <td>AAPL</td>\n",
              "      <td>2019-12-26</td>\n",
              "      <td>289.91</td>\n",
              "      <td>23334000</td>\n",
              "      <td>284.82</td>\n",
              "      <td>289.98</td>\n",
              "      <td>284.7000</td>\n",
              "    </tr>\n",
              "    <tr>\n",
              "      <th>107</th>\n",
              "      <td>AAPL</td>\n",
              "      <td>2019-12-24</td>\n",
              "      <td>284.27</td>\n",
              "      <td>12119710</td>\n",
              "      <td>284.69</td>\n",
              "      <td>284.89</td>\n",
              "      <td>282.9197</td>\n",
              "    </tr>\n",
              "  </tbody>\n",
              "</table>\n",
              "</div>"
            ],
            "text/plain": [
              "    ticker_symbol    day_date  close_value  ...  open_value  high_value  low_value\n",
              "103          AAPL  2019-12-31       293.65  ...      289.93      293.68   289.5200\n",
              "104          AAPL  2019-12-30       291.52  ...      289.46      292.69   285.2200\n",
              "105          AAPL  2019-12-27       289.80  ...      291.12      293.97   288.1200\n",
              "106          AAPL  2019-12-26       289.91  ...      284.82      289.98   284.7000\n",
              "107          AAPL  2019-12-24       284.27  ...      284.69      284.89   282.9197\n",
              "\n",
              "[5 rows x 7 columns]"
            ]
          },
          "metadata": {},
          "execution_count": 38
        }
      ]
    },
    {
      "cell_type": "code",
      "metadata": {
        "id": "SUanlDfaI5Im"
      },
      "source": [
        "company_tweet = pd.read_csv('/content/gdrive/MyDrive/Company_Tweet.csv')"
      ],
      "execution_count": 39,
      "outputs": []
    },
    {
      "cell_type": "code",
      "metadata": {
        "id": "TwOTX4xRJM-M"
      },
      "source": [
        "tweets = pd.read_csv('/content/gdrive/MyDrive/Tweet.csv')"
      ],
      "execution_count": 40,
      "outputs": []
    },
    {
      "cell_type": "code",
      "metadata": {
        "id": "0zugH1VSJP2o"
      },
      "source": [
        "import datetime\n",
        "\n",
        "tweets['day_date'] = pd.to_datetime(tweets['post_date'],unit='s').dt.strftime('%Y-%m-%d')"
      ],
      "execution_count": 41,
      "outputs": []
    },
    {
      "cell_type": "code",
      "metadata": {
        "id": "8X3YRoY8JSvg"
      },
      "source": [
        "tweets = tweets[tweets['day_date']>='2019-01-01']"
      ],
      "execution_count": 42,
      "outputs": []
    },
    {
      "cell_type": "code",
      "metadata": {
        "colab": {
          "base_uri": "https://localhost:8080/",
          "height": 206
        },
        "id": "J9SwJWbOJWaI",
        "outputId": "8fdc9fa9-7a99-4186-ae10-adf8e1ce002d"
      },
      "source": [
        "tweets.head()"
      ],
      "execution_count": 43,
      "outputs": [
        {
          "output_type": "execute_result",
          "data": {
            "text/html": [
              "<div>\n",
              "<style scoped>\n",
              "    .dataframe tbody tr th:only-of-type {\n",
              "        vertical-align: middle;\n",
              "    }\n",
              "\n",
              "    .dataframe tbody tr th {\n",
              "        vertical-align: top;\n",
              "    }\n",
              "\n",
              "    .dataframe thead th {\n",
              "        text-align: right;\n",
              "    }\n",
              "</style>\n",
              "<table border=\"1\" class=\"dataframe\">\n",
              "  <thead>\n",
              "    <tr style=\"text-align: right;\">\n",
              "      <th></th>\n",
              "      <th>tweet_id</th>\n",
              "      <th>writer</th>\n",
              "      <th>post_date</th>\n",
              "      <th>body</th>\n",
              "      <th>comment_num</th>\n",
              "      <th>retweet_num</th>\n",
              "      <th>like_num</th>\n",
              "      <th>day_date</th>\n",
              "    </tr>\n",
              "  </thead>\n",
              "  <tbody>\n",
              "    <tr>\n",
              "      <th>2958419</th>\n",
              "      <td>1079890068867817473</td>\n",
              "      <td>evdefender</td>\n",
              "      <td>1546300830</td>\n",
              "      <td>!!  8 Hours Left !!The picture you see here is...</td>\n",
              "      <td>6</td>\n",
              "      <td>16</td>\n",
              "      <td>82</td>\n",
              "      <td>2019-01-01</td>\n",
              "    </tr>\n",
              "    <tr>\n",
              "      <th>2958420</th>\n",
              "      <td>1079890105282842629</td>\n",
              "      <td>ExactOptionPick</td>\n",
              "      <td>1546300839</td>\n",
              "      <td>Don't miss our next FREE OPTION TRADE.  Sign u...</td>\n",
              "      <td>0</td>\n",
              "      <td>0</td>\n",
              "      <td>0</td>\n",
              "      <td>2019-01-01</td>\n",
              "    </tr>\n",
              "    <tr>\n",
              "      <th>2958421</th>\n",
              "      <td>1079890627335213057</td>\n",
              "      <td>traderDanielle</td>\n",
              "      <td>1546300963</td>\n",
              "      <td>Rinse and repeat - looking for entries in $XLC...</td>\n",
              "      <td>0</td>\n",
              "      <td>0</td>\n",
              "      <td>3</td>\n",
              "      <td>2019-01-01</td>\n",
              "    </tr>\n",
              "    <tr>\n",
              "      <th>2958422</th>\n",
              "      <td>1079890718326431745</td>\n",
              "      <td>O__rust</td>\n",
              "      <td>1546300985</td>\n",
              "      <td>$3750 would be the minimum discount in any cas...</td>\n",
              "      <td>0</td>\n",
              "      <td>0</td>\n",
              "      <td>0</td>\n",
              "      <td>2019-01-01</td>\n",
              "    </tr>\n",
              "    <tr>\n",
              "      <th>2958423</th>\n",
              "      <td>1079890782742503424</td>\n",
              "      <td>GunGermSteel</td>\n",
              "      <td>1546301000</td>\n",
              "      <td>There are FUDking analysts like those from gol...</td>\n",
              "      <td>0</td>\n",
              "      <td>0</td>\n",
              "      <td>1</td>\n",
              "      <td>2019-01-01</td>\n",
              "    </tr>\n",
              "  </tbody>\n",
              "</table>\n",
              "</div>"
            ],
            "text/plain": [
              "                    tweet_id           writer  ...  like_num    day_date\n",
              "2958419  1079890068867817473       evdefender  ...        82  2019-01-01\n",
              "2958420  1079890105282842629  ExactOptionPick  ...         0  2019-01-01\n",
              "2958421  1079890627335213057   traderDanielle  ...         3  2019-01-01\n",
              "2958422  1079890718326431745          O__rust  ...         0  2019-01-01\n",
              "2958423  1079890782742503424     GunGermSteel  ...         1  2019-01-01\n",
              "\n",
              "[5 rows x 8 columns]"
            ]
          },
          "metadata": {},
          "execution_count": 43
        }
      ]
    },
    {
      "cell_type": "code",
      "metadata": {
        "id": "c98L0ylBJYwH"
      },
      "source": [
        "tweets_data = pd.merge(tweets,company_tweet,on=['tweet_id'])"
      ],
      "execution_count": 44,
      "outputs": []
    },
    {
      "cell_type": "code",
      "metadata": {
        "colab": {
          "base_uri": "https://localhost:8080/",
          "height": 206
        },
        "id": "WYu4_MgZJcZk",
        "outputId": "27dd02a8-99ca-475f-dfaf-2cf510f183ca"
      },
      "source": [
        "tweets_data.head()"
      ],
      "execution_count": 45,
      "outputs": [
        {
          "output_type": "execute_result",
          "data": {
            "text/html": [
              "<div>\n",
              "<style scoped>\n",
              "    .dataframe tbody tr th:only-of-type {\n",
              "        vertical-align: middle;\n",
              "    }\n",
              "\n",
              "    .dataframe tbody tr th {\n",
              "        vertical-align: top;\n",
              "    }\n",
              "\n",
              "    .dataframe thead th {\n",
              "        text-align: right;\n",
              "    }\n",
              "</style>\n",
              "<table border=\"1\" class=\"dataframe\">\n",
              "  <thead>\n",
              "    <tr style=\"text-align: right;\">\n",
              "      <th></th>\n",
              "      <th>tweet_id</th>\n",
              "      <th>writer</th>\n",
              "      <th>post_date</th>\n",
              "      <th>body</th>\n",
              "      <th>comment_num</th>\n",
              "      <th>retweet_num</th>\n",
              "      <th>like_num</th>\n",
              "      <th>day_date</th>\n",
              "      <th>ticker_symbol</th>\n",
              "    </tr>\n",
              "  </thead>\n",
              "  <tbody>\n",
              "    <tr>\n",
              "      <th>0</th>\n",
              "      <td>1079890068867817473</td>\n",
              "      <td>evdefender</td>\n",
              "      <td>1546300830</td>\n",
              "      <td>!!  8 Hours Left !!The picture you see here is...</td>\n",
              "      <td>6</td>\n",
              "      <td>16</td>\n",
              "      <td>82</td>\n",
              "      <td>2019-01-01</td>\n",
              "      <td>TSLA</td>\n",
              "    </tr>\n",
              "    <tr>\n",
              "      <th>1</th>\n",
              "      <td>1079890105282842629</td>\n",
              "      <td>ExactOptionPick</td>\n",
              "      <td>1546300839</td>\n",
              "      <td>Don't miss our next FREE OPTION TRADE.  Sign u...</td>\n",
              "      <td>0</td>\n",
              "      <td>0</td>\n",
              "      <td>0</td>\n",
              "      <td>2019-01-01</td>\n",
              "      <td>GOOGL</td>\n",
              "    </tr>\n",
              "    <tr>\n",
              "      <th>2</th>\n",
              "      <td>1079890627335213057</td>\n",
              "      <td>traderDanielle</td>\n",
              "      <td>1546300963</td>\n",
              "      <td>Rinse and repeat - looking for entries in $XLC...</td>\n",
              "      <td>0</td>\n",
              "      <td>0</td>\n",
              "      <td>3</td>\n",
              "      <td>2019-01-01</td>\n",
              "      <td>GOOGL</td>\n",
              "    </tr>\n",
              "    <tr>\n",
              "      <th>3</th>\n",
              "      <td>1079890718326431745</td>\n",
              "      <td>O__rust</td>\n",
              "      <td>1546300985</td>\n",
              "      <td>$3750 would be the minimum discount in any cas...</td>\n",
              "      <td>0</td>\n",
              "      <td>0</td>\n",
              "      <td>0</td>\n",
              "      <td>2019-01-01</td>\n",
              "      <td>TSLA</td>\n",
              "    </tr>\n",
              "    <tr>\n",
              "      <th>4</th>\n",
              "      <td>1079890782742503424</td>\n",
              "      <td>GunGermSteel</td>\n",
              "      <td>1546301000</td>\n",
              "      <td>There are FUDking analysts like those from gol...</td>\n",
              "      <td>0</td>\n",
              "      <td>0</td>\n",
              "      <td>1</td>\n",
              "      <td>2019-01-01</td>\n",
              "      <td>TSLA</td>\n",
              "    </tr>\n",
              "  </tbody>\n",
              "</table>\n",
              "</div>"
            ],
            "text/plain": [
              "              tweet_id           writer  ...    day_date ticker_symbol\n",
              "0  1079890068867817473       evdefender  ...  2019-01-01          TSLA\n",
              "1  1079890105282842629  ExactOptionPick  ...  2019-01-01         GOOGL\n",
              "2  1079890627335213057   traderDanielle  ...  2019-01-01         GOOGL\n",
              "3  1079890718326431745          O__rust  ...  2019-01-01          TSLA\n",
              "4  1079890782742503424     GunGermSteel  ...  2019-01-01          TSLA\n",
              "\n",
              "[5 rows x 9 columns]"
            ]
          },
          "metadata": {},
          "execution_count": 45
        }
      ]
    },
    {
      "cell_type": "code",
      "metadata": {
        "id": "PRgHFkPxJcqD"
      },
      "source": [
        "#change company here\n",
        "tweets_apple = tweets_data[tweets_data['ticker_symbol']=='AAPL']"
      ],
      "execution_count": 46,
      "outputs": []
    },
    {
      "cell_type": "code",
      "metadata": {
        "colab": {
          "base_uri": "https://localhost:8080/",
          "height": 206
        },
        "id": "6MXh_m17UqnJ",
        "outputId": "b9dbc52e-9890-447a-8e9c-26eb6713476e"
      },
      "source": [
        "tweets_apple.head()"
      ],
      "execution_count": 47,
      "outputs": [
        {
          "output_type": "execute_result",
          "data": {
            "text/html": [
              "<div>\n",
              "<style scoped>\n",
              "    .dataframe tbody tr th:only-of-type {\n",
              "        vertical-align: middle;\n",
              "    }\n",
              "\n",
              "    .dataframe tbody tr th {\n",
              "        vertical-align: top;\n",
              "    }\n",
              "\n",
              "    .dataframe thead th {\n",
              "        text-align: right;\n",
              "    }\n",
              "</style>\n",
              "<table border=\"1\" class=\"dataframe\">\n",
              "  <thead>\n",
              "    <tr style=\"text-align: right;\">\n",
              "      <th></th>\n",
              "      <th>tweet_id</th>\n",
              "      <th>writer</th>\n",
              "      <th>post_date</th>\n",
              "      <th>body</th>\n",
              "      <th>comment_num</th>\n",
              "      <th>retweet_num</th>\n",
              "      <th>like_num</th>\n",
              "      <th>day_date</th>\n",
              "      <th>ticker_symbol</th>\n",
              "    </tr>\n",
              "  </thead>\n",
              "  <tbody>\n",
              "    <tr>\n",
              "      <th>12</th>\n",
              "      <td>1079893136095080448</td>\n",
              "      <td>NaN</td>\n",
              "      <td>1546301561</td>\n",
              "      <td>#In2019 I plan to mock the #TrumpTrain relentl...</td>\n",
              "      <td>0</td>\n",
              "      <td>0</td>\n",
              "      <td>0</td>\n",
              "      <td>2019-01-01</td>\n",
              "      <td>AAPL</td>\n",
              "    </tr>\n",
              "    <tr>\n",
              "      <th>13</th>\n",
              "      <td>1079893244417269762</td>\n",
              "      <td>MacHashNews</td>\n",
              "      <td>1546301587</td>\n",
              "      <td>How to upload photos into iCloud Photos from i...</td>\n",
              "      <td>0</td>\n",
              "      <td>0</td>\n",
              "      <td>0</td>\n",
              "      <td>2019-01-01</td>\n",
              "      <td>AAPL</td>\n",
              "    </tr>\n",
              "    <tr>\n",
              "      <th>16</th>\n",
              "      <td>1079895205795545089</td>\n",
              "      <td>permabear_uk</td>\n",
              "      <td>1546302055</td>\n",
              "      <td>$AAPL settled +1.0% at $157.74, and that made ...</td>\n",
              "      <td>0</td>\n",
              "      <td>0</td>\n",
              "      <td>5</td>\n",
              "      <td>2019-01-01</td>\n",
              "      <td>AAPL</td>\n",
              "    </tr>\n",
              "    <tr>\n",
              "      <th>17</th>\n",
              "      <td>1079895231523364864</td>\n",
              "      <td>AlpacaAlerts</td>\n",
              "      <td>1546302061</td>\n",
              "      <td>$AAPL is in Parabolic SAR Breakout winning 60....</td>\n",
              "      <td>0</td>\n",
              "      <td>0</td>\n",
              "      <td>0</td>\n",
              "      <td>2019-01-01</td>\n",
              "      <td>AAPL</td>\n",
              "    </tr>\n",
              "    <tr>\n",
              "      <th>22</th>\n",
              "      <td>1079896178941136897</td>\n",
              "      <td>SunDog8259</td>\n",
              "      <td>1546302287</td>\n",
              "      <td>Join @RobinhoodApp and we'll both get a stock ...</td>\n",
              "      <td>0</td>\n",
              "      <td>0</td>\n",
              "      <td>1</td>\n",
              "      <td>2019-01-01</td>\n",
              "      <td>AAPL</td>\n",
              "    </tr>\n",
              "  </tbody>\n",
              "</table>\n",
              "</div>"
            ],
            "text/plain": [
              "               tweet_id        writer  ...    day_date ticker_symbol\n",
              "12  1079893136095080448           NaN  ...  2019-01-01          AAPL\n",
              "13  1079893244417269762   MacHashNews  ...  2019-01-01          AAPL\n",
              "16  1079895205795545089  permabear_uk  ...  2019-01-01          AAPL\n",
              "17  1079895231523364864  AlpacaAlerts  ...  2019-01-01          AAPL\n",
              "22  1079896178941136897    SunDog8259  ...  2019-01-01          AAPL\n",
              "\n",
              "[5 rows x 9 columns]"
            ]
          },
          "metadata": {},
          "execution_count": 47
        }
      ]
    },
    {
      "cell_type": "code",
      "metadata": {
        "id": "WQuMMp68Jyns"
      },
      "source": [
        "tweets_metrics = tweets_apple[['day_date', 'comment_num', 'retweet_num', 'like_num']]\n",
        "tweets_metrics = tweets_metrics.groupby([\"day_date\"]).agg({'comment_num':'sum'})"
      ],
      "execution_count": 48,
      "outputs": []
    },
    {
      "cell_type": "code",
      "metadata": {
        "colab": {
          "base_uri": "https://localhost:8080/"
        },
        "id": "7exhVGD4J7u6",
        "outputId": "c48ff565-c5c6-496f-b275-046ac35e2b68"
      },
      "source": [
        "len(tweets_metrics)"
      ],
      "execution_count": 49,
      "outputs": [
        {
          "output_type": "execute_result",
          "data": {
            "text/plain": [
              "365"
            ]
          },
          "metadata": {},
          "execution_count": 49
        }
      ]
    },
    {
      "cell_type": "code",
      "metadata": {
        "colab": {
          "base_uri": "https://localhost:8080/",
          "height": 238
        },
        "id": "yiKRtl8VJ9cC",
        "outputId": "654de315-7303-462b-d20a-59b9c9ec3af8"
      },
      "source": [
        "tweets_metrics.head()"
      ],
      "execution_count": 50,
      "outputs": [
        {
          "output_type": "execute_result",
          "data": {
            "text/html": [
              "<div>\n",
              "<style scoped>\n",
              "    .dataframe tbody tr th:only-of-type {\n",
              "        vertical-align: middle;\n",
              "    }\n",
              "\n",
              "    .dataframe tbody tr th {\n",
              "        vertical-align: top;\n",
              "    }\n",
              "\n",
              "    .dataframe thead th {\n",
              "        text-align: right;\n",
              "    }\n",
              "</style>\n",
              "<table border=\"1\" class=\"dataframe\">\n",
              "  <thead>\n",
              "    <tr style=\"text-align: right;\">\n",
              "      <th></th>\n",
              "      <th>comment_num</th>\n",
              "    </tr>\n",
              "    <tr>\n",
              "      <th>day_date</th>\n",
              "      <th></th>\n",
              "    </tr>\n",
              "  </thead>\n",
              "  <tbody>\n",
              "    <tr>\n",
              "      <th>2019-01-01</th>\n",
              "      <td>64</td>\n",
              "    </tr>\n",
              "    <tr>\n",
              "      <th>2019-01-02</th>\n",
              "      <td>1450</td>\n",
              "    </tr>\n",
              "    <tr>\n",
              "      <th>2019-01-03</th>\n",
              "      <td>3096</td>\n",
              "    </tr>\n",
              "    <tr>\n",
              "      <th>2019-01-04</th>\n",
              "      <td>1058</td>\n",
              "    </tr>\n",
              "    <tr>\n",
              "      <th>2019-01-05</th>\n",
              "      <td>140</td>\n",
              "    </tr>\n",
              "  </tbody>\n",
              "</table>\n",
              "</div>"
            ],
            "text/plain": [
              "            comment_num\n",
              "day_date               \n",
              "2019-01-01           64\n",
              "2019-01-02         1450\n",
              "2019-01-03         3096\n",
              "2019-01-04         1058\n",
              "2019-01-05          140"
            ]
          },
          "metadata": {},
          "execution_count": 50
        }
      ]
    },
    {
      "cell_type": "code",
      "metadata": {
        "id": "3pvQ1-JgKYJH"
      },
      "source": [
        "total_data = pd.merge(data,tweets_metrics,on=['day_date'])"
      ],
      "execution_count": 51,
      "outputs": []
    },
    {
      "cell_type": "code",
      "metadata": {
        "colab": {
          "base_uri": "https://localhost:8080/",
          "height": 206
        },
        "id": "E1VoqgvZKiC4",
        "outputId": "1d499fb7-c965-4bb0-d96b-2a461af74702"
      },
      "source": [
        "total_data.head()"
      ],
      "execution_count": 52,
      "outputs": [
        {
          "output_type": "execute_result",
          "data": {
            "text/html": [
              "<div>\n",
              "<style scoped>\n",
              "    .dataframe tbody tr th:only-of-type {\n",
              "        vertical-align: middle;\n",
              "    }\n",
              "\n",
              "    .dataframe tbody tr th {\n",
              "        vertical-align: top;\n",
              "    }\n",
              "\n",
              "    .dataframe thead th {\n",
              "        text-align: right;\n",
              "    }\n",
              "</style>\n",
              "<table border=\"1\" class=\"dataframe\">\n",
              "  <thead>\n",
              "    <tr style=\"text-align: right;\">\n",
              "      <th></th>\n",
              "      <th>ticker_symbol</th>\n",
              "      <th>day_date</th>\n",
              "      <th>close_value</th>\n",
              "      <th>volume</th>\n",
              "      <th>open_value</th>\n",
              "      <th>high_value</th>\n",
              "      <th>low_value</th>\n",
              "      <th>comment_num</th>\n",
              "    </tr>\n",
              "  </thead>\n",
              "  <tbody>\n",
              "    <tr>\n",
              "      <th>0</th>\n",
              "      <td>AAPL</td>\n",
              "      <td>2019-12-31</td>\n",
              "      <td>293.65</td>\n",
              "      <td>25247630</td>\n",
              "      <td>289.93</td>\n",
              "      <td>293.68</td>\n",
              "      <td>289.5200</td>\n",
              "      <td>199</td>\n",
              "    </tr>\n",
              "    <tr>\n",
              "      <th>1</th>\n",
              "      <td>AAPL</td>\n",
              "      <td>2019-12-30</td>\n",
              "      <td>291.52</td>\n",
              "      <td>36059610</td>\n",
              "      <td>289.46</td>\n",
              "      <td>292.69</td>\n",
              "      <td>285.2200</td>\n",
              "      <td>334</td>\n",
              "    </tr>\n",
              "    <tr>\n",
              "      <th>2</th>\n",
              "      <td>AAPL</td>\n",
              "      <td>2019-12-27</td>\n",
              "      <td>289.80</td>\n",
              "      <td>36592940</td>\n",
              "      <td>291.12</td>\n",
              "      <td>293.97</td>\n",
              "      <td>288.1200</td>\n",
              "      <td>152</td>\n",
              "    </tr>\n",
              "    <tr>\n",
              "      <th>3</th>\n",
              "      <td>AAPL</td>\n",
              "      <td>2019-12-26</td>\n",
              "      <td>289.91</td>\n",
              "      <td>23334000</td>\n",
              "      <td>284.82</td>\n",
              "      <td>289.98</td>\n",
              "      <td>284.7000</td>\n",
              "      <td>258</td>\n",
              "    </tr>\n",
              "    <tr>\n",
              "      <th>4</th>\n",
              "      <td>AAPL</td>\n",
              "      <td>2019-12-24</td>\n",
              "      <td>284.27</td>\n",
              "      <td>12119710</td>\n",
              "      <td>284.69</td>\n",
              "      <td>284.89</td>\n",
              "      <td>282.9197</td>\n",
              "      <td>142</td>\n",
              "    </tr>\n",
              "  </tbody>\n",
              "</table>\n",
              "</div>"
            ],
            "text/plain": [
              "  ticker_symbol    day_date  close_value  ...  high_value  low_value  comment_num\n",
              "0          AAPL  2019-12-31       293.65  ...      293.68   289.5200          199\n",
              "1          AAPL  2019-12-30       291.52  ...      292.69   285.2200          334\n",
              "2          AAPL  2019-12-27       289.80  ...      293.97   288.1200          152\n",
              "3          AAPL  2019-12-26       289.91  ...      289.98   284.7000          258\n",
              "4          AAPL  2019-12-24       284.27  ...      284.89   282.9197          142\n",
              "\n",
              "[5 rows x 8 columns]"
            ]
          },
          "metadata": {},
          "execution_count": 52
        }
      ]
    },
    {
      "cell_type": "code",
      "metadata": {
        "colab": {
          "base_uri": "https://localhost:8080/",
          "height": 206
        },
        "id": "EvmrIye5Ko4o",
        "outputId": "d5c25499-4513-4421-b868-83d33ea627a2"
      },
      "source": [
        "sorted = total_data.sort_values(by=['day_date'],ascending=True)\n",
        "sorted = sorted.reset_index(drop=True)\n",
        "sorted.head()"
      ],
      "execution_count": 53,
      "outputs": [
        {
          "output_type": "execute_result",
          "data": {
            "text/html": [
              "<div>\n",
              "<style scoped>\n",
              "    .dataframe tbody tr th:only-of-type {\n",
              "        vertical-align: middle;\n",
              "    }\n",
              "\n",
              "    .dataframe tbody tr th {\n",
              "        vertical-align: top;\n",
              "    }\n",
              "\n",
              "    .dataframe thead th {\n",
              "        text-align: right;\n",
              "    }\n",
              "</style>\n",
              "<table border=\"1\" class=\"dataframe\">\n",
              "  <thead>\n",
              "    <tr style=\"text-align: right;\">\n",
              "      <th></th>\n",
              "      <th>ticker_symbol</th>\n",
              "      <th>day_date</th>\n",
              "      <th>close_value</th>\n",
              "      <th>volume</th>\n",
              "      <th>open_value</th>\n",
              "      <th>high_value</th>\n",
              "      <th>low_value</th>\n",
              "      <th>comment_num</th>\n",
              "    </tr>\n",
              "  </thead>\n",
              "  <tbody>\n",
              "    <tr>\n",
              "      <th>0</th>\n",
              "      <td>AAPL</td>\n",
              "      <td>2019-01-01</td>\n",
              "      <td>157.74</td>\n",
              "      <td>34499390</td>\n",
              "      <td>158.53</td>\n",
              "      <td>159.3600</td>\n",
              "      <td>156.48</td>\n",
              "      <td>64</td>\n",
              "    </tr>\n",
              "    <tr>\n",
              "      <th>1</th>\n",
              "      <td>AAPL</td>\n",
              "      <td>2019-01-02</td>\n",
              "      <td>157.92</td>\n",
              "      <td>35637070</td>\n",
              "      <td>154.89</td>\n",
              "      <td>158.8500</td>\n",
              "      <td>154.23</td>\n",
              "      <td>1450</td>\n",
              "    </tr>\n",
              "    <tr>\n",
              "      <th>2</th>\n",
              "      <td>AAPL</td>\n",
              "      <td>2019-01-03</td>\n",
              "      <td>142.19</td>\n",
              "      <td>91106840</td>\n",
              "      <td>143.98</td>\n",
              "      <td>145.7200</td>\n",
              "      <td>142.00</td>\n",
              "      <td>3096</td>\n",
              "    </tr>\n",
              "    <tr>\n",
              "      <th>3</th>\n",
              "      <td>AAPL</td>\n",
              "      <td>2019-01-04</td>\n",
              "      <td>148.26</td>\n",
              "      <td>57423650</td>\n",
              "      <td>144.53</td>\n",
              "      <td>148.5499</td>\n",
              "      <td>143.80</td>\n",
              "      <td>1058</td>\n",
              "    </tr>\n",
              "    <tr>\n",
              "      <th>4</th>\n",
              "      <td>AAPL</td>\n",
              "      <td>2019-01-05</td>\n",
              "      <td>148.26</td>\n",
              "      <td>57423650</td>\n",
              "      <td>144.53</td>\n",
              "      <td>148.5499</td>\n",
              "      <td>143.80</td>\n",
              "      <td>140</td>\n",
              "    </tr>\n",
              "  </tbody>\n",
              "</table>\n",
              "</div>"
            ],
            "text/plain": [
              "  ticker_symbol    day_date  close_value  ...  high_value  low_value  comment_num\n",
              "0          AAPL  2019-01-01       157.74  ...    159.3600     156.48           64\n",
              "1          AAPL  2019-01-02       157.92  ...    158.8500     154.23         1450\n",
              "2          AAPL  2019-01-03       142.19  ...    145.7200     142.00         3096\n",
              "3          AAPL  2019-01-04       148.26  ...    148.5499     143.80         1058\n",
              "4          AAPL  2019-01-05       148.26  ...    148.5499     143.80          140\n",
              "\n",
              "[5 rows x 8 columns]"
            ]
          },
          "metadata": {},
          "execution_count": 53
        }
      ]
    },
    {
      "cell_type": "code",
      "metadata": {
        "id": "rSCqyp2NXskH"
      },
      "source": [
        "cols = ['day_date','close_value','comment_num']\n",
        "final_data = sorted[cols]\n",
        "final_data.to_csv('apple.csv',index=True)"
      ],
      "execution_count": 54,
      "outputs": []
    },
    {
      "cell_type": "code",
      "metadata": {
        "colab": {
          "base_uri": "https://localhost:8080/",
          "height": 424
        },
        "id": "YPwILK12M-st",
        "outputId": "4270687f-afc3-49db-aa1b-7cc46a687d9d"
      },
      "source": [
        "final_data"
      ],
      "execution_count": 55,
      "outputs": [
        {
          "output_type": "execute_result",
          "data": {
            "text/html": [
              "<div>\n",
              "<style scoped>\n",
              "    .dataframe tbody tr th:only-of-type {\n",
              "        vertical-align: middle;\n",
              "    }\n",
              "\n",
              "    .dataframe tbody tr th {\n",
              "        vertical-align: top;\n",
              "    }\n",
              "\n",
              "    .dataframe thead th {\n",
              "        text-align: right;\n",
              "    }\n",
              "</style>\n",
              "<table border=\"1\" class=\"dataframe\">\n",
              "  <thead>\n",
              "    <tr style=\"text-align: right;\">\n",
              "      <th></th>\n",
              "      <th>day_date</th>\n",
              "      <th>close_value</th>\n",
              "      <th>comment_num</th>\n",
              "    </tr>\n",
              "  </thead>\n",
              "  <tbody>\n",
              "    <tr>\n",
              "      <th>0</th>\n",
              "      <td>2019-01-01</td>\n",
              "      <td>157.74</td>\n",
              "      <td>64</td>\n",
              "    </tr>\n",
              "    <tr>\n",
              "      <th>1</th>\n",
              "      <td>2019-01-02</td>\n",
              "      <td>157.92</td>\n",
              "      <td>1450</td>\n",
              "    </tr>\n",
              "    <tr>\n",
              "      <th>2</th>\n",
              "      <td>2019-01-03</td>\n",
              "      <td>142.19</td>\n",
              "      <td>3096</td>\n",
              "    </tr>\n",
              "    <tr>\n",
              "      <th>3</th>\n",
              "      <td>2019-01-04</td>\n",
              "      <td>148.26</td>\n",
              "      <td>1058</td>\n",
              "    </tr>\n",
              "    <tr>\n",
              "      <th>4</th>\n",
              "      <td>2019-01-05</td>\n",
              "      <td>148.26</td>\n",
              "      <td>140</td>\n",
              "    </tr>\n",
              "    <tr>\n",
              "      <th>...</th>\n",
              "      <td>...</td>\n",
              "      <td>...</td>\n",
              "      <td>...</td>\n",
              "    </tr>\n",
              "    <tr>\n",
              "      <th>360</th>\n",
              "      <td>2019-12-27</td>\n",
              "      <td>289.80</td>\n",
              "      <td>152</td>\n",
              "    </tr>\n",
              "    <tr>\n",
              "      <th>361</th>\n",
              "      <td>2019-12-28</td>\n",
              "      <td>289.80</td>\n",
              "      <td>113</td>\n",
              "    </tr>\n",
              "    <tr>\n",
              "      <th>362</th>\n",
              "      <td>2019-12-29</td>\n",
              "      <td>289.80</td>\n",
              "      <td>75</td>\n",
              "    </tr>\n",
              "    <tr>\n",
              "      <th>363</th>\n",
              "      <td>2019-12-30</td>\n",
              "      <td>291.52</td>\n",
              "      <td>334</td>\n",
              "    </tr>\n",
              "    <tr>\n",
              "      <th>364</th>\n",
              "      <td>2019-12-31</td>\n",
              "      <td>293.65</td>\n",
              "      <td>199</td>\n",
              "    </tr>\n",
              "  </tbody>\n",
              "</table>\n",
              "<p>365 rows × 3 columns</p>\n",
              "</div>"
            ],
            "text/plain": [
              "       day_date  close_value  comment_num\n",
              "0    2019-01-01       157.74           64\n",
              "1    2019-01-02       157.92         1450\n",
              "2    2019-01-03       142.19         3096\n",
              "3    2019-01-04       148.26         1058\n",
              "4    2019-01-05       148.26          140\n",
              "..          ...          ...          ...\n",
              "360  2019-12-27       289.80          152\n",
              "361  2019-12-28       289.80          113\n",
              "362  2019-12-29       289.80           75\n",
              "363  2019-12-30       291.52          334\n",
              "364  2019-12-31       293.65          199\n",
              "\n",
              "[365 rows x 3 columns]"
            ]
          },
          "metadata": {},
          "execution_count": 55
        }
      ]
    },
    {
      "cell_type": "code",
      "metadata": {
        "id": "6VFsY0IKNAp5"
      },
      "source": [
        ""
      ],
      "execution_count": null,
      "outputs": []
    }
  ]
}