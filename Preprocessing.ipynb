{
  "nbformat": 4,
  "nbformat_minor": 0,
  "metadata": {
    "colab": {
      "name": "MLProject_preprocessing.ipynb",
      "provenance": [],
      "collapsed_sections": []
    },
    "kernelspec": {
      "name": "python3",
      "display_name": "Python 3"
    },
    "language_info": {
      "name": "python"
    }
  },
  "cells": [
    {
      "cell_type": "code",
      "metadata": {
        "colab": {
          "base_uri": "https://localhost:8080/"
        },
        "id": "6kQpd3S4e0wd",
        "outputId": "4c2b6a0c-45aa-421b-c900-9f54191d30f1"
      },
      "source": [
        "from google.colab import drive\n",
        "\n",
        "drive.mount('/content/gdrive',force_remount=True)"
      ],
      "execution_count": 120,
      "outputs": [
        {
          "output_type": "stream",
          "name": "stdout",
          "text": [
            "Mounted at /content/gdrive\n"
          ]
        }
      ]
    },
    {
      "cell_type": "code",
      "metadata": {
        "id": "hoep_dtNe5Yq"
      },
      "source": [
        "import numpy as np\n",
        "import pandas as pd\n",
        "import matplotlib.pyplot as plt"
      ],
      "execution_count": 121,
      "outputs": []
    },
    {
      "cell_type": "code",
      "metadata": {
        "id": "lK6mKfWee7Oo"
      },
      "source": [
        "tags = pd.read_csv('/content/gdrive/MyDrive/Company.csv')"
      ],
      "execution_count": 122,
      "outputs": []
    },
    {
      "cell_type": "code",
      "metadata": {
        "id": "9b0FD22ne9MI"
      },
      "source": [
        "data = pd.read_csv('/content/gdrive/MyDrive/CompanyValues.csv')"
      ],
      "execution_count": 123,
      "outputs": []
    },
    {
      "cell_type": "code",
      "metadata": {
        "id": "AQ0ZfcaNfcF9"
      },
      "source": [
        "company_tweet = pd.read_csv('/content/gdrive/MyDrive/Company_Tweet.csv')"
      ],
      "execution_count": 124,
      "outputs": []
    },
    {
      "cell_type": "code",
      "metadata": {
        "id": "2vpN59xPfdrG"
      },
      "source": [
        "tweets = pd.read_csv('/content/gdrive/MyDrive/Tweet.csv')"
      ],
      "execution_count": 125,
      "outputs": []
    },
    {
      "cell_type": "markdown",
      "metadata": {
        "id": "rool0nZ0k-Sp"
      },
      "source": [
        "Tweet related stuff"
      ]
    },
    {
      "cell_type": "code",
      "metadata": {
        "id": "KrcLUC3fg2HQ"
      },
      "source": [
        "import datetime\n",
        "\n",
        "tweets['day_date'] = pd.to_datetime(tweets['post_date'],unit='s').dt.strftime('%Y-%m-%d')"
      ],
      "execution_count": 126,
      "outputs": []
    },
    {
      "cell_type": "code",
      "metadata": {
        "colab": {
          "base_uri": "https://localhost:8080/",
          "height": 293
        },
        "id": "XLjW3fItg_2T",
        "outputId": "496c2dec-9140-4190-8b8a-d3f420ac4d5a"
      },
      "source": [
        "tweets.head()"
      ],
      "execution_count": 127,
      "outputs": [
        {
          "output_type": "execute_result",
          "data": {
            "text/html": [
              "<div>\n",
              "<style scoped>\n",
              "    .dataframe tbody tr th:only-of-type {\n",
              "        vertical-align: middle;\n",
              "    }\n",
              "\n",
              "    .dataframe tbody tr th {\n",
              "        vertical-align: top;\n",
              "    }\n",
              "\n",
              "    .dataframe thead th {\n",
              "        text-align: right;\n",
              "    }\n",
              "</style>\n",
              "<table border=\"1\" class=\"dataframe\">\n",
              "  <thead>\n",
              "    <tr style=\"text-align: right;\">\n",
              "      <th></th>\n",
              "      <th>tweet_id</th>\n",
              "      <th>writer</th>\n",
              "      <th>post_date</th>\n",
              "      <th>body</th>\n",
              "      <th>comment_num</th>\n",
              "      <th>retweet_num</th>\n",
              "      <th>like_num</th>\n",
              "      <th>day_date</th>\n",
              "    </tr>\n",
              "  </thead>\n",
              "  <tbody>\n",
              "    <tr>\n",
              "      <th>0</th>\n",
              "      <td>550441509175443456</td>\n",
              "      <td>VisualStockRSRC</td>\n",
              "      <td>1420070457</td>\n",
              "      <td>lx21 made $10,008  on $AAPL -Check it out! htt...</td>\n",
              "      <td>0</td>\n",
              "      <td>0</td>\n",
              "      <td>1</td>\n",
              "      <td>2015-01-01</td>\n",
              "    </tr>\n",
              "    <tr>\n",
              "      <th>1</th>\n",
              "      <td>550441672312512512</td>\n",
              "      <td>KeralaGuy77</td>\n",
              "      <td>1420070496</td>\n",
              "      <td>Insanity of today weirdo massive selling. $aap...</td>\n",
              "      <td>0</td>\n",
              "      <td>0</td>\n",
              "      <td>0</td>\n",
              "      <td>2015-01-01</td>\n",
              "    </tr>\n",
              "    <tr>\n",
              "      <th>2</th>\n",
              "      <td>550441732014223360</td>\n",
              "      <td>DozenStocks</td>\n",
              "      <td>1420070510</td>\n",
              "      <td>S&amp;P100 #Stocks Performance $HD $LOW $SBUX $TGT...</td>\n",
              "      <td>0</td>\n",
              "      <td>0</td>\n",
              "      <td>0</td>\n",
              "      <td>2015-01-01</td>\n",
              "    </tr>\n",
              "    <tr>\n",
              "      <th>3</th>\n",
              "      <td>550442977802207232</td>\n",
              "      <td>ShowDreamCar</td>\n",
              "      <td>1420070807</td>\n",
              "      <td>$GM $TSLA: Volkswagen Pushes 2014 Record Recal...</td>\n",
              "      <td>0</td>\n",
              "      <td>0</td>\n",
              "      <td>1</td>\n",
              "      <td>2015-01-01</td>\n",
              "    </tr>\n",
              "    <tr>\n",
              "      <th>4</th>\n",
              "      <td>550443807834402816</td>\n",
              "      <td>i_Know_First</td>\n",
              "      <td>1420071005</td>\n",
              "      <td>Swing Trading: Up To 8.91% Return In 14 Days h...</td>\n",
              "      <td>0</td>\n",
              "      <td>0</td>\n",
              "      <td>1</td>\n",
              "      <td>2015-01-01</td>\n",
              "    </tr>\n",
              "  </tbody>\n",
              "</table>\n",
              "</div>"
            ],
            "text/plain": [
              "             tweet_id           writer  ...  like_num    day_date\n",
              "0  550441509175443456  VisualStockRSRC  ...         1  2015-01-01\n",
              "1  550441672312512512      KeralaGuy77  ...         0  2015-01-01\n",
              "2  550441732014223360      DozenStocks  ...         0  2015-01-01\n",
              "3  550442977802207232     ShowDreamCar  ...         1  2015-01-01\n",
              "4  550443807834402816     i_Know_First  ...         1  2015-01-01\n",
              "\n",
              "[5 rows x 8 columns]"
            ]
          },
          "metadata": {},
          "execution_count": 127
        }
      ]
    },
    {
      "cell_type": "code",
      "metadata": {
        "id": "Yg-EeZG7hBXs"
      },
      "source": [
        "tweets = tweets[tweets['day_date']>='2018-12-25']"
      ],
      "execution_count": 128,
      "outputs": []
    },
    {
      "cell_type": "code",
      "metadata": {
        "id": "asdAVjkIhIEH"
      },
      "source": [
        "tweets_data = pd.merge(tweets,company_tweet,on=['tweet_id'])"
      ],
      "execution_count": 129,
      "outputs": []
    },
    {
      "cell_type": "code",
      "metadata": {
        "id": "ZY0nzHc7hNtJ"
      },
      "source": [
        "#change company here\n",
        "tweets_apple = tweets_data[tweets_data['ticker_symbol']=='AAPL']"
      ],
      "execution_count": 130,
      "outputs": []
    },
    {
      "cell_type": "code",
      "metadata": {
        "colab": {
          "base_uri": "https://localhost:8080/"
        },
        "id": "6Ai_oQ1AhtFS",
        "outputId": "6a2bc304-b781-476e-82c0-bd928d93518e"
      },
      "source": [
        "len(tweets_apple)"
      ],
      "execution_count": 131,
      "outputs": [
        {
          "output_type": "execute_result",
          "data": {
            "text/plain": [
              "219412"
            ]
          },
          "metadata": {},
          "execution_count": 131
        }
      ]
    },
    {
      "cell_type": "code",
      "metadata": {
        "colab": {
          "base_uri": "https://localhost:8080/",
          "height": 504
        },
        "id": "sJhRr2O-hyo4",
        "outputId": "8c3d5f0a-ea8d-47b3-c209-373fcb62664f"
      },
      "source": [
        "tweets_apple['num_tweets'] = 1\n",
        "tweets_apple.head()"
      ],
      "execution_count": 132,
      "outputs": [
        {
          "output_type": "stream",
          "name": "stderr",
          "text": [
            "/usr/local/lib/python3.7/dist-packages/ipykernel_launcher.py:1: SettingWithCopyWarning: \n",
            "A value is trying to be set on a copy of a slice from a DataFrame.\n",
            "Try using .loc[row_indexer,col_indexer] = value instead\n",
            "\n",
            "See the caveats in the documentation: https://pandas.pydata.org/pandas-docs/stable/user_guide/indexing.html#returning-a-view-versus-a-copy\n",
            "  \"\"\"Entry point for launching an IPython kernel.\n"
          ]
        },
        {
          "output_type": "execute_result",
          "data": {
            "text/html": [
              "<div>\n",
              "<style scoped>\n",
              "    .dataframe tbody tr th:only-of-type {\n",
              "        vertical-align: middle;\n",
              "    }\n",
              "\n",
              "    .dataframe tbody tr th {\n",
              "        vertical-align: top;\n",
              "    }\n",
              "\n",
              "    .dataframe thead th {\n",
              "        text-align: right;\n",
              "    }\n",
              "</style>\n",
              "<table border=\"1\" class=\"dataframe\">\n",
              "  <thead>\n",
              "    <tr style=\"text-align: right;\">\n",
              "      <th></th>\n",
              "      <th>tweet_id</th>\n",
              "      <th>writer</th>\n",
              "      <th>post_date</th>\n",
              "      <th>body</th>\n",
              "      <th>comment_num</th>\n",
              "      <th>retweet_num</th>\n",
              "      <th>like_num</th>\n",
              "      <th>day_date</th>\n",
              "      <th>ticker_symbol</th>\n",
              "      <th>num_tweets</th>\n",
              "    </tr>\n",
              "  </thead>\n",
              "  <tbody>\n",
              "    <tr>\n",
              "      <th>8</th>\n",
              "      <td>1077354833198399488</td>\n",
              "      <td>HitTheBidRadio</td>\n",
              "      <td>1545696383</td>\n",
              "      <td>$AAPL damn https://stocktwits.com/HitTheBidRad...</td>\n",
              "      <td>0</td>\n",
              "      <td>0</td>\n",
              "      <td>3</td>\n",
              "      <td>2018-12-25</td>\n",
              "      <td>AAPL</td>\n",
              "      <td>1</td>\n",
              "    </tr>\n",
              "    <tr>\n",
              "      <th>9</th>\n",
              "      <td>1077354945156972544</td>\n",
              "      <td>HitTheBidRadio</td>\n",
              "      <td>1545696409</td>\n",
              "      <td>$AAPL crazy https://stocktwits.com/HitTheBidRa...</td>\n",
              "      <td>0</td>\n",
              "      <td>0</td>\n",
              "      <td>1</td>\n",
              "      <td>2018-12-25</td>\n",
              "      <td>AAPL</td>\n",
              "      <td>1</td>\n",
              "    </tr>\n",
              "    <tr>\n",
              "      <th>15</th>\n",
              "      <td>1077356407291301890</td>\n",
              "      <td>otc_cyborg</td>\n",
              "      <td>1545696758</td>\n",
              "      <td>Investor: Bitcoin Won’t Fall To $0, Will Weath...</td>\n",
              "      <td>0</td>\n",
              "      <td>0</td>\n",
              "      <td>3</td>\n",
              "      <td>2018-12-25</td>\n",
              "      <td>AAPL</td>\n",
              "      <td>1</td>\n",
              "    </tr>\n",
              "    <tr>\n",
              "      <th>24</th>\n",
              "      <td>1077358595233234944</td>\n",
              "      <td>jsfree1</td>\n",
              "      <td>1545697280</td>\n",
              "      <td>Join @RobinhoodApp and we'll both get a stock ...</td>\n",
              "      <td>0</td>\n",
              "      <td>0</td>\n",
              "      <td>1</td>\n",
              "      <td>2018-12-25</td>\n",
              "      <td>AAPL</td>\n",
              "      <td>1</td>\n",
              "    </tr>\n",
              "    <tr>\n",
              "      <th>25</th>\n",
              "      <td>1077359076181454849</td>\n",
              "      <td>DaBoyYody</td>\n",
              "      <td>1545697394</td>\n",
              "      <td>Join @RobinhoodApp and we'll both get a stock ...</td>\n",
              "      <td>0</td>\n",
              "      <td>0</td>\n",
              "      <td>1</td>\n",
              "      <td>2018-12-25</td>\n",
              "      <td>AAPL</td>\n",
              "      <td>1</td>\n",
              "    </tr>\n",
              "  </tbody>\n",
              "</table>\n",
              "</div>"
            ],
            "text/plain": [
              "               tweet_id          writer  ...  ticker_symbol num_tweets\n",
              "8   1077354833198399488  HitTheBidRadio  ...           AAPL          1\n",
              "9   1077354945156972544  HitTheBidRadio  ...           AAPL          1\n",
              "15  1077356407291301890      otc_cyborg  ...           AAPL          1\n",
              "24  1077358595233234944         jsfree1  ...           AAPL          1\n",
              "25  1077359076181454849       DaBoyYody  ...           AAPL          1\n",
              "\n",
              "[5 rows x 10 columns]"
            ]
          },
          "metadata": {},
          "execution_count": 132
        }
      ]
    },
    {
      "cell_type": "code",
      "metadata": {
        "id": "G4HrkE4cjkG6"
      },
      "source": [
        "columns = ['day_date','num_tweets']\n",
        "tweets_final_data = tweets_apple[columns].groupby([\"day_date\"]).sum()"
      ],
      "execution_count": 133,
      "outputs": []
    },
    {
      "cell_type": "code",
      "metadata": {
        "colab": {
          "base_uri": "https://localhost:8080/"
        },
        "id": "pUD7J3NwipNe",
        "outputId": "7731604e-20a7-49f6-c0dd-fe4a06c06b76"
      },
      "source": [
        "len(tweets_final_data)"
      ],
      "execution_count": 134,
      "outputs": [
        {
          "output_type": "execute_result",
          "data": {
            "text/plain": [
              "372"
            ]
          },
          "metadata": {},
          "execution_count": 134
        }
      ]
    },
    {
      "cell_type": "markdown",
      "metadata": {
        "id": "wv3aDQgBkX6e"
      },
      "source": [
        "Price related stuff"
      ]
    },
    {
      "cell_type": "code",
      "metadata": {
        "id": "xtc9L6xdkDtc"
      },
      "source": [
        "#taking 2019 prices\n",
        "data = data[data['day_date']>='2018-12-25']\n",
        "data = data[data['day_date']<='2019-12-31']"
      ],
      "execution_count": 135,
      "outputs": []
    },
    {
      "cell_type": "code",
      "metadata": {
        "id": "7fiyc7bRkGnV"
      },
      "source": [
        "#change company here\n",
        "data = data[data['ticker_symbol']=='AAPL']"
      ],
      "execution_count": 136,
      "outputs": []
    },
    {
      "cell_type": "code",
      "metadata": {
        "colab": {
          "base_uri": "https://localhost:8080/"
        },
        "id": "xztvkfaJkJDh",
        "outputId": "7f9695e9-7081-42bb-9376-b07a57da7ce1"
      },
      "source": [
        "len(data)"
      ],
      "execution_count": 137,
      "outputs": [
        {
          "output_type": "execute_result",
          "data": {
            "text/plain": [
              "372"
            ]
          },
          "metadata": {},
          "execution_count": 137
        }
      ]
    },
    {
      "cell_type": "code",
      "metadata": {
        "colab": {
          "base_uri": "https://localhost:8080/",
          "height": 206
        },
        "id": "Fq_P1jj8kQCb",
        "outputId": "f2f64375-6de7-4370-f64a-8d19d0ea351b"
      },
      "source": [
        "data.head()"
      ],
      "execution_count": 138,
      "outputs": [
        {
          "output_type": "execute_result",
          "data": {
            "text/html": [
              "<div>\n",
              "<style scoped>\n",
              "    .dataframe tbody tr th:only-of-type {\n",
              "        vertical-align: middle;\n",
              "    }\n",
              "\n",
              "    .dataframe tbody tr th {\n",
              "        vertical-align: top;\n",
              "    }\n",
              "\n",
              "    .dataframe thead th {\n",
              "        text-align: right;\n",
              "    }\n",
              "</style>\n",
              "<table border=\"1\" class=\"dataframe\">\n",
              "  <thead>\n",
              "    <tr style=\"text-align: right;\">\n",
              "      <th></th>\n",
              "      <th>ticker_symbol</th>\n",
              "      <th>day_date</th>\n",
              "      <th>close_value</th>\n",
              "      <th>volume</th>\n",
              "      <th>open_value</th>\n",
              "      <th>high_value</th>\n",
              "      <th>low_value</th>\n",
              "    </tr>\n",
              "  </thead>\n",
              "  <tbody>\n",
              "    <tr>\n",
              "      <th>103</th>\n",
              "      <td>AAPL</td>\n",
              "      <td>2019-12-31</td>\n",
              "      <td>293.65</td>\n",
              "      <td>25247630</td>\n",
              "      <td>289.93</td>\n",
              "      <td>293.68</td>\n",
              "      <td>289.5200</td>\n",
              "    </tr>\n",
              "    <tr>\n",
              "      <th>104</th>\n",
              "      <td>AAPL</td>\n",
              "      <td>2019-12-30</td>\n",
              "      <td>291.52</td>\n",
              "      <td>36059610</td>\n",
              "      <td>289.46</td>\n",
              "      <td>292.69</td>\n",
              "      <td>285.2200</td>\n",
              "    </tr>\n",
              "    <tr>\n",
              "      <th>105</th>\n",
              "      <td>AAPL</td>\n",
              "      <td>2019-12-27</td>\n",
              "      <td>289.80</td>\n",
              "      <td>36592940</td>\n",
              "      <td>291.12</td>\n",
              "      <td>293.97</td>\n",
              "      <td>288.1200</td>\n",
              "    </tr>\n",
              "    <tr>\n",
              "      <th>106</th>\n",
              "      <td>AAPL</td>\n",
              "      <td>2019-12-26</td>\n",
              "      <td>289.91</td>\n",
              "      <td>23334000</td>\n",
              "      <td>284.82</td>\n",
              "      <td>289.98</td>\n",
              "      <td>284.7000</td>\n",
              "    </tr>\n",
              "    <tr>\n",
              "      <th>107</th>\n",
              "      <td>AAPL</td>\n",
              "      <td>2019-12-24</td>\n",
              "      <td>284.27</td>\n",
              "      <td>12119710</td>\n",
              "      <td>284.69</td>\n",
              "      <td>284.89</td>\n",
              "      <td>282.9197</td>\n",
              "    </tr>\n",
              "  </tbody>\n",
              "</table>\n",
              "</div>"
            ],
            "text/plain": [
              "    ticker_symbol    day_date  close_value  ...  open_value  high_value  low_value\n",
              "103          AAPL  2019-12-31       293.65  ...      289.93      293.68   289.5200\n",
              "104          AAPL  2019-12-30       291.52  ...      289.46      292.69   285.2200\n",
              "105          AAPL  2019-12-27       289.80  ...      291.12      293.97   288.1200\n",
              "106          AAPL  2019-12-26       289.91  ...      284.82      289.98   284.7000\n",
              "107          AAPL  2019-12-24       284.27  ...      284.69      284.89   282.9197\n",
              "\n",
              "[5 rows x 7 columns]"
            ]
          },
          "metadata": {},
          "execution_count": 138
        }
      ]
    },
    {
      "cell_type": "markdown",
      "metadata": {
        "id": "8j8BYKfMlH95"
      },
      "source": [
        "Merging both"
      ]
    },
    {
      "cell_type": "code",
      "metadata": {
        "id": "NAXENzOOkTm4"
      },
      "source": [
        "total_data = pd.merge(data,tweets_final_data,on=['day_date'])"
      ],
      "execution_count": 139,
      "outputs": []
    },
    {
      "cell_type": "code",
      "metadata": {
        "colab": {
          "base_uri": "https://localhost:8080/"
        },
        "id": "qYY9tvCMlOTQ",
        "outputId": "ca3421d9-5374-40b1-d0b5-8b9c349965bd"
      },
      "source": [
        "len(total_data)"
      ],
      "execution_count": 140,
      "outputs": [
        {
          "output_type": "execute_result",
          "data": {
            "text/plain": [
              "372"
            ]
          },
          "metadata": {},
          "execution_count": 140
        }
      ]
    },
    {
      "cell_type": "code",
      "metadata": {
        "colab": {
          "base_uri": "https://localhost:8080/",
          "height": 330
        },
        "id": "RjWEf0iblPqD",
        "outputId": "623b434a-d2f2-489b-85b0-fd9b93daf0e1"
      },
      "source": [
        "sorted = total_data.sort_values(by=['day_date'],ascending=True)\n",
        "sorted = sorted.reset_index(drop=True)\n",
        "\n",
        "\n",
        "final_data = sorted[['day_date','close_value','num_tweets']]\n",
        "\n",
        "lag_days = 7\n",
        "\n",
        "final_data['log_close_value'] = np.log(final_data['close_value'])\n",
        "\n",
        "temp = np.diff(final_data['log_close_value'], n=lag_days)\n",
        "final_data = final_data[-365:]\n",
        "final_data['lag_log_close_value'] = temp[-365:]\n",
        "final_data['log_num_tweets'] = np.log(final_data['num_tweets'])\n",
        "\n",
        "final_data.head()"
      ],
      "execution_count": 141,
      "outputs": [
        {
          "output_type": "stream",
          "name": "stderr",
          "text": [
            "/usr/local/lib/python3.7/dist-packages/ipykernel_launcher.py:9: SettingWithCopyWarning: \n",
            "A value is trying to be set on a copy of a slice from a DataFrame.\n",
            "Try using .loc[row_indexer,col_indexer] = value instead\n",
            "\n",
            "See the caveats in the documentation: https://pandas.pydata.org/pandas-docs/stable/user_guide/indexing.html#returning-a-view-versus-a-copy\n",
            "  if __name__ == '__main__':\n"
          ]
        },
        {
          "output_type": "execute_result",
          "data": {
            "text/html": [
              "<div>\n",
              "<style scoped>\n",
              "    .dataframe tbody tr th:only-of-type {\n",
              "        vertical-align: middle;\n",
              "    }\n",
              "\n",
              "    .dataframe tbody tr th {\n",
              "        vertical-align: top;\n",
              "    }\n",
              "\n",
              "    .dataframe thead th {\n",
              "        text-align: right;\n",
              "    }\n",
              "</style>\n",
              "<table border=\"1\" class=\"dataframe\">\n",
              "  <thead>\n",
              "    <tr style=\"text-align: right;\">\n",
              "      <th></th>\n",
              "      <th>day_date</th>\n",
              "      <th>close_value</th>\n",
              "      <th>num_tweets</th>\n",
              "      <th>log_close_value</th>\n",
              "      <th>lag_log_close_value</th>\n",
              "      <th>log_num_tweets</th>\n",
              "    </tr>\n",
              "  </thead>\n",
              "  <tbody>\n",
              "    <tr>\n",
              "      <th>7</th>\n",
              "      <td>2019-01-01</td>\n",
              "      <td>157.74</td>\n",
              "      <td>249</td>\n",
              "      <td>5.060948</td>\n",
              "      <td>0.057088</td>\n",
              "      <td>5.517453</td>\n",
              "    </tr>\n",
              "    <tr>\n",
              "      <th>8</th>\n",
              "      <td>2019-01-02</td>\n",
              "      <td>157.92</td>\n",
              "      <td>1734</td>\n",
              "      <td>5.062089</td>\n",
              "      <td>0.135839</td>\n",
              "      <td>7.458186</td>\n",
              "    </tr>\n",
              "    <tr>\n",
              "      <th>9</th>\n",
              "      <td>2019-01-03</td>\n",
              "      <td>142.19</td>\n",
              "      <td>4943</td>\n",
              "      <td>4.957164</td>\n",
              "      <td>-0.303632</td>\n",
              "      <td>8.505728</td>\n",
              "    </tr>\n",
              "    <tr>\n",
              "      <th>10</th>\n",
              "      <td>2019-01-04</td>\n",
              "      <td>148.26</td>\n",
              "      <td>1682</td>\n",
              "      <td>4.998967</td>\n",
              "      <td>0.832739</td>\n",
              "      <td>7.427739</td>\n",
              "    </tr>\n",
              "    <tr>\n",
              "      <th>11</th>\n",
              "      <td>2019-01-05</td>\n",
              "      <td>148.26</td>\n",
              "      <td>535</td>\n",
              "      <td>4.998967</td>\n",
              "      <td>-1.905208</td>\n",
              "      <td>6.282267</td>\n",
              "    </tr>\n",
              "  </tbody>\n",
              "</table>\n",
              "</div>"
            ],
            "text/plain": [
              "      day_date  close_value  ...  lag_log_close_value  log_num_tweets\n",
              "7   2019-01-01       157.74  ...             0.057088        5.517453\n",
              "8   2019-01-02       157.92  ...             0.135839        7.458186\n",
              "9   2019-01-03       142.19  ...            -0.303632        8.505728\n",
              "10  2019-01-04       148.26  ...             0.832739        7.427739\n",
              "11  2019-01-05       148.26  ...            -1.905208        6.282267\n",
              "\n",
              "[5 rows x 6 columns]"
            ]
          },
          "metadata": {},
          "execution_count": 141
        }
      ]
    },
    {
      "cell_type": "code",
      "metadata": {
        "colab": {
          "base_uri": "https://localhost:8080/",
          "height": 282
        },
        "id": "6JjXUOkopWcn",
        "outputId": "f0ce5fa0-bace-47f6-e866-0062ccb5c619"
      },
      "source": [
        "import matplotlib.pyplot as plt\n",
        "\n",
        "plt.scatter(final_data['close_value'],final_data['num_tweets'])"
      ],
      "execution_count": 142,
      "outputs": [
        {
          "output_type": "execute_result",
          "data": {
            "text/plain": [
              "<matplotlib.collections.PathCollection at 0x7f95bf9e4150>"
            ]
          },
          "metadata": {},
          "execution_count": 142
        },
        {
          "output_type": "display_data",
          "data": {
            "image/png": "[encoded data removed]",
            "text/plain": [
              "<Figure size 432x288 with 1 Axes>"
            ]
          },
          "metadata": {
            "needs_background": "light"
          }
        }
      ]
    },
    {
      "cell_type": "code",
      "metadata": {
        "colab": {
          "base_uri": "https://localhost:8080/",
          "height": 282
        },
        "id": "bMMtH7c3pxri",
        "outputId": "aa6f945b-0fdd-4574-981b-2552cf517095"
      },
      "source": [
        "plt.scatter(final_data['log_close_value'],final_data['log_num_tweets'])"
      ],
      "execution_count": 143,
      "outputs": [
        {
          "output_type": "execute_result",
          "data": {
            "text/plain": [
              "<matplotlib.collections.PathCollection at 0x7f95cf960590>"
            ]
          },
          "metadata": {},
          "execution_count": 143
        },
        {
          "output_type": "display_data",
          "data": {
            "image/png": "[encoded data removed]",
            "text/plain": [
              "<Figure size 432x288 with 1 Axes>"
            ]
          },
          "metadata": {
            "needs_background": "light"
          }
        }
      ]
    },
    {
      "cell_type": "code",
      "metadata": {
        "colab": {
          "base_uri": "https://localhost:8080/",
          "height": 282
        },
        "id": "hJm8uakVqHNF",
        "outputId": "d2aac75a-7b23-4425-9702-7fa32e9bb8d8"
      },
      "source": [
        "plt.scatter(final_data['lag_log_close_value'],final_data['log_num_tweets'])"
      ],
      "execution_count": 144,
      "outputs": [
        {
          "output_type": "execute_result",
          "data": {
            "text/plain": [
              "<matplotlib.collections.PathCollection at 0x7f95cf948450>"
            ]
          },
          "metadata": {},
          "execution_count": 144
        },
        {
          "output_type": "display_data",
          "data": {
            "image/png": "[encoded data removed]",
            "text/plain": [
              "<Figure size 432x288 with 1 Axes>"
            ]
          },
          "metadata": {
            "needs_background": "light"
          }
        }
      ]
    },
    {
      "cell_type": "code",
      "metadata": {
        "colab": {
          "base_uri": "https://localhost:8080/",
          "height": 286
        },
        "id": "eo1LjMQLqJMM",
        "outputId": "3709dbdc-efa9-457b-cd86-80a42008646e"
      },
      "source": [
        "plt.plot(final_data.lag_log_close_value)"
      ],
      "execution_count": 145,
      "outputs": [
        {
          "output_type": "execute_result",
          "data": {
            "text/plain": [
              "[<matplotlib.lines.Line2D at 0x7f957f591ed0>]"
            ]
          },
          "metadata": {},
          "execution_count": 145
        },
        {
          "output_type": "display_data",
          "data": {
            "image/png": "[encoded data removed]",
            "text/plain": [
              "<Figure size 432x288 with 1 Axes>"
            ]
          },
          "metadata": {
            "needs_background": "light"
          }
        }
      ]
    },
    {
      "cell_type": "code",
      "metadata": {
        "id": "pHpnqBLSqkoo"
      },
      "source": [
        "final_data.to_csv('final_data_apple.csv',index=True)"
      ],
      "execution_count": 146,
      "outputs": []
    },
    {
      "cell_type": "code",
      "metadata": {
        "id": "Q27KLH7Lscan"
      },
      "source": [
        ""
      ],
      "execution_count": null,
      "outputs": []
    }
  ]
}