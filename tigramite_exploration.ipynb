{
 "cells": [
  {
   "cell_type": "code",
   "execution_count": 1,
   "source": [
    "import numpy as np\r\n",
    "from tigramite.pcmci import PCMCI\r\n",
    "from tigramite.independence_tests import ParCorr\r\n",
    "import tigramite.data_processing as pp\r\n",
    "# Example process to play around with\r\n",
    "# Each key refers to a variable and the incoming links are supplied\r\n",
    "# as a list of format [((var, -lag), coeff, function), ...]\r\n",
    "def lin_f(x): return x\r\n",
    "links = {0: [((0, -1), 0.9, lin_f)],\r\n",
    "             1: [((1, -1), 0.8, lin_f), ((0, -1), 0.8, lin_f)],\r\n",
    "             2: [((2, -1), 0.7, lin_f), ((1, 0), 0.6, lin_f)],\r\n",
    "             3: [((3, -1), 0.7, lin_f), ((2, 0), -0.5, lin_f)],\r\n",
    "             }\r\n",
    "data, nonstat = pp.structural_causal_process(links,\r\n",
    "                    T=1000, seed=7)\r\n",
    "# Data must be array of shape (time, variables)\r\n",
    "print (data.shape)\r\n",
    "\r\n",
    "dataframe = pp.DataFrame(data)\r\n",
    "cond_ind_test = ParCorr()\r\n",
    "pcmci = PCMCI(dataframe=dataframe, cond_ind_test=cond_ind_test)\r\n",
    "results = pcmci.run_pcmciplus(tau_min=0, tau_max=2, pc_alpha=0.01)\r\n",
    "pcmci.print_results(results, alpha_level=0.01)\r\n",
    "## Significant links at alpha = 0.01:\r\n"
   ],
   "outputs": [
    {
     "output_type": "stream",
     "name": "stdout",
     "text": [
      "(1000, 4)\n",
      "\n",
      "## Significant links at alpha = 0.01:\n",
      "\n",
      "    Variable 0 has 1 link(s):\n",
      "        (0 -1): pval = 0.00000 | val =  0.676\n",
      "\n",
      "    Variable 1 has 2 link(s):\n",
      "        (1 -1): pval = 0.00000 | val =  0.602\n",
      "        (0 -1): pval = 0.00000 | val =  0.599\n",
      "\n",
      "    Variable 2 has 2 link(s):\n",
      "        (1  0): pval = 0.00000 | val =  0.486\n",
      "        (2 -1): pval = 0.00000 | val =  0.466\n",
      "\n",
      "    Variable 3 has 2 link(s):\n",
      "        (3 -1): pval = 0.00000 | val =  0.524\n",
      "        (2  0): pval = 0.00000 | val = -0.449\n"
     ]
    },
    {
     "output_type": "stream",
     "name": "stderr",
     "text": [
      "C:\\Users\\diego\\anaconda3\\envs\\tigramite\\lib\\site-packages\\tigramite-4.2.2.1-py3.7-win-amd64.egg\\tigramite\\independence_tests\\gpdc_torch.py:18: UserWarning: No module named 'torch'\n",
      "  warnings.warn(str(e))\n"
     ]
    }
   ],
   "metadata": {}
  }
 ],
 "metadata": {
  "orig_nbformat": 4,
  "language_info": {
   "name": "python",
   "version": "3.8.11",
   "mimetype": "text/x-python",
   "codemirror_mode": {
    "name": "ipython",
    "version": 3
   },
   "pygments_lexer": "ipython3",
   "nbconvert_exporter": "python",
   "file_extension": ".py"
  },
  "kernelspec": {
   "name": "python3",
   "display_name": "Python 3.8.11 64-bit ('tigramite': conda)"
  },
  "interpreter": {
   "hash": "dd7bbbc6676346622c5ab670a1b2db1646d1e351d51851fad8faab3ac3f4a710"
  }
 },
 "nbformat": 4,
 "nbformat_minor": 2
}